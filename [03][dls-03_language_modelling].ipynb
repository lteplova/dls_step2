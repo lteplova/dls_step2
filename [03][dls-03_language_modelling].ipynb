{
  "metadata": {
    "accelerator": "GPU",
    "colab": {
      "provenance": [],
      "toc_visible": true
    },
    "gpuClass": "standard",
    "kernelspec": {
      "name": "python3",
      "display_name": "Python 3",
      "language": "python"
    },
    "language_info": {
      "name": "python",
      "version": "3.10.13",
      "mimetype": "text/x-python",
      "codemirror_mode": {
        "name": "ipython",
        "version": 3
      },
      "pygments_lexer": "ipython3",
      "nbconvert_exporter": "python",
      "file_extension": ".py"
    },
    "widgets": {
      "application/vnd.jupyter.widget-state+json": {
        "3045c3b0421e455a9a6e8202276a260a": {
          "model_module": "@jupyter-widgets/controls",
          "model_name": "HBoxModel",
          "model_module_version": "1.5.0",
          "state": {
            "_dom_classes": [],
            "_model_module": "@jupyter-widgets/controls",
            "_model_module_version": "1.5.0",
            "_model_name": "HBoxModel",
            "_view_count": null,
            "_view_module": "@jupyter-widgets/controls",
            "_view_module_version": "1.5.0",
            "_view_name": "HBoxView",
            "box_style": "",
            "children": [
              "IPY_MODEL_d0b7f303005e4898811e19d7901ad4ac",
              "IPY_MODEL_06d54567176c4aaca5a361a8d93dee45",
              "IPY_MODEL_57219bb716ee4bc38cfb2880894a9f42"
            ],
            "layout": "IPY_MODEL_cee423674ae844e3a17155d65314dbbf"
          }
        },
        "d0b7f303005e4898811e19d7901ad4ac": {
          "model_module": "@jupyter-widgets/controls",
          "model_name": "HTMLModel",
          "model_module_version": "1.5.0",
          "state": {
            "_dom_classes": [],
            "_model_module": "@jupyter-widgets/controls",
            "_model_module_version": "1.5.0",
            "_model_name": "HTMLModel",
            "_view_count": null,
            "_view_module": "@jupyter-widgets/controls",
            "_view_module_version": "1.5.0",
            "_view_name": "HTMLView",
            "description": "",
            "description_tooltip": null,
            "layout": "IPY_MODEL_ea58adbd7bda48eea95b1764315420ee",
            "placeholder": "​",
            "style": "IPY_MODEL_534b783a0e734b348d0411054f7125ce",
            "value": "Downloading readme: 100%"
          }
        },
        "06d54567176c4aaca5a361a8d93dee45": {
          "model_module": "@jupyter-widgets/controls",
          "model_name": "FloatProgressModel",
          "model_module_version": "1.5.0",
          "state": {
            "_dom_classes": [],
            "_model_module": "@jupyter-widgets/controls",
            "_model_module_version": "1.5.0",
            "_model_name": "FloatProgressModel",
            "_view_count": null,
            "_view_module": "@jupyter-widgets/controls",
            "_view_module_version": "1.5.0",
            "_view_name": "ProgressView",
            "bar_style": "success",
            "description": "",
            "description_tooltip": null,
            "layout": "IPY_MODEL_8e2d6c6808ce4e048cae604f5bed7958",
            "max": 7809,
            "min": 0,
            "orientation": "horizontal",
            "style": "IPY_MODEL_e1a516f80d184b81814c22c063fde560",
            "value": 7809
          }
        },
        "57219bb716ee4bc38cfb2880894a9f42": {
          "model_module": "@jupyter-widgets/controls",
          "model_name": "HTMLModel",
          "model_module_version": "1.5.0",
          "state": {
            "_dom_classes": [],
            "_model_module": "@jupyter-widgets/controls",
            "_model_module_version": "1.5.0",
            "_model_name": "HTMLModel",
            "_view_count": null,
            "_view_module": "@jupyter-widgets/controls",
            "_view_module_version": "1.5.0",
            "_view_name": "HTMLView",
            "description": "",
            "description_tooltip": null,
            "layout": "IPY_MODEL_f6c4ca71e85745389449f7436fb26b6e",
            "placeholder": "​",
            "style": "IPY_MODEL_471cda97f1224a029889bf1e62f12f77",
            "value": " 7.81k/7.81k [00:00&lt;00:00, 250kB/s]"
          }
        },
        "cee423674ae844e3a17155d65314dbbf": {
          "model_module": "@jupyter-widgets/base",
          "model_name": "LayoutModel",
          "model_module_version": "1.2.0",
          "state": {
            "_model_module": "@jupyter-widgets/base",
            "_model_module_version": "1.2.0",
            "_model_name": "LayoutModel",
            "_view_count": null,
            "_view_module": "@jupyter-widgets/base",
            "_view_module_version": "1.2.0",
            "_view_name": "LayoutView",
            "align_content": null,
            "align_items": null,
            "align_self": null,
            "border": null,
            "bottom": null,
            "display": null,
            "flex": null,
            "flex_flow": null,
            "grid_area": null,
            "grid_auto_columns": null,
            "grid_auto_flow": null,
            "grid_auto_rows": null,
            "grid_column": null,
            "grid_gap": null,
            "grid_row": null,
            "grid_template_areas": null,
            "grid_template_columns": null,
            "grid_template_rows": null,
            "height": null,
            "justify_content": null,
            "justify_items": null,
            "left": null,
            "margin": null,
            "max_height": null,
            "max_width": null,
            "min_height": null,
            "min_width": null,
            "object_fit": null,
            "object_position": null,
            "order": null,
            "overflow": null,
            "overflow_x": null,
            "overflow_y": null,
            "padding": null,
            "right": null,
            "top": null,
            "visibility": null,
            "width": null
          }
        },
        "ea58adbd7bda48eea95b1764315420ee": {
          "model_module": "@jupyter-widgets/base",
          "model_name": "LayoutModel",
          "model_module_version": "1.2.0",
          "state": {
            "_model_module": "@jupyter-widgets/base",
            "_model_module_version": "1.2.0",
            "_model_name": "LayoutModel",
            "_view_count": null,
            "_view_module": "@jupyter-widgets/base",
            "_view_module_version": "1.2.0",
            "_view_name": "LayoutView",
            "align_content": null,
            "align_items": null,
            "align_self": null,
            "border": null,
            "bottom": null,
            "display": null,
            "flex": null,
            "flex_flow": null,
            "grid_area": null,
            "grid_auto_columns": null,
            "grid_auto_flow": null,
            "grid_auto_rows": null,
            "grid_column": null,
            "grid_gap": null,
            "grid_row": null,
            "grid_template_areas": null,
            "grid_template_columns": null,
            "grid_template_rows": null,
            "height": null,
            "justify_content": null,
            "justify_items": null,
            "left": null,
            "margin": null,
            "max_height": null,
            "max_width": null,
            "min_height": null,
            "min_width": null,
            "object_fit": null,
            "object_position": null,
            "order": null,
            "overflow": null,
            "overflow_x": null,
            "overflow_y": null,
            "padding": null,
            "right": null,
            "top": null,
            "visibility": null,
            "width": null
          }
        },
        "534b783a0e734b348d0411054f7125ce": {
          "model_module": "@jupyter-widgets/controls",
          "model_name": "DescriptionStyleModel",
          "model_module_version": "1.5.0",
          "state": {
            "_model_module": "@jupyter-widgets/controls",
            "_model_module_version": "1.5.0",
            "_model_name": "DescriptionStyleModel",
            "_view_count": null,
            "_view_module": "@jupyter-widgets/base",
            "_view_module_version": "1.2.0",
            "_view_name": "StyleView",
            "description_width": ""
          }
        },
        "8e2d6c6808ce4e048cae604f5bed7958": {
          "model_module": "@jupyter-widgets/base",
          "model_name": "LayoutModel",
          "model_module_version": "1.2.0",
          "state": {
            "_model_module": "@jupyter-widgets/base",
            "_model_module_version": "1.2.0",
            "_model_name": "LayoutModel",
            "_view_count": null,
            "_view_module": "@jupyter-widgets/base",
            "_view_module_version": "1.2.0",
            "_view_name": "LayoutView",
            "align_content": null,
            "align_items": null,
            "align_self": null,
            "border": null,
            "bottom": null,
            "display": null,
            "flex": null,
            "flex_flow": null,
            "grid_area": null,
            "grid_auto_columns": null,
            "grid_auto_flow": null,
            "grid_auto_rows": null,
            "grid_column": null,
            "grid_gap": null,
            "grid_row": null,
            "grid_template_areas": null,
            "grid_template_columns": null,
            "grid_template_rows": null,
            "height": null,
            "justify_content": null,
            "justify_items": null,
            "left": null,
            "margin": null,
            "max_height": null,
            "max_width": null,
            "min_height": null,
            "min_width": null,
            "object_fit": null,
            "object_position": null,
            "order": null,
            "overflow": null,
            "overflow_x": null,
            "overflow_y": null,
            "padding": null,
            "right": null,
            "top": null,
            "visibility": null,
            "width": null
          }
        },
        "e1a516f80d184b81814c22c063fde560": {
          "model_module": "@jupyter-widgets/controls",
          "model_name": "ProgressStyleModel",
          "model_module_version": "1.5.0",
          "state": {
            "_model_module": "@jupyter-widgets/controls",
            "_model_module_version": "1.5.0",
            "_model_name": "ProgressStyleModel",
            "_view_count": null,
            "_view_module": "@jupyter-widgets/base",
            "_view_module_version": "1.2.0",
            "_view_name": "StyleView",
            "bar_color": null,
            "description_width": ""
          }
        },
        "f6c4ca71e85745389449f7436fb26b6e": {
          "model_module": "@jupyter-widgets/base",
          "model_name": "LayoutModel",
          "model_module_version": "1.2.0",
          "state": {
            "_model_module": "@jupyter-widgets/base",
            "_model_module_version": "1.2.0",
            "_model_name": "LayoutModel",
            "_view_count": null,
            "_view_module": "@jupyter-widgets/base",
            "_view_module_version": "1.2.0",
            "_view_name": "LayoutView",
            "align_content": null,
            "align_items": null,
            "align_self": null,
            "border": null,
            "bottom": null,
            "display": null,
            "flex": null,
            "flex_flow": null,
            "grid_area": null,
            "grid_auto_columns": null,
            "grid_auto_flow": null,
            "grid_auto_rows": null,
            "grid_column": null,
            "grid_gap": null,
            "grid_row": null,
            "grid_template_areas": null,
            "grid_template_columns": null,
            "grid_template_rows": null,
            "height": null,
            "justify_content": null,
            "justify_items": null,
            "left": null,
            "margin": null,
            "max_height": null,
            "max_width": null,
            "min_height": null,
            "min_width": null,
            "object_fit": null,
            "object_position": null,
            "order": null,
            "overflow": null,
            "overflow_x": null,
            "overflow_y": null,
            "padding": null,
            "right": null,
            "top": null,
            "visibility": null,
            "width": null
          }
        },
        "471cda97f1224a029889bf1e62f12f77": {
          "model_module": "@jupyter-widgets/controls",
          "model_name": "DescriptionStyleModel",
          "model_module_version": "1.5.0",
          "state": {
            "_model_module": "@jupyter-widgets/controls",
            "_model_module_version": "1.5.0",
            "_model_name": "DescriptionStyleModel",
            "_view_count": null,
            "_view_module": "@jupyter-widgets/base",
            "_view_module_version": "1.2.0",
            "_view_name": "StyleView",
            "description_width": ""
          }
        },
        "69801ca71fae4f26aa9966bf32b56884": {
          "model_module": "@jupyter-widgets/controls",
          "model_name": "HBoxModel",
          "model_module_version": "1.5.0",
          "state": {
            "_dom_classes": [],
            "_model_module": "@jupyter-widgets/controls",
            "_model_module_version": "1.5.0",
            "_model_name": "HBoxModel",
            "_view_count": null,
            "_view_module": "@jupyter-widgets/controls",
            "_view_module_version": "1.5.0",
            "_view_name": "HBoxView",
            "box_style": "",
            "children": [
              "IPY_MODEL_faac24217e0a464a97af3eb4e875e6f6",
              "IPY_MODEL_0190837d5c49462e9606b27aa714806f",
              "IPY_MODEL_aebf052ddd2046f6a9cfb46ef562e8bc"
            ],
            "layout": "IPY_MODEL_62a90d0704ba4056b97ed862e6e04c95"
          }
        },
        "faac24217e0a464a97af3eb4e875e6f6": {
          "model_module": "@jupyter-widgets/controls",
          "model_name": "HTMLModel",
          "model_module_version": "1.5.0",
          "state": {
            "_dom_classes": [],
            "_model_module": "@jupyter-widgets/controls",
            "_model_module_version": "1.5.0",
            "_model_name": "HTMLModel",
            "_view_count": null,
            "_view_module": "@jupyter-widgets/controls",
            "_view_module_version": "1.5.0",
            "_view_name": "HTMLView",
            "description": "",
            "description_tooltip": null,
            "layout": "IPY_MODEL_3379cfa14570417f96dcd431ca7c27b4",
            "placeholder": "​",
            "style": "IPY_MODEL_24541c2507c84f2b806524fc37779896",
            "value": "Downloading data: 100%"
          }
        },
        "0190837d5c49462e9606b27aa714806f": {
          "model_module": "@jupyter-widgets/controls",
          "model_name": "FloatProgressModel",
          "model_module_version": "1.5.0",
          "state": {
            "_dom_classes": [],
            "_model_module": "@jupyter-widgets/controls",
            "_model_module_version": "1.5.0",
            "_model_name": "FloatProgressModel",
            "_view_count": null,
            "_view_module": "@jupyter-widgets/controls",
            "_view_module_version": "1.5.0",
            "_view_name": "ProgressView",
            "bar_style": "success",
            "description": "",
            "description_tooltip": null,
            "layout": "IPY_MODEL_3d9b76a665ef428c938d5388006c62f6",
            "max": 20979968,
            "min": 0,
            "orientation": "horizontal",
            "style": "IPY_MODEL_8986735e59704bff9a31812188f8c5fa",
            "value": 20979968
          }
        },
        "aebf052ddd2046f6a9cfb46ef562e8bc": {
          "model_module": "@jupyter-widgets/controls",
          "model_name": "HTMLModel",
          "model_module_version": "1.5.0",
          "state": {
            "_dom_classes": [],
            "_model_module": "@jupyter-widgets/controls",
            "_model_module_version": "1.5.0",
            "_model_name": "HTMLModel",
            "_view_count": null,
            "_view_module": "@jupyter-widgets/controls",
            "_view_module_version": "1.5.0",
            "_view_name": "HTMLView",
            "description": "",
            "description_tooltip": null,
            "layout": "IPY_MODEL_8542bfde103e4ee8b14892ee5b184cda",
            "placeholder": "​",
            "style": "IPY_MODEL_09ddd94e5f044c829e74d7d1d2041d5a",
            "value": " 21.0M/21.0M [00:01&lt;00:00, 15.9MB/s]"
          }
        },
        "62a90d0704ba4056b97ed862e6e04c95": {
          "model_module": "@jupyter-widgets/base",
          "model_name": "LayoutModel",
          "model_module_version": "1.2.0",
          "state": {
            "_model_module": "@jupyter-widgets/base",
            "_model_module_version": "1.2.0",
            "_model_name": "LayoutModel",
            "_view_count": null,
            "_view_module": "@jupyter-widgets/base",
            "_view_module_version": "1.2.0",
            "_view_name": "LayoutView",
            "align_content": null,
            "align_items": null,
            "align_self": null,
            "border": null,
            "bottom": null,
            "display": null,
            "flex": null,
            "flex_flow": null,
            "grid_area": null,
            "grid_auto_columns": null,
            "grid_auto_flow": null,
            "grid_auto_rows": null,
            "grid_column": null,
            "grid_gap": null,
            "grid_row": null,
            "grid_template_areas": null,
            "grid_template_columns": null,
            "grid_template_rows": null,
            "height": null,
            "justify_content": null,
            "justify_items": null,
            "left": null,
            "margin": null,
            "max_height": null,
            "max_width": null,
            "min_height": null,
            "min_width": null,
            "object_fit": null,
            "object_position": null,
            "order": null,
            "overflow": null,
            "overflow_x": null,
            "overflow_y": null,
            "padding": null,
            "right": null,
            "top": null,
            "visibility": null,
            "width": null
          }
        },
        "3379cfa14570417f96dcd431ca7c27b4": {
          "model_module": "@jupyter-widgets/base",
          "model_name": "LayoutModel",
          "model_module_version": "1.2.0",
          "state": {
            "_model_module": "@jupyter-widgets/base",
            "_model_module_version": "1.2.0",
            "_model_name": "LayoutModel",
            "_view_count": null,
            "_view_module": "@jupyter-widgets/base",
            "_view_module_version": "1.2.0",
            "_view_name": "LayoutView",
            "align_content": null,
            "align_items": null,
            "align_self": null,
            "border": null,
            "bottom": null,
            "display": null,
            "flex": null,
            "flex_flow": null,
            "grid_area": null,
            "grid_auto_columns": null,
            "grid_auto_flow": null,
            "grid_auto_rows": null,
            "grid_column": null,
            "grid_gap": null,
            "grid_row": null,
            "grid_template_areas": null,
            "grid_template_columns": null,
            "grid_template_rows": null,
            "height": null,
            "justify_content": null,
            "justify_items": null,
            "left": null,
            "margin": null,
            "max_height": null,
            "max_width": null,
            "min_height": null,
            "min_width": null,
            "object_fit": null,
            "object_position": null,
            "order": null,
            "overflow": null,
            "overflow_x": null,
            "overflow_y": null,
            "padding": null,
            "right": null,
            "top": null,
            "visibility": null,
            "width": null
          }
        },
        "24541c2507c84f2b806524fc37779896": {
          "model_module": "@jupyter-widgets/controls",
          "model_name": "DescriptionStyleModel",
          "model_module_version": "1.5.0",
          "state": {
            "_model_module": "@jupyter-widgets/controls",
            "_model_module_version": "1.5.0",
            "_model_name": "DescriptionStyleModel",
            "_view_count": null,
            "_view_module": "@jupyter-widgets/base",
            "_view_module_version": "1.2.0",
            "_view_name": "StyleView",
            "description_width": ""
          }
        },
        "3d9b76a665ef428c938d5388006c62f6": {
          "model_module": "@jupyter-widgets/base",
          "model_name": "LayoutModel",
          "model_module_version": "1.2.0",
          "state": {
            "_model_module": "@jupyter-widgets/base",
            "_model_module_version": "1.2.0",
            "_model_name": "LayoutModel",
            "_view_count": null,
            "_view_module": "@jupyter-widgets/base",
            "_view_module_version": "1.2.0",
            "_view_name": "LayoutView",
            "align_content": null,
            "align_items": null,
            "align_self": null,
            "border": null,
            "bottom": null,
            "display": null,
            "flex": null,
            "flex_flow": null,
            "grid_area": null,
            "grid_auto_columns": null,
            "grid_auto_flow": null,
            "grid_auto_rows": null,
            "grid_column": null,
            "grid_gap": null,
            "grid_row": null,
            "grid_template_areas": null,
            "grid_template_columns": null,
            "grid_template_rows": null,
            "height": null,
            "justify_content": null,
            "justify_items": null,
            "left": null,
            "margin": null,
            "max_height": null,
            "max_width": null,
            "min_height": null,
            "min_width": null,
            "object_fit": null,
            "object_position": null,
            "order": null,
            "overflow": null,
            "overflow_x": null,
            "overflow_y": null,
            "padding": null,
            "right": null,
            "top": null,
            "visibility": null,
            "width": null
          }
        },
        "8986735e59704bff9a31812188f8c5fa": {
          "model_module": "@jupyter-widgets/controls",
          "model_name": "ProgressStyleModel",
          "model_module_version": "1.5.0",
          "state": {
            "_model_module": "@jupyter-widgets/controls",
            "_model_module_version": "1.5.0",
            "_model_name": "ProgressStyleModel",
            "_view_count": null,
            "_view_module": "@jupyter-widgets/base",
            "_view_module_version": "1.2.0",
            "_view_name": "StyleView",
            "bar_color": null,
            "description_width": ""
          }
        },
        "8542bfde103e4ee8b14892ee5b184cda": {
          "model_module": "@jupyter-widgets/base",
          "model_name": "LayoutModel",
          "model_module_version": "1.2.0",
          "state": {
            "_model_module": "@jupyter-widgets/base",
            "_model_module_version": "1.2.0",
            "_model_name": "LayoutModel",
            "_view_count": null,
            "_view_module": "@jupyter-widgets/base",
            "_view_module_version": "1.2.0",
            "_view_name": "LayoutView",
            "align_content": null,
            "align_items": null,
            "align_self": null,
            "border": null,
            "bottom": null,
            "display": null,
            "flex": null,
            "flex_flow": null,
            "grid_area": null,
            "grid_auto_columns": null,
            "grid_auto_flow": null,
            "grid_auto_rows": null,
            "grid_column": null,
            "grid_gap": null,
            "grid_row": null,
            "grid_template_areas": null,
            "grid_template_columns": null,
            "grid_template_rows": null,
            "height": null,
            "justify_content": null,
            "justify_items": null,
            "left": null,
            "margin": null,
            "max_height": null,
            "max_width": null,
            "min_height": null,
            "min_width": null,
            "object_fit": null,
            "object_position": null,
            "order": null,
            "overflow": null,
            "overflow_x": null,
            "overflow_y": null,
            "padding": null,
            "right": null,
            "top": null,
            "visibility": null,
            "width": null
          }
        },
        "09ddd94e5f044c829e74d7d1d2041d5a": {
          "model_module": "@jupyter-widgets/controls",
          "model_name": "DescriptionStyleModel",
          "model_module_version": "1.5.0",
          "state": {
            "_model_module": "@jupyter-widgets/controls",
            "_model_module_version": "1.5.0",
            "_model_name": "DescriptionStyleModel",
            "_view_count": null,
            "_view_module": "@jupyter-widgets/base",
            "_view_module_version": "1.2.0",
            "_view_name": "StyleView",
            "description_width": ""
          }
        },
        "d54e24152d1e456bb9f6c9e445c05557": {
          "model_module": "@jupyter-widgets/controls",
          "model_name": "HBoxModel",
          "model_module_version": "1.5.0",
          "state": {
            "_dom_classes": [],
            "_model_module": "@jupyter-widgets/controls",
            "_model_module_version": "1.5.0",
            "_model_name": "HBoxModel",
            "_view_count": null,
            "_view_module": "@jupyter-widgets/controls",
            "_view_module_version": "1.5.0",
            "_view_name": "HBoxView",
            "box_style": "",
            "children": [
              "IPY_MODEL_abdb2d9070fd4247bede2ca2c7ba150e",
              "IPY_MODEL_87dba02abb304830b5eba19590de1593",
              "IPY_MODEL_8f39be7126974d1395a2a0b8d4e0c315"
            ],
            "layout": "IPY_MODEL_08a9aad18db04f678340d32eacec7d3c"
          }
        },
        "abdb2d9070fd4247bede2ca2c7ba150e": {
          "model_module": "@jupyter-widgets/controls",
          "model_name": "HTMLModel",
          "model_module_version": "1.5.0",
          "state": {
            "_dom_classes": [],
            "_model_module": "@jupyter-widgets/controls",
            "_model_module_version": "1.5.0",
            "_model_name": "HTMLModel",
            "_view_count": null,
            "_view_module": "@jupyter-widgets/controls",
            "_view_module_version": "1.5.0",
            "_view_name": "HTMLView",
            "description": "",
            "description_tooltip": null,
            "layout": "IPY_MODEL_18ecd5ed7d544ebfa614adb30b8953db",
            "placeholder": "​",
            "style": "IPY_MODEL_726c7e2f806744f1a95126102c092641",
            "value": "Downloading data: 100%"
          }
        },
        "87dba02abb304830b5eba19590de1593": {
          "model_module": "@jupyter-widgets/controls",
          "model_name": "FloatProgressModel",
          "model_module_version": "1.5.0",
          "state": {
            "_dom_classes": [],
            "_model_module": "@jupyter-widgets/controls",
            "_model_module_version": "1.5.0",
            "_model_name": "FloatProgressModel",
            "_view_count": null,
            "_view_module": "@jupyter-widgets/controls",
            "_view_module_version": "1.5.0",
            "_view_name": "ProgressView",
            "bar_style": "success",
            "description": "",
            "description_tooltip": null,
            "layout": "IPY_MODEL_381601498c494aa7ba488fb5bb2a5b95",
            "max": 20470363,
            "min": 0,
            "orientation": "horizontal",
            "style": "IPY_MODEL_477ec58b61d34742b65ee1224cbd9957",
            "value": 20470363
          }
        },
        "8f39be7126974d1395a2a0b8d4e0c315": {
          "model_module": "@jupyter-widgets/controls",
          "model_name": "HTMLModel",
          "model_module_version": "1.5.0",
          "state": {
            "_dom_classes": [],
            "_model_module": "@jupyter-widgets/controls",
            "_model_module_version": "1.5.0",
            "_model_name": "HTMLModel",
            "_view_count": null,
            "_view_module": "@jupyter-widgets/controls",
            "_view_module_version": "1.5.0",
            "_view_name": "HTMLView",
            "description": "",
            "description_tooltip": null,
            "layout": "IPY_MODEL_2a253026543d471c8e7c998ca5de467b",
            "placeholder": "​",
            "style": "IPY_MODEL_4fa4e95e70794f86a4d63e71504a6322",
            "value": " 20.5M/20.5M [00:03&lt;00:00, 5.60MB/s]"
          }
        },
        "08a9aad18db04f678340d32eacec7d3c": {
          "model_module": "@jupyter-widgets/base",
          "model_name": "LayoutModel",
          "model_module_version": "1.2.0",
          "state": {
            "_model_module": "@jupyter-widgets/base",
            "_model_module_version": "1.2.0",
            "_model_name": "LayoutModel",
            "_view_count": null,
            "_view_module": "@jupyter-widgets/base",
            "_view_module_version": "1.2.0",
            "_view_name": "LayoutView",
            "align_content": null,
            "align_items": null,
            "align_self": null,
            "border": null,
            "bottom": null,
            "display": null,
            "flex": null,
            "flex_flow": null,
            "grid_area": null,
            "grid_auto_columns": null,
            "grid_auto_flow": null,
            "grid_auto_rows": null,
            "grid_column": null,
            "grid_gap": null,
            "grid_row": null,
            "grid_template_areas": null,
            "grid_template_columns": null,
            "grid_template_rows": null,
            "height": null,
            "justify_content": null,
            "justify_items": null,
            "left": null,
            "margin": null,
            "max_height": null,
            "max_width": null,
            "min_height": null,
            "min_width": null,
            "object_fit": null,
            "object_position": null,
            "order": null,
            "overflow": null,
            "overflow_x": null,
            "overflow_y": null,
            "padding": null,
            "right": null,
            "top": null,
            "visibility": null,
            "width": null
          }
        },
        "18ecd5ed7d544ebfa614adb30b8953db": {
          "model_module": "@jupyter-widgets/base",
          "model_name": "LayoutModel",
          "model_module_version": "1.2.0",
          "state": {
            "_model_module": "@jupyter-widgets/base",
            "_model_module_version": "1.2.0",
            "_model_name": "LayoutModel",
            "_view_count": null,
            "_view_module": "@jupyter-widgets/base",
            "_view_module_version": "1.2.0",
            "_view_name": "LayoutView",
            "align_content": null,
            "align_items": null,
            "align_self": null,
            "border": null,
            "bottom": null,
            "display": null,
            "flex": null,
            "flex_flow": null,
            "grid_area": null,
            "grid_auto_columns": null,
            "grid_auto_flow": null,
            "grid_auto_rows": null,
            "grid_column": null,
            "grid_gap": null,
            "grid_row": null,
            "grid_template_areas": null,
            "grid_template_columns": null,
            "grid_template_rows": null,
            "height": null,
            "justify_content": null,
            "justify_items": null,
            "left": null,
            "margin": null,
            "max_height": null,
            "max_width": null,
            "min_height": null,
            "min_width": null,
            "object_fit": null,
            "object_position": null,
            "order": null,
            "overflow": null,
            "overflow_x": null,
            "overflow_y": null,
            "padding": null,
            "right": null,
            "top": null,
            "visibility": null,
            "width": null
          }
        },
        "726c7e2f806744f1a95126102c092641": {
          "model_module": "@jupyter-widgets/controls",
          "model_name": "DescriptionStyleModel",
          "model_module_version": "1.5.0",
          "state": {
            "_model_module": "@jupyter-widgets/controls",
            "_model_module_version": "1.5.0",
            "_model_name": "DescriptionStyleModel",
            "_view_count": null,
            "_view_module": "@jupyter-widgets/base",
            "_view_module_version": "1.2.0",
            "_view_name": "StyleView",
            "description_width": ""
          }
        },
        "381601498c494aa7ba488fb5bb2a5b95": {
          "model_module": "@jupyter-widgets/base",
          "model_name": "LayoutModel",
          "model_module_version": "1.2.0",
          "state": {
            "_model_module": "@jupyter-widgets/base",
            "_model_module_version": "1.2.0",
            "_model_name": "LayoutModel",
            "_view_count": null,
            "_view_module": "@jupyter-widgets/base",
            "_view_module_version": "1.2.0",
            "_view_name": "LayoutView",
            "align_content": null,
            "align_items": null,
            "align_self": null,
            "border": null,
            "bottom": null,
            "display": null,
            "flex": null,
            "flex_flow": null,
            "grid_area": null,
            "grid_auto_columns": null,
            "grid_auto_flow": null,
            "grid_auto_rows": null,
            "grid_column": null,
            "grid_gap": null,
            "grid_row": null,
            "grid_template_areas": null,
            "grid_template_columns": null,
            "grid_template_rows": null,
            "height": null,
            "justify_content": null,
            "justify_items": null,
            "left": null,
            "margin": null,
            "max_height": null,
            "max_width": null,
            "min_height": null,
            "min_width": null,
            "object_fit": null,
            "object_position": null,
            "order": null,
            "overflow": null,
            "overflow_x": null,
            "overflow_y": null,
            "padding": null,
            "right": null,
            "top": null,
            "visibility": null,
            "width": null
          }
        },
        "477ec58b61d34742b65ee1224cbd9957": {
          "model_module": "@jupyter-widgets/controls",
          "model_name": "ProgressStyleModel",
          "model_module_version": "1.5.0",
          "state": {
            "_model_module": "@jupyter-widgets/controls",
            "_model_module_version": "1.5.0",
            "_model_name": "ProgressStyleModel",
            "_view_count": null,
            "_view_module": "@jupyter-widgets/base",
            "_view_module_version": "1.2.0",
            "_view_name": "StyleView",
            "bar_color": null,
            "description_width": ""
          }
        },
        "2a253026543d471c8e7c998ca5de467b": {
          "model_module": "@jupyter-widgets/base",
          "model_name": "LayoutModel",
          "model_module_version": "1.2.0",
          "state": {
            "_model_module": "@jupyter-widgets/base",
            "_model_module_version": "1.2.0",
            "_model_name": "LayoutModel",
            "_view_count": null,
            "_view_module": "@jupyter-widgets/base",
            "_view_module_version": "1.2.0",
            "_view_name": "LayoutView",
            "align_content": null,
            "align_items": null,
            "align_self": null,
            "border": null,
            "bottom": null,
            "display": null,
            "flex": null,
            "flex_flow": null,
            "grid_area": null,
            "grid_auto_columns": null,
            "grid_auto_flow": null,
            "grid_auto_rows": null,
            "grid_column": null,
            "grid_gap": null,
            "grid_row": null,
            "grid_template_areas": null,
            "grid_template_columns": null,
            "grid_template_rows": null,
            "height": null,
            "justify_content": null,
            "justify_items": null,
            "left": null,
            "margin": null,
            "max_height": null,
            "max_width": null,
            "min_height": null,
            "min_width": null,
            "object_fit": null,
            "object_position": null,
            "order": null,
            "overflow": null,
            "overflow_x": null,
            "overflow_y": null,
            "padding": null,
            "right": null,
            "top": null,
            "visibility": null,
            "width": null
          }
        },
        "4fa4e95e70794f86a4d63e71504a6322": {
          "model_module": "@jupyter-widgets/controls",
          "model_name": "DescriptionStyleModel",
          "model_module_version": "1.5.0",
          "state": {
            "_model_module": "@jupyter-widgets/controls",
            "_model_module_version": "1.5.0",
            "_model_name": "DescriptionStyleModel",
            "_view_count": null,
            "_view_module": "@jupyter-widgets/base",
            "_view_module_version": "1.2.0",
            "_view_name": "StyleView",
            "description_width": ""
          }
        },
        "e53428556a2a4f748c2a3c0eff02fc87": {
          "model_module": "@jupyter-widgets/controls",
          "model_name": "HBoxModel",
          "model_module_version": "1.5.0",
          "state": {
            "_dom_classes": [],
            "_model_module": "@jupyter-widgets/controls",
            "_model_module_version": "1.5.0",
            "_model_name": "HBoxModel",
            "_view_count": null,
            "_view_module": "@jupyter-widgets/controls",
            "_view_module_version": "1.5.0",
            "_view_name": "HBoxView",
            "box_style": "",
            "children": [
              "IPY_MODEL_1b178fc77b4f42a69c524038e2a372f8",
              "IPY_MODEL_db39c649cb44497c85a6a7a6d61b1fbb",
              "IPY_MODEL_abe73cc6b9a94cb593215f356c418f33"
            ],
            "layout": "IPY_MODEL_11d353c36c894c53a652ca5a490c8c44"
          }
        },
        "1b178fc77b4f42a69c524038e2a372f8": {
          "model_module": "@jupyter-widgets/controls",
          "model_name": "HTMLModel",
          "model_module_version": "1.5.0",
          "state": {
            "_dom_classes": [],
            "_model_module": "@jupyter-widgets/controls",
            "_model_module_version": "1.5.0",
            "_model_name": "HTMLModel",
            "_view_count": null,
            "_view_module": "@jupyter-widgets/controls",
            "_view_module_version": "1.5.0",
            "_view_name": "HTMLView",
            "description": "",
            "description_tooltip": null,
            "layout": "IPY_MODEL_f29f858036d5488aac23026ca5225ba0",
            "placeholder": "​",
            "style": "IPY_MODEL_2ae2ba8c2c7743c98b4bd936cfdfd5f5",
            "value": "Downloading data: 100%"
          }
        },
        "db39c649cb44497c85a6a7a6d61b1fbb": {
          "model_module": "@jupyter-widgets/controls",
          "model_name": "FloatProgressModel",
          "model_module_version": "1.5.0",
          "state": {
            "_dom_classes": [],
            "_model_module": "@jupyter-widgets/controls",
            "_model_module_version": "1.5.0",
            "_model_name": "FloatProgressModel",
            "_view_count": null,
            "_view_module": "@jupyter-widgets/controls",
            "_view_module_version": "1.5.0",
            "_view_name": "ProgressView",
            "bar_style": "success",
            "description": "",
            "description_tooltip": null,
            "layout": "IPY_MODEL_6aeae9a261ca455e8212f9ed83477785",
            "max": 41996509,
            "min": 0,
            "orientation": "horizontal",
            "style": "IPY_MODEL_0fc109b7727c4807810f127ddea7939d",
            "value": 41996509
          }
        },
        "abe73cc6b9a94cb593215f356c418f33": {
          "model_module": "@jupyter-widgets/controls",
          "model_name": "HTMLModel",
          "model_module_version": "1.5.0",
          "state": {
            "_dom_classes": [],
            "_model_module": "@jupyter-widgets/controls",
            "_model_module_version": "1.5.0",
            "_model_name": "HTMLModel",
            "_view_count": null,
            "_view_module": "@jupyter-widgets/controls",
            "_view_module_version": "1.5.0",
            "_view_name": "HTMLView",
            "description": "",
            "description_tooltip": null,
            "layout": "IPY_MODEL_bb97850d483f46478c876b5c3026530c",
            "placeholder": "​",
            "style": "IPY_MODEL_470786a779934e7abee6f9be7cf55d2b",
            "value": " 42.0M/42.0M [00:02&lt;00:00, 19.7MB/s]"
          }
        },
        "11d353c36c894c53a652ca5a490c8c44": {
          "model_module": "@jupyter-widgets/base",
          "model_name": "LayoutModel",
          "model_module_version": "1.2.0",
          "state": {
            "_model_module": "@jupyter-widgets/base",
            "_model_module_version": "1.2.0",
            "_model_name": "LayoutModel",
            "_view_count": null,
            "_view_module": "@jupyter-widgets/base",
            "_view_module_version": "1.2.0",
            "_view_name": "LayoutView",
            "align_content": null,
            "align_items": null,
            "align_self": null,
            "border": null,
            "bottom": null,
            "display": null,
            "flex": null,
            "flex_flow": null,
            "grid_area": null,
            "grid_auto_columns": null,
            "grid_auto_flow": null,
            "grid_auto_rows": null,
            "grid_column": null,
            "grid_gap": null,
            "grid_row": null,
            "grid_template_areas": null,
            "grid_template_columns": null,
            "grid_template_rows": null,
            "height": null,
            "justify_content": null,
            "justify_items": null,
            "left": null,
            "margin": null,
            "max_height": null,
            "max_width": null,
            "min_height": null,
            "min_width": null,
            "object_fit": null,
            "object_position": null,
            "order": null,
            "overflow": null,
            "overflow_x": null,
            "overflow_y": null,
            "padding": null,
            "right": null,
            "top": null,
            "visibility": null,
            "width": null
          }
        },
        "f29f858036d5488aac23026ca5225ba0": {
          "model_module": "@jupyter-widgets/base",
          "model_name": "LayoutModel",
          "model_module_version": "1.2.0",
          "state": {
            "_model_module": "@jupyter-widgets/base",
            "_model_module_version": "1.2.0",
            "_model_name": "LayoutModel",
            "_view_count": null,
            "_view_module": "@jupyter-widgets/base",
            "_view_module_version": "1.2.0",
            "_view_name": "LayoutView",
            "align_content": null,
            "align_items": null,
            "align_self": null,
            "border": null,
            "bottom": null,
            "display": null,
            "flex": null,
            "flex_flow": null,
            "grid_area": null,
            "grid_auto_columns": null,
            "grid_auto_flow": null,
            "grid_auto_rows": null,
            "grid_column": null,
            "grid_gap": null,
            "grid_row": null,
            "grid_template_areas": null,
            "grid_template_columns": null,
            "grid_template_rows": null,
            "height": null,
            "justify_content": null,
            "justify_items": null,
            "left": null,
            "margin": null,
            "max_height": null,
            "max_width": null,
            "min_height": null,
            "min_width": null,
            "object_fit": null,
            "object_position": null,
            "order": null,
            "overflow": null,
            "overflow_x": null,
            "overflow_y": null,
            "padding": null,
            "right": null,
            "top": null,
            "visibility": null,
            "width": null
          }
        },
        "2ae2ba8c2c7743c98b4bd936cfdfd5f5": {
          "model_module": "@jupyter-widgets/controls",
          "model_name": "DescriptionStyleModel",
          "model_module_version": "1.5.0",
          "state": {
            "_model_module": "@jupyter-widgets/controls",
            "_model_module_version": "1.5.0",
            "_model_name": "DescriptionStyleModel",
            "_view_count": null,
            "_view_module": "@jupyter-widgets/base",
            "_view_module_version": "1.2.0",
            "_view_name": "StyleView",
            "description_width": ""
          }
        },
        "6aeae9a261ca455e8212f9ed83477785": {
          "model_module": "@jupyter-widgets/base",
          "model_name": "LayoutModel",
          "model_module_version": "1.2.0",
          "state": {
            "_model_module": "@jupyter-widgets/base",
            "_model_module_version": "1.2.0",
            "_model_name": "LayoutModel",
            "_view_count": null,
            "_view_module": "@jupyter-widgets/base",
            "_view_module_version": "1.2.0",
            "_view_name": "LayoutView",
            "align_content": null,
            "align_items": null,
            "align_self": null,
            "border": null,
            "bottom": null,
            "display": null,
            "flex": null,
            "flex_flow": null,
            "grid_area": null,
            "grid_auto_columns": null,
            "grid_auto_flow": null,
            "grid_auto_rows": null,
            "grid_column": null,
            "grid_gap": null,
            "grid_row": null,
            "grid_template_areas": null,
            "grid_template_columns": null,
            "grid_template_rows": null,
            "height": null,
            "justify_content": null,
            "justify_items": null,
            "left": null,
            "margin": null,
            "max_height": null,
            "max_width": null,
            "min_height": null,
            "min_width": null,
            "object_fit": null,
            "object_position": null,
            "order": null,
            "overflow": null,
            "overflow_x": null,
            "overflow_y": null,
            "padding": null,
            "right": null,
            "top": null,
            "visibility": null,
            "width": null
          }
        },
        "0fc109b7727c4807810f127ddea7939d": {
          "model_module": "@jupyter-widgets/controls",
          "model_name": "ProgressStyleModel",
          "model_module_version": "1.5.0",
          "state": {
            "_model_module": "@jupyter-widgets/controls",
            "_model_module_version": "1.5.0",
            "_model_name": "ProgressStyleModel",
            "_view_count": null,
            "_view_module": "@jupyter-widgets/base",
            "_view_module_version": "1.2.0",
            "_view_name": "StyleView",
            "bar_color": null,
            "description_width": ""
          }
        },
        "bb97850d483f46478c876b5c3026530c": {
          "model_module": "@jupyter-widgets/base",
          "model_name": "LayoutModel",
          "model_module_version": "1.2.0",
          "state": {
            "_model_module": "@jupyter-widgets/base",
            "_model_module_version": "1.2.0",
            "_model_name": "LayoutModel",
            "_view_count": null,
            "_view_module": "@jupyter-widgets/base",
            "_view_module_version": "1.2.0",
            "_view_name": "LayoutView",
            "align_content": null,
            "align_items": null,
            "align_self": null,
            "border": null,
            "bottom": null,
            "display": null,
            "flex": null,
            "flex_flow": null,
            "grid_area": null,
            "grid_auto_columns": null,
            "grid_auto_flow": null,
            "grid_auto_rows": null,
            "grid_column": null,
            "grid_gap": null,
            "grid_row": null,
            "grid_template_areas": null,
            "grid_template_columns": null,
            "grid_template_rows": null,
            "height": null,
            "justify_content": null,
            "justify_items": null,
            "left": null,
            "margin": null,
            "max_height": null,
            "max_width": null,
            "min_height": null,
            "min_width": null,
            "object_fit": null,
            "object_position": null,
            "order": null,
            "overflow": null,
            "overflow_x": null,
            "overflow_y": null,
            "padding": null,
            "right": null,
            "top": null,
            "visibility": null,
            "width": null
          }
        },
        "470786a779934e7abee6f9be7cf55d2b": {
          "model_module": "@jupyter-widgets/controls",
          "model_name": "DescriptionStyleModel",
          "model_module_version": "1.5.0",
          "state": {
            "_model_module": "@jupyter-widgets/controls",
            "_model_module_version": "1.5.0",
            "_model_name": "DescriptionStyleModel",
            "_view_count": null,
            "_view_module": "@jupyter-widgets/base",
            "_view_module_version": "1.2.0",
            "_view_name": "StyleView",
            "description_width": ""
          }
        },
        "504019ca2d3440c3992c9d06b3a70178": {
          "model_module": "@jupyter-widgets/controls",
          "model_name": "HBoxModel",
          "model_module_version": "1.5.0",
          "state": {
            "_dom_classes": [],
            "_model_module": "@jupyter-widgets/controls",
            "_model_module_version": "1.5.0",
            "_model_name": "HBoxModel",
            "_view_count": null,
            "_view_module": "@jupyter-widgets/controls",
            "_view_module_version": "1.5.0",
            "_view_name": "HBoxView",
            "box_style": "",
            "children": [
              "IPY_MODEL_a0a0733887e34e589c1801b2305e4e50",
              "IPY_MODEL_ad86a60f48d142f2aecbab1fac36b988",
              "IPY_MODEL_b12c1b934b2244a487271430040345a4"
            ],
            "layout": "IPY_MODEL_a62ad98e319e40cd9f5c556edea8614a"
          }
        },
        "a0a0733887e34e589c1801b2305e4e50": {
          "model_module": "@jupyter-widgets/controls",
          "model_name": "HTMLModel",
          "model_module_version": "1.5.0",
          "state": {
            "_dom_classes": [],
            "_model_module": "@jupyter-widgets/controls",
            "_model_module_version": "1.5.0",
            "_model_name": "HTMLModel",
            "_view_count": null,
            "_view_module": "@jupyter-widgets/controls",
            "_view_module_version": "1.5.0",
            "_view_name": "HTMLView",
            "description": "",
            "description_tooltip": null,
            "layout": "IPY_MODEL_1e1ff75df6b543bbbb33e302ed79ad08",
            "placeholder": "​",
            "style": "IPY_MODEL_7fb78a9c37e843a29fcf26a2b473ff47",
            "value": "Generating train split: 100%"
          }
        },
        "ad86a60f48d142f2aecbab1fac36b988": {
          "model_module": "@jupyter-widgets/controls",
          "model_name": "FloatProgressModel",
          "model_module_version": "1.5.0",
          "state": {
            "_dom_classes": [],
            "_model_module": "@jupyter-widgets/controls",
            "_model_module_version": "1.5.0",
            "_model_name": "FloatProgressModel",
            "_view_count": null,
            "_view_module": "@jupyter-widgets/controls",
            "_view_module_version": "1.5.0",
            "_view_name": "ProgressView",
            "bar_style": "success",
            "description": "",
            "description_tooltip": null,
            "layout": "IPY_MODEL_1b7a0fc55528481b8619e6f44b36a673",
            "max": 25000,
            "min": 0,
            "orientation": "horizontal",
            "style": "IPY_MODEL_c4c55adf6ee94e14b6d13517955c8b6d",
            "value": 25000
          }
        },
        "b12c1b934b2244a487271430040345a4": {
          "model_module": "@jupyter-widgets/controls",
          "model_name": "HTMLModel",
          "model_module_version": "1.5.0",
          "state": {
            "_dom_classes": [],
            "_model_module": "@jupyter-widgets/controls",
            "_model_module_version": "1.5.0",
            "_model_name": "HTMLModel",
            "_view_count": null,
            "_view_module": "@jupyter-widgets/controls",
            "_view_module_version": "1.5.0",
            "_view_name": "HTMLView",
            "description": "",
            "description_tooltip": null,
            "layout": "IPY_MODEL_0339842f83c04022919bf2dcdff98126",
            "placeholder": "​",
            "style": "IPY_MODEL_62be616fef2248b791d3677d47acabe2",
            "value": " 25000/25000 [00:00&lt;00:00, 90228.87 examples/s]"
          }
        },
        "a62ad98e319e40cd9f5c556edea8614a": {
          "model_module": "@jupyter-widgets/base",
          "model_name": "LayoutModel",
          "model_module_version": "1.2.0",
          "state": {
            "_model_module": "@jupyter-widgets/base",
            "_model_module_version": "1.2.0",
            "_model_name": "LayoutModel",
            "_view_count": null,
            "_view_module": "@jupyter-widgets/base",
            "_view_module_version": "1.2.0",
            "_view_name": "LayoutView",
            "align_content": null,
            "align_items": null,
            "align_self": null,
            "border": null,
            "bottom": null,
            "display": null,
            "flex": null,
            "flex_flow": null,
            "grid_area": null,
            "grid_auto_columns": null,
            "grid_auto_flow": null,
            "grid_auto_rows": null,
            "grid_column": null,
            "grid_gap": null,
            "grid_row": null,
            "grid_template_areas": null,
            "grid_template_columns": null,
            "grid_template_rows": null,
            "height": null,
            "justify_content": null,
            "justify_items": null,
            "left": null,
            "margin": null,
            "max_height": null,
            "max_width": null,
            "min_height": null,
            "min_width": null,
            "object_fit": null,
            "object_position": null,
            "order": null,
            "overflow": null,
            "overflow_x": null,
            "overflow_y": null,
            "padding": null,
            "right": null,
            "top": null,
            "visibility": null,
            "width": null
          }
        },
        "1e1ff75df6b543bbbb33e302ed79ad08": {
          "model_module": "@jupyter-widgets/base",
          "model_name": "LayoutModel",
          "model_module_version": "1.2.0",
          "state": {
            "_model_module": "@jupyter-widgets/base",
            "_model_module_version": "1.2.0",
            "_model_name": "LayoutModel",
            "_view_count": null,
            "_view_module": "@jupyter-widgets/base",
            "_view_module_version": "1.2.0",
            "_view_name": "LayoutView",
            "align_content": null,
            "align_items": null,
            "align_self": null,
            "border": null,
            "bottom": null,
            "display": null,
            "flex": null,
            "flex_flow": null,
            "grid_area": null,
            "grid_auto_columns": null,
            "grid_auto_flow": null,
            "grid_auto_rows": null,
            "grid_column": null,
            "grid_gap": null,
            "grid_row": null,
            "grid_template_areas": null,
            "grid_template_columns": null,
            "grid_template_rows": null,
            "height": null,
            "justify_content": null,
            "justify_items": null,
            "left": null,
            "margin": null,
            "max_height": null,
            "max_width": null,
            "min_height": null,
            "min_width": null,
            "object_fit": null,
            "object_position": null,
            "order": null,
            "overflow": null,
            "overflow_x": null,
            "overflow_y": null,
            "padding": null,
            "right": null,
            "top": null,
            "visibility": null,
            "width": null
          }
        },
        "7fb78a9c37e843a29fcf26a2b473ff47": {
          "model_module": "@jupyter-widgets/controls",
          "model_name": "DescriptionStyleModel",
          "model_module_version": "1.5.0",
          "state": {
            "_model_module": "@jupyter-widgets/controls",
            "_model_module_version": "1.5.0",
            "_model_name": "DescriptionStyleModel",
            "_view_count": null,
            "_view_module": "@jupyter-widgets/base",
            "_view_module_version": "1.2.0",
            "_view_name": "StyleView",
            "description_width": ""
          }
        },
        "1b7a0fc55528481b8619e6f44b36a673": {
          "model_module": "@jupyter-widgets/base",
          "model_name": "LayoutModel",
          "model_module_version": "1.2.0",
          "state": {
            "_model_module": "@jupyter-widgets/base",
            "_model_module_version": "1.2.0",
            "_model_name": "LayoutModel",
            "_view_count": null,
            "_view_module": "@jupyter-widgets/base",
            "_view_module_version": "1.2.0",
            "_view_name": "LayoutView",
            "align_content": null,
            "align_items": null,
            "align_self": null,
            "border": null,
            "bottom": null,
            "display": null,
            "flex": null,
            "flex_flow": null,
            "grid_area": null,
            "grid_auto_columns": null,
            "grid_auto_flow": null,
            "grid_auto_rows": null,
            "grid_column": null,
            "grid_gap": null,
            "grid_row": null,
            "grid_template_areas": null,
            "grid_template_columns": null,
            "grid_template_rows": null,
            "height": null,
            "justify_content": null,
            "justify_items": null,
            "left": null,
            "margin": null,
            "max_height": null,
            "max_width": null,
            "min_height": null,
            "min_width": null,
            "object_fit": null,
            "object_position": null,
            "order": null,
            "overflow": null,
            "overflow_x": null,
            "overflow_y": null,
            "padding": null,
            "right": null,
            "top": null,
            "visibility": null,
            "width": null
          }
        },
        "c4c55adf6ee94e14b6d13517955c8b6d": {
          "model_module": "@jupyter-widgets/controls",
          "model_name": "ProgressStyleModel",
          "model_module_version": "1.5.0",
          "state": {
            "_model_module": "@jupyter-widgets/controls",
            "_model_module_version": "1.5.0",
            "_model_name": "ProgressStyleModel",
            "_view_count": null,
            "_view_module": "@jupyter-widgets/base",
            "_view_module_version": "1.2.0",
            "_view_name": "StyleView",
            "bar_color": null,
            "description_width": ""
          }
        },
        "0339842f83c04022919bf2dcdff98126": {
          "model_module": "@jupyter-widgets/base",
          "model_name": "LayoutModel",
          "model_module_version": "1.2.0",
          "state": {
            "_model_module": "@jupyter-widgets/base",
            "_model_module_version": "1.2.0",
            "_model_name": "LayoutModel",
            "_view_count": null,
            "_view_module": "@jupyter-widgets/base",
            "_view_module_version": "1.2.0",
            "_view_name": "LayoutView",
            "align_content": null,
            "align_items": null,
            "align_self": null,
            "border": null,
            "bottom": null,
            "display": null,
            "flex": null,
            "flex_flow": null,
            "grid_area": null,
            "grid_auto_columns": null,
            "grid_auto_flow": null,
            "grid_auto_rows": null,
            "grid_column": null,
            "grid_gap": null,
            "grid_row": null,
            "grid_template_areas": null,
            "grid_template_columns": null,
            "grid_template_rows": null,
            "height": null,
            "justify_content": null,
            "justify_items": null,
            "left": null,
            "margin": null,
            "max_height": null,
            "max_width": null,
            "min_height": null,
            "min_width": null,
            "object_fit": null,
            "object_position": null,
            "order": null,
            "overflow": null,
            "overflow_x": null,
            "overflow_y": null,
            "padding": null,
            "right": null,
            "top": null,
            "visibility": null,
            "width": null
          }
        },
        "62be616fef2248b791d3677d47acabe2": {
          "model_module": "@jupyter-widgets/controls",
          "model_name": "DescriptionStyleModel",
          "model_module_version": "1.5.0",
          "state": {
            "_model_module": "@jupyter-widgets/controls",
            "_model_module_version": "1.5.0",
            "_model_name": "DescriptionStyleModel",
            "_view_count": null,
            "_view_module": "@jupyter-widgets/base",
            "_view_module_version": "1.2.0",
            "_view_name": "StyleView",
            "description_width": ""
          }
        },
        "1cf55c8453564c89a00ef85ecbe7a1f0": {
          "model_module": "@jupyter-widgets/controls",
          "model_name": "HBoxModel",
          "model_module_version": "1.5.0",
          "state": {
            "_dom_classes": [],
            "_model_module": "@jupyter-widgets/controls",
            "_model_module_version": "1.5.0",
            "_model_name": "HBoxModel",
            "_view_count": null,
            "_view_module": "@jupyter-widgets/controls",
            "_view_module_version": "1.5.0",
            "_view_name": "HBoxView",
            "box_style": "",
            "children": [
              "IPY_MODEL_5b338502ad5d41099a8a25f02ff094a6",
              "IPY_MODEL_fe7f05bc88724821a39d8b314b064cbc",
              "IPY_MODEL_abaa862192c344bab8951c07c6d87385"
            ],
            "layout": "IPY_MODEL_d7cc4910cb7442cc846e4334136ddde0"
          }
        },
        "5b338502ad5d41099a8a25f02ff094a6": {
          "model_module": "@jupyter-widgets/controls",
          "model_name": "HTMLModel",
          "model_module_version": "1.5.0",
          "state": {
            "_dom_classes": [],
            "_model_module": "@jupyter-widgets/controls",
            "_model_module_version": "1.5.0",
            "_model_name": "HTMLModel",
            "_view_count": null,
            "_view_module": "@jupyter-widgets/controls",
            "_view_module_version": "1.5.0",
            "_view_name": "HTMLView",
            "description": "",
            "description_tooltip": null,
            "layout": "IPY_MODEL_ae754d23a2424f7f8a5ff88a23511f4d",
            "placeholder": "​",
            "style": "IPY_MODEL_ceb90e7b1ac44358be03a22679a49e3f",
            "value": "Generating test split: 100%"
          }
        },
        "fe7f05bc88724821a39d8b314b064cbc": {
          "model_module": "@jupyter-widgets/controls",
          "model_name": "FloatProgressModel",
          "model_module_version": "1.5.0",
          "state": {
            "_dom_classes": [],
            "_model_module": "@jupyter-widgets/controls",
            "_model_module_version": "1.5.0",
            "_model_name": "FloatProgressModel",
            "_view_count": null,
            "_view_module": "@jupyter-widgets/controls",
            "_view_module_version": "1.5.0",
            "_view_name": "ProgressView",
            "bar_style": "success",
            "description": "",
            "description_tooltip": null,
            "layout": "IPY_MODEL_4fd235368fdb450c8c10741e3cbe672f",
            "max": 25000,
            "min": 0,
            "orientation": "horizontal",
            "style": "IPY_MODEL_6db9c612e21842b2bb7d7998ebdae21d",
            "value": 25000
          }
        },
        "abaa862192c344bab8951c07c6d87385": {
          "model_module": "@jupyter-widgets/controls",
          "model_name": "HTMLModel",
          "model_module_version": "1.5.0",
          "state": {
            "_dom_classes": [],
            "_model_module": "@jupyter-widgets/controls",
            "_model_module_version": "1.5.0",
            "_model_name": "HTMLModel",
            "_view_count": null,
            "_view_module": "@jupyter-widgets/controls",
            "_view_module_version": "1.5.0",
            "_view_name": "HTMLView",
            "description": "",
            "description_tooltip": null,
            "layout": "IPY_MODEL_431ff50fc46e4fd3bfaee94ab0a82fb6",
            "placeholder": "​",
            "style": "IPY_MODEL_2d14a9a1c2b84825ada55b91209d06d6",
            "value": " 25000/25000 [00:00&lt;00:00, 134368.76 examples/s]"
          }
        },
        "d7cc4910cb7442cc846e4334136ddde0": {
          "model_module": "@jupyter-widgets/base",
          "model_name": "LayoutModel",
          "model_module_version": "1.2.0",
          "state": {
            "_model_module": "@jupyter-widgets/base",
            "_model_module_version": "1.2.0",
            "_model_name": "LayoutModel",
            "_view_count": null,
            "_view_module": "@jupyter-widgets/base",
            "_view_module_version": "1.2.0",
            "_view_name": "LayoutView",
            "align_content": null,
            "align_items": null,
            "align_self": null,
            "border": null,
            "bottom": null,
            "display": null,
            "flex": null,
            "flex_flow": null,
            "grid_area": null,
            "grid_auto_columns": null,
            "grid_auto_flow": null,
            "grid_auto_rows": null,
            "grid_column": null,
            "grid_gap": null,
            "grid_row": null,
            "grid_template_areas": null,
            "grid_template_columns": null,
            "grid_template_rows": null,
            "height": null,
            "justify_content": null,
            "justify_items": null,
            "left": null,
            "margin": null,
            "max_height": null,
            "max_width": null,
            "min_height": null,
            "min_width": null,
            "object_fit": null,
            "object_position": null,
            "order": null,
            "overflow": null,
            "overflow_x": null,
            "overflow_y": null,
            "padding": null,
            "right": null,
            "top": null,
            "visibility": null,
            "width": null
          }
        },
        "ae754d23a2424f7f8a5ff88a23511f4d": {
          "model_module": "@jupyter-widgets/base",
          "model_name": "LayoutModel",
          "model_module_version": "1.2.0",
          "state": {
            "_model_module": "@jupyter-widgets/base",
            "_model_module_version": "1.2.0",
            "_model_name": "LayoutModel",
            "_view_count": null,
            "_view_module": "@jupyter-widgets/base",
            "_view_module_version": "1.2.0",
            "_view_name": "LayoutView",
            "align_content": null,
            "align_items": null,
            "align_self": null,
            "border": null,
            "bottom": null,
            "display": null,
            "flex": null,
            "flex_flow": null,
            "grid_area": null,
            "grid_auto_columns": null,
            "grid_auto_flow": null,
            "grid_auto_rows": null,
            "grid_column": null,
            "grid_gap": null,
            "grid_row": null,
            "grid_template_areas": null,
            "grid_template_columns": null,
            "grid_template_rows": null,
            "height": null,
            "justify_content": null,
            "justify_items": null,
            "left": null,
            "margin": null,
            "max_height": null,
            "max_width": null,
            "min_height": null,
            "min_width": null,
            "object_fit": null,
            "object_position": null,
            "order": null,
            "overflow": null,
            "overflow_x": null,
            "overflow_y": null,
            "padding": null,
            "right": null,
            "top": null,
            "visibility": null,
            "width": null
          }
        },
        "ceb90e7b1ac44358be03a22679a49e3f": {
          "model_module": "@jupyter-widgets/controls",
          "model_name": "DescriptionStyleModel",
          "model_module_version": "1.5.0",
          "state": {
            "_model_module": "@jupyter-widgets/controls",
            "_model_module_version": "1.5.0",
            "_model_name": "DescriptionStyleModel",
            "_view_count": null,
            "_view_module": "@jupyter-widgets/base",
            "_view_module_version": "1.2.0",
            "_view_name": "StyleView",
            "description_width": ""
          }
        },
        "4fd235368fdb450c8c10741e3cbe672f": {
          "model_module": "@jupyter-widgets/base",
          "model_name": "LayoutModel",
          "model_module_version": "1.2.0",
          "state": {
            "_model_module": "@jupyter-widgets/base",
            "_model_module_version": "1.2.0",
            "_model_name": "LayoutModel",
            "_view_count": null,
            "_view_module": "@jupyter-widgets/base",
            "_view_module_version": "1.2.0",
            "_view_name": "LayoutView",
            "align_content": null,
            "align_items": null,
            "align_self": null,
            "border": null,
            "bottom": null,
            "display": null,
            "flex": null,
            "flex_flow": null,
            "grid_area": null,
            "grid_auto_columns": null,
            "grid_auto_flow": null,
            "grid_auto_rows": null,
            "grid_column": null,
            "grid_gap": null,
            "grid_row": null,
            "grid_template_areas": null,
            "grid_template_columns": null,
            "grid_template_rows": null,
            "height": null,
            "justify_content": null,
            "justify_items": null,
            "left": null,
            "margin": null,
            "max_height": null,
            "max_width": null,
            "min_height": null,
            "min_width": null,
            "object_fit": null,
            "object_position": null,
            "order": null,
            "overflow": null,
            "overflow_x": null,
            "overflow_y": null,
            "padding": null,
            "right": null,
            "top": null,
            "visibility": null,
            "width": null
          }
        },
        "6db9c612e21842b2bb7d7998ebdae21d": {
          "model_module": "@jupyter-widgets/controls",
          "model_name": "ProgressStyleModel",
          "model_module_version": "1.5.0",
          "state": {
            "_model_module": "@jupyter-widgets/controls",
            "_model_module_version": "1.5.0",
            "_model_name": "ProgressStyleModel",
            "_view_count": null,
            "_view_module": "@jupyter-widgets/base",
            "_view_module_version": "1.2.0",
            "_view_name": "StyleView",
            "bar_color": null,
            "description_width": ""
          }
        },
        "431ff50fc46e4fd3bfaee94ab0a82fb6": {
          "model_module": "@jupyter-widgets/base",
          "model_name": "LayoutModel",
          "model_module_version": "1.2.0",
          "state": {
            "_model_module": "@jupyter-widgets/base",
            "_model_module_version": "1.2.0",
            "_model_name": "LayoutModel",
            "_view_count": null,
            "_view_module": "@jupyter-widgets/base",
            "_view_module_version": "1.2.0",
            "_view_name": "LayoutView",
            "align_content": null,
            "align_items": null,
            "align_self": null,
            "border": null,
            "bottom": null,
            "display": null,
            "flex": null,
            "flex_flow": null,
            "grid_area": null,
            "grid_auto_columns": null,
            "grid_auto_flow": null,
            "grid_auto_rows": null,
            "grid_column": null,
            "grid_gap": null,
            "grid_row": null,
            "grid_template_areas": null,
            "grid_template_columns": null,
            "grid_template_rows": null,
            "height": null,
            "justify_content": null,
            "justify_items": null,
            "left": null,
            "margin": null,
            "max_height": null,
            "max_width": null,
            "min_height": null,
            "min_width": null,
            "object_fit": null,
            "object_position": null,
            "order": null,
            "overflow": null,
            "overflow_x": null,
            "overflow_y": null,
            "padding": null,
            "right": null,
            "top": null,
            "visibility": null,
            "width": null
          }
        },
        "2d14a9a1c2b84825ada55b91209d06d6": {
          "model_module": "@jupyter-widgets/controls",
          "model_name": "DescriptionStyleModel",
          "model_module_version": "1.5.0",
          "state": {
            "_model_module": "@jupyter-widgets/controls",
            "_model_module_version": "1.5.0",
            "_model_name": "DescriptionStyleModel",
            "_view_count": null,
            "_view_module": "@jupyter-widgets/base",
            "_view_module_version": "1.2.0",
            "_view_name": "StyleView",
            "description_width": ""
          }
        },
        "0db30db6c0e843f1a3bf60d3a64e63ff": {
          "model_module": "@jupyter-widgets/controls",
          "model_name": "HBoxModel",
          "model_module_version": "1.5.0",
          "state": {
            "_dom_classes": [],
            "_model_module": "@jupyter-widgets/controls",
            "_model_module_version": "1.5.0",
            "_model_name": "HBoxModel",
            "_view_count": null,
            "_view_module": "@jupyter-widgets/controls",
            "_view_module_version": "1.5.0",
            "_view_name": "HBoxView",
            "box_style": "",
            "children": [
              "IPY_MODEL_fe3089d5ff7e40c292ebefd5996ad8cf",
              "IPY_MODEL_66557bd294f846dd98bf802a8b1551e3",
              "IPY_MODEL_25fdcf303a6a45bd91f5bb5a07a0258c"
            ],
            "layout": "IPY_MODEL_c73880503c064ff280107b6e07b01120"
          }
        },
        "fe3089d5ff7e40c292ebefd5996ad8cf": {
          "model_module": "@jupyter-widgets/controls",
          "model_name": "HTMLModel",
          "model_module_version": "1.5.0",
          "state": {
            "_dom_classes": [],
            "_model_module": "@jupyter-widgets/controls",
            "_model_module_version": "1.5.0",
            "_model_name": "HTMLModel",
            "_view_count": null,
            "_view_module": "@jupyter-widgets/controls",
            "_view_module_version": "1.5.0",
            "_view_name": "HTMLView",
            "description": "",
            "description_tooltip": null,
            "layout": "IPY_MODEL_47e8d6645d484c94933affc352f5cc78",
            "placeholder": "​",
            "style": "IPY_MODEL_f13aa02e7d5c4156a6cd97786080d5c5",
            "value": "Generating unsupervised split: 100%"
          }
        },
        "66557bd294f846dd98bf802a8b1551e3": {
          "model_module": "@jupyter-widgets/controls",
          "model_name": "FloatProgressModel",
          "model_module_version": "1.5.0",
          "state": {
            "_dom_classes": [],
            "_model_module": "@jupyter-widgets/controls",
            "_model_module_version": "1.5.0",
            "_model_name": "FloatProgressModel",
            "_view_count": null,
            "_view_module": "@jupyter-widgets/controls",
            "_view_module_version": "1.5.0",
            "_view_name": "ProgressView",
            "bar_style": "success",
            "description": "",
            "description_tooltip": null,
            "layout": "IPY_MODEL_6b7e700accd445b48c5907a769598f4f",
            "max": 50000,
            "min": 0,
            "orientation": "horizontal",
            "style": "IPY_MODEL_ec1bfc66cbea498ba8dd3fac03016b5e",
            "value": 50000
          }
        },
        "25fdcf303a6a45bd91f5bb5a07a0258c": {
          "model_module": "@jupyter-widgets/controls",
          "model_name": "HTMLModel",
          "model_module_version": "1.5.0",
          "state": {
            "_dom_classes": [],
            "_model_module": "@jupyter-widgets/controls",
            "_model_module_version": "1.5.0",
            "_model_name": "HTMLModel",
            "_view_count": null,
            "_view_module": "@jupyter-widgets/controls",
            "_view_module_version": "1.5.0",
            "_view_name": "HTMLView",
            "description": "",
            "description_tooltip": null,
            "layout": "IPY_MODEL_705c5d614a7d4af1b2f965270ea3f1df",
            "placeholder": "​",
            "style": "IPY_MODEL_23e2334e4b2747c7a17d087fc9614b2f",
            "value": " 50000/50000 [00:00&lt;00:00, 130611.34 examples/s]"
          }
        },
        "c73880503c064ff280107b6e07b01120": {
          "model_module": "@jupyter-widgets/base",
          "model_name": "LayoutModel",
          "model_module_version": "1.2.0",
          "state": {
            "_model_module": "@jupyter-widgets/base",
            "_model_module_version": "1.2.0",
            "_model_name": "LayoutModel",
            "_view_count": null,
            "_view_module": "@jupyter-widgets/base",
            "_view_module_version": "1.2.0",
            "_view_name": "LayoutView",
            "align_content": null,
            "align_items": null,
            "align_self": null,
            "border": null,
            "bottom": null,
            "display": null,
            "flex": null,
            "flex_flow": null,
            "grid_area": null,
            "grid_auto_columns": null,
            "grid_auto_flow": null,
            "grid_auto_rows": null,
            "grid_column": null,
            "grid_gap": null,
            "grid_row": null,
            "grid_template_areas": null,
            "grid_template_columns": null,
            "grid_template_rows": null,
            "height": null,
            "justify_content": null,
            "justify_items": null,
            "left": null,
            "margin": null,
            "max_height": null,
            "max_width": null,
            "min_height": null,
            "min_width": null,
            "object_fit": null,
            "object_position": null,
            "order": null,
            "overflow": null,
            "overflow_x": null,
            "overflow_y": null,
            "padding": null,
            "right": null,
            "top": null,
            "visibility": null,
            "width": null
          }
        },
        "47e8d6645d484c94933affc352f5cc78": {
          "model_module": "@jupyter-widgets/base",
          "model_name": "LayoutModel",
          "model_module_version": "1.2.0",
          "state": {
            "_model_module": "@jupyter-widgets/base",
            "_model_module_version": "1.2.0",
            "_model_name": "LayoutModel",
            "_view_count": null,
            "_view_module": "@jupyter-widgets/base",
            "_view_module_version": "1.2.0",
            "_view_name": "LayoutView",
            "align_content": null,
            "align_items": null,
            "align_self": null,
            "border": null,
            "bottom": null,
            "display": null,
            "flex": null,
            "flex_flow": null,
            "grid_area": null,
            "grid_auto_columns": null,
            "grid_auto_flow": null,
            "grid_auto_rows": null,
            "grid_column": null,
            "grid_gap": null,
            "grid_row": null,
            "grid_template_areas": null,
            "grid_template_columns": null,
            "grid_template_rows": null,
            "height": null,
            "justify_content": null,
            "justify_items": null,
            "left": null,
            "margin": null,
            "max_height": null,
            "max_width": null,
            "min_height": null,
            "min_width": null,
            "object_fit": null,
            "object_position": null,
            "order": null,
            "overflow": null,
            "overflow_x": null,
            "overflow_y": null,
            "padding": null,
            "right": null,
            "top": null,
            "visibility": null,
            "width": null
          }
        },
        "f13aa02e7d5c4156a6cd97786080d5c5": {
          "model_module": "@jupyter-widgets/controls",
          "model_name": "DescriptionStyleModel",
          "model_module_version": "1.5.0",
          "state": {
            "_model_module": "@jupyter-widgets/controls",
            "_model_module_version": "1.5.0",
            "_model_name": "DescriptionStyleModel",
            "_view_count": null,
            "_view_module": "@jupyter-widgets/base",
            "_view_module_version": "1.2.0",
            "_view_name": "StyleView",
            "description_width": ""
          }
        },
        "6b7e700accd445b48c5907a769598f4f": {
          "model_module": "@jupyter-widgets/base",
          "model_name": "LayoutModel",
          "model_module_version": "1.2.0",
          "state": {
            "_model_module": "@jupyter-widgets/base",
            "_model_module_version": "1.2.0",
            "_model_name": "LayoutModel",
            "_view_count": null,
            "_view_module": "@jupyter-widgets/base",
            "_view_module_version": "1.2.0",
            "_view_name": "LayoutView",
            "align_content": null,
            "align_items": null,
            "align_self": null,
            "border": null,
            "bottom": null,
            "display": null,
            "flex": null,
            "flex_flow": null,
            "grid_area": null,
            "grid_auto_columns": null,
            "grid_auto_flow": null,
            "grid_auto_rows": null,
            "grid_column": null,
            "grid_gap": null,
            "grid_row": null,
            "grid_template_areas": null,
            "grid_template_columns": null,
            "grid_template_rows": null,
            "height": null,
            "justify_content": null,
            "justify_items": null,
            "left": null,
            "margin": null,
            "max_height": null,
            "max_width": null,
            "min_height": null,
            "min_width": null,
            "object_fit": null,
            "object_position": null,
            "order": null,
            "overflow": null,
            "overflow_x": null,
            "overflow_y": null,
            "padding": null,
            "right": null,
            "top": null,
            "visibility": null,
            "width": null
          }
        },
        "ec1bfc66cbea498ba8dd3fac03016b5e": {
          "model_module": "@jupyter-widgets/controls",
          "model_name": "ProgressStyleModel",
          "model_module_version": "1.5.0",
          "state": {
            "_model_module": "@jupyter-widgets/controls",
            "_model_module_version": "1.5.0",
            "_model_name": "ProgressStyleModel",
            "_view_count": null,
            "_view_module": "@jupyter-widgets/base",
            "_view_module_version": "1.2.0",
            "_view_name": "StyleView",
            "bar_color": null,
            "description_width": ""
          }
        },
        "705c5d614a7d4af1b2f965270ea3f1df": {
          "model_module": "@jupyter-widgets/base",
          "model_name": "LayoutModel",
          "model_module_version": "1.2.0",
          "state": {
            "_model_module": "@jupyter-widgets/base",
            "_model_module_version": "1.2.0",
            "_model_name": "LayoutModel",
            "_view_count": null,
            "_view_module": "@jupyter-widgets/base",
            "_view_module_version": "1.2.0",
            "_view_name": "LayoutView",
            "align_content": null,
            "align_items": null,
            "align_self": null,
            "border": null,
            "bottom": null,
            "display": null,
            "flex": null,
            "flex_flow": null,
            "grid_area": null,
            "grid_auto_columns": null,
            "grid_auto_flow": null,
            "grid_auto_rows": null,
            "grid_column": null,
            "grid_gap": null,
            "grid_row": null,
            "grid_template_areas": null,
            "grid_template_columns": null,
            "grid_template_rows": null,
            "height": null,
            "justify_content": null,
            "justify_items": null,
            "left": null,
            "margin": null,
            "max_height": null,
            "max_width": null,
            "min_height": null,
            "min_width": null,
            "object_fit": null,
            "object_position": null,
            "order": null,
            "overflow": null,
            "overflow_x": null,
            "overflow_y": null,
            "padding": null,
            "right": null,
            "top": null,
            "visibility": null,
            "width": null
          }
        },
        "23e2334e4b2747c7a17d087fc9614b2f": {
          "model_module": "@jupyter-widgets/controls",
          "model_name": "DescriptionStyleModel",
          "model_module_version": "1.5.0",
          "state": {
            "_model_module": "@jupyter-widgets/controls",
            "_model_module_version": "1.5.0",
            "_model_name": "DescriptionStyleModel",
            "_view_count": null,
            "_view_module": "@jupyter-widgets/base",
            "_view_module_version": "1.2.0",
            "_view_name": "StyleView",
            "description_width": ""
          }
        },
        "4c15147dd4294e6a8df8112cda499ea0": {
          "model_module": "@jupyter-widgets/controls",
          "model_name": "HBoxModel",
          "model_module_version": "1.5.0",
          "state": {
            "_dom_classes": [],
            "_model_module": "@jupyter-widgets/controls",
            "_model_module_version": "1.5.0",
            "_model_name": "HBoxModel",
            "_view_count": null,
            "_view_module": "@jupyter-widgets/controls",
            "_view_module_version": "1.5.0",
            "_view_name": "HBoxView",
            "box_style": "",
            "children": [
              "IPY_MODEL_a5312be990d94aa3ac39b07ed73ffd48",
              "IPY_MODEL_3ffe0a5cee864049a42d520e0903c6d6",
              "IPY_MODEL_c2ecaa6df9374f93b54d9a568b6f1b58"
            ],
            "layout": "IPY_MODEL_db820f32e6024e06acf1a57d5ffafe65"
          }
        },
        "a5312be990d94aa3ac39b07ed73ffd48": {
          "model_module": "@jupyter-widgets/controls",
          "model_name": "HTMLModel",
          "model_module_version": "1.5.0",
          "state": {
            "_dom_classes": [],
            "_model_module": "@jupyter-widgets/controls",
            "_model_module_version": "1.5.0",
            "_model_name": "HTMLModel",
            "_view_count": null,
            "_view_module": "@jupyter-widgets/controls",
            "_view_module_version": "1.5.0",
            "_view_name": "HTMLView",
            "description": "",
            "description_tooltip": null,
            "layout": "IPY_MODEL_b057de838e424f408ad0166189625aa0",
            "placeholder": "​",
            "style": "IPY_MODEL_06ad51be9ab54b858c753251eb31a93b",
            "value": "100%"
          }
        },
        "3ffe0a5cee864049a42d520e0903c6d6": {
          "model_module": "@jupyter-widgets/controls",
          "model_name": "FloatProgressModel",
          "model_module_version": "1.5.0",
          "state": {
            "_dom_classes": [],
            "_model_module": "@jupyter-widgets/controls",
            "_model_module_version": "1.5.0",
            "_model_name": "FloatProgressModel",
            "_view_count": null,
            "_view_module": "@jupyter-widgets/controls",
            "_view_module_version": "1.5.0",
            "_view_name": "ProgressView",
            "bar_style": "success",
            "description": "",
            "description_tooltip": null,
            "layout": "IPY_MODEL_d9f16462eb2b4b2ab71a8b3a41901396",
            "max": 25000,
            "min": 0,
            "orientation": "horizontal",
            "style": "IPY_MODEL_c0c48ca500c24319808bdd4a8c8acc27",
            "value": 25000
          }
        },
        "c2ecaa6df9374f93b54d9a568b6f1b58": {
          "model_module": "@jupyter-widgets/controls",
          "model_name": "HTMLModel",
          "model_module_version": "1.5.0",
          "state": {
            "_dom_classes": [],
            "_model_module": "@jupyter-widgets/controls",
            "_model_module_version": "1.5.0",
            "_model_name": "HTMLModel",
            "_view_count": null,
            "_view_module": "@jupyter-widgets/controls",
            "_view_module_version": "1.5.0",
            "_view_name": "HTMLView",
            "description": "",
            "description_tooltip": null,
            "layout": "IPY_MODEL_a7f13ab04b2942198bce8286f5a3ab2f",
            "placeholder": "​",
            "style": "IPY_MODEL_63cb4c7aaf8e44f5a2bc140ef846815e",
            "value": " 25000/25000 [00:50&lt;00:00, 571.76it/s]"
          }
        },
        "db820f32e6024e06acf1a57d5ffafe65": {
          "model_module": "@jupyter-widgets/base",
          "model_name": "LayoutModel",
          "model_module_version": "1.2.0",
          "state": {
            "_model_module": "@jupyter-widgets/base",
            "_model_module_version": "1.2.0",
            "_model_name": "LayoutModel",
            "_view_count": null,
            "_view_module": "@jupyter-widgets/base",
            "_view_module_version": "1.2.0",
            "_view_name": "LayoutView",
            "align_content": null,
            "align_items": null,
            "align_self": null,
            "border": null,
            "bottom": null,
            "display": null,
            "flex": null,
            "flex_flow": null,
            "grid_area": null,
            "grid_auto_columns": null,
            "grid_auto_flow": null,
            "grid_auto_rows": null,
            "grid_column": null,
            "grid_gap": null,
            "grid_row": null,
            "grid_template_areas": null,
            "grid_template_columns": null,
            "grid_template_rows": null,
            "height": null,
            "justify_content": null,
            "justify_items": null,
            "left": null,
            "margin": null,
            "max_height": null,
            "max_width": null,
            "min_height": null,
            "min_width": null,
            "object_fit": null,
            "object_position": null,
            "order": null,
            "overflow": null,
            "overflow_x": null,
            "overflow_y": null,
            "padding": null,
            "right": null,
            "top": null,
            "visibility": null,
            "width": null
          }
        },
        "b057de838e424f408ad0166189625aa0": {
          "model_module": "@jupyter-widgets/base",
          "model_name": "LayoutModel",
          "model_module_version": "1.2.0",
          "state": {
            "_model_module": "@jupyter-widgets/base",
            "_model_module_version": "1.2.0",
            "_model_name": "LayoutModel",
            "_view_count": null,
            "_view_module": "@jupyter-widgets/base",
            "_view_module_version": "1.2.0",
            "_view_name": "LayoutView",
            "align_content": null,
            "align_items": null,
            "align_self": null,
            "border": null,
            "bottom": null,
            "display": null,
            "flex": null,
            "flex_flow": null,
            "grid_area": null,
            "grid_auto_columns": null,
            "grid_auto_flow": null,
            "grid_auto_rows": null,
            "grid_column": null,
            "grid_gap": null,
            "grid_row": null,
            "grid_template_areas": null,
            "grid_template_columns": null,
            "grid_template_rows": null,
            "height": null,
            "justify_content": null,
            "justify_items": null,
            "left": null,
            "margin": null,
            "max_height": null,
            "max_width": null,
            "min_height": null,
            "min_width": null,
            "object_fit": null,
            "object_position": null,
            "order": null,
            "overflow": null,
            "overflow_x": null,
            "overflow_y": null,
            "padding": null,
            "right": null,
            "top": null,
            "visibility": null,
            "width": null
          }
        },
        "06ad51be9ab54b858c753251eb31a93b": {
          "model_module": "@jupyter-widgets/controls",
          "model_name": "DescriptionStyleModel",
          "model_module_version": "1.5.0",
          "state": {
            "_model_module": "@jupyter-widgets/controls",
            "_model_module_version": "1.5.0",
            "_model_name": "DescriptionStyleModel",
            "_view_count": null,
            "_view_module": "@jupyter-widgets/base",
            "_view_module_version": "1.2.0",
            "_view_name": "StyleView",
            "description_width": ""
          }
        },
        "d9f16462eb2b4b2ab71a8b3a41901396": {
          "model_module": "@jupyter-widgets/base",
          "model_name": "LayoutModel",
          "model_module_version": "1.2.0",
          "state": {
            "_model_module": "@jupyter-widgets/base",
            "_model_module_version": "1.2.0",
            "_model_name": "LayoutModel",
            "_view_count": null,
            "_view_module": "@jupyter-widgets/base",
            "_view_module_version": "1.2.0",
            "_view_name": "LayoutView",
            "align_content": null,
            "align_items": null,
            "align_self": null,
            "border": null,
            "bottom": null,
            "display": null,
            "flex": null,
            "flex_flow": null,
            "grid_area": null,
            "grid_auto_columns": null,
            "grid_auto_flow": null,
            "grid_auto_rows": null,
            "grid_column": null,
            "grid_gap": null,
            "grid_row": null,
            "grid_template_areas": null,
            "grid_template_columns": null,
            "grid_template_rows": null,
            "height": null,
            "justify_content": null,
            "justify_items": null,
            "left": null,
            "margin": null,
            "max_height": null,
            "max_width": null,
            "min_height": null,
            "min_width": null,
            "object_fit": null,
            "object_position": null,
            "order": null,
            "overflow": null,
            "overflow_x": null,
            "overflow_y": null,
            "padding": null,
            "right": null,
            "top": null,
            "visibility": null,
            "width": null
          }
        },
        "c0c48ca500c24319808bdd4a8c8acc27": {
          "model_module": "@jupyter-widgets/controls",
          "model_name": "ProgressStyleModel",
          "model_module_version": "1.5.0",
          "state": {
            "_model_module": "@jupyter-widgets/controls",
            "_model_module_version": "1.5.0",
            "_model_name": "ProgressStyleModel",
            "_view_count": null,
            "_view_module": "@jupyter-widgets/base",
            "_view_module_version": "1.2.0",
            "_view_name": "StyleView",
            "bar_color": null,
            "description_width": ""
          }
        },
        "a7f13ab04b2942198bce8286f5a3ab2f": {
          "model_module": "@jupyter-widgets/base",
          "model_name": "LayoutModel",
          "model_module_version": "1.2.0",
          "state": {
            "_model_module": "@jupyter-widgets/base",
            "_model_module_version": "1.2.0",
            "_model_name": "LayoutModel",
            "_view_count": null,
            "_view_module": "@jupyter-widgets/base",
            "_view_module_version": "1.2.0",
            "_view_name": "LayoutView",
            "align_content": null,
            "align_items": null,
            "align_self": null,
            "border": null,
            "bottom": null,
            "display": null,
            "flex": null,
            "flex_flow": null,
            "grid_area": null,
            "grid_auto_columns": null,
            "grid_auto_flow": null,
            "grid_auto_rows": null,
            "grid_column": null,
            "grid_gap": null,
            "grid_row": null,
            "grid_template_areas": null,
            "grid_template_columns": null,
            "grid_template_rows": null,
            "height": null,
            "justify_content": null,
            "justify_items": null,
            "left": null,
            "margin": null,
            "max_height": null,
            "max_width": null,
            "min_height": null,
            "min_width": null,
            "object_fit": null,
            "object_position": null,
            "order": null,
            "overflow": null,
            "overflow_x": null,
            "overflow_y": null,
            "padding": null,
            "right": null,
            "top": null,
            "visibility": null,
            "width": null
          }
        },
        "63cb4c7aaf8e44f5a2bc140ef846815e": {
          "model_module": "@jupyter-widgets/controls",
          "model_name": "DescriptionStyleModel",
          "model_module_version": "1.5.0",
          "state": {
            "_model_module": "@jupyter-widgets/controls",
            "_model_module_version": "1.5.0",
            "_model_name": "DescriptionStyleModel",
            "_view_count": null,
            "_view_module": "@jupyter-widgets/base",
            "_view_module_version": "1.2.0",
            "_view_name": "StyleView",
            "description_width": ""
          }
        },
        "4a2c600204544750981a49dd2d6ea215": {
          "model_module": "@jupyter-widgets/controls",
          "model_name": "HBoxModel",
          "model_module_version": "1.5.0",
          "state": {
            "_dom_classes": [],
            "_model_module": "@jupyter-widgets/controls",
            "_model_module_version": "1.5.0",
            "_model_name": "HBoxModel",
            "_view_count": null,
            "_view_module": "@jupyter-widgets/controls",
            "_view_module_version": "1.5.0",
            "_view_name": "HBoxView",
            "box_style": "",
            "children": [
              "IPY_MODEL_789f56a7316c4b8da43b09f8c2e84397",
              "IPY_MODEL_a01eaf367b514bcf8733c7c2192d1dda",
              "IPY_MODEL_e6ce8304ccd7437aa8abe9d34b457bd7"
            ],
            "layout": "IPY_MODEL_f17913f5556c4e649087f1a62e4c7bbb"
          }
        },
        "789f56a7316c4b8da43b09f8c2e84397": {
          "model_module": "@jupyter-widgets/controls",
          "model_name": "HTMLModel",
          "model_module_version": "1.5.0",
          "state": {
            "_dom_classes": [],
            "_model_module": "@jupyter-widgets/controls",
            "_model_module_version": "1.5.0",
            "_model_name": "HTMLModel",
            "_view_count": null,
            "_view_module": "@jupyter-widgets/controls",
            "_view_module_version": "1.5.0",
            "_view_name": "HTMLView",
            "description": "",
            "description_tooltip": null,
            "layout": "IPY_MODEL_83ca1f2ccbb140ca8f7755d379a35cb6",
            "placeholder": "​",
            "style": "IPY_MODEL_5fe7b7b2a1c44eb2a51a1a4f4f7e9537",
            "value": "100%"
          }
        },
        "a01eaf367b514bcf8733c7c2192d1dda": {
          "model_module": "@jupyter-widgets/controls",
          "model_name": "FloatProgressModel",
          "model_module_version": "1.5.0",
          "state": {
            "_dom_classes": [],
            "_model_module": "@jupyter-widgets/controls",
            "_model_module_version": "1.5.0",
            "_model_name": "FloatProgressModel",
            "_view_count": null,
            "_view_module": "@jupyter-widgets/controls",
            "_view_module_version": "1.5.0",
            "_view_name": "ProgressView",
            "bar_style": "success",
            "description": "",
            "description_tooltip": null,
            "layout": "IPY_MODEL_a7c4903194fa477caf55eac570dd502f",
            "max": 198801,
            "min": 0,
            "orientation": "horizontal",
            "style": "IPY_MODEL_3b04135af9a849d4a0017ec0d62a6f95",
            "value": 198801
          }
        },
        "e6ce8304ccd7437aa8abe9d34b457bd7": {
          "model_module": "@jupyter-widgets/controls",
          "model_name": "HTMLModel",
          "model_module_version": "1.5.0",
          "state": {
            "_dom_classes": [],
            "_model_module": "@jupyter-widgets/controls",
            "_model_module_version": "1.5.0",
            "_model_name": "HTMLModel",
            "_view_count": null,
            "_view_module": "@jupyter-widgets/controls",
            "_view_module_version": "1.5.0",
            "_view_name": "HTMLView",
            "description": "",
            "description_tooltip": null,
            "layout": "IPY_MODEL_d9c9e9d0379b4150b07a72672fafb283",
            "placeholder": "​",
            "style": "IPY_MODEL_b303880f1c2c401f83368a654cf8587a",
            "value": " 198801/198801 [00:27&lt;00:00, 8442.18it/s]"
          }
        },
        "f17913f5556c4e649087f1a62e4c7bbb": {
          "model_module": "@jupyter-widgets/base",
          "model_name": "LayoutModel",
          "model_module_version": "1.2.0",
          "state": {
            "_model_module": "@jupyter-widgets/base",
            "_model_module_version": "1.2.0",
            "_model_name": "LayoutModel",
            "_view_count": null,
            "_view_module": "@jupyter-widgets/base",
            "_view_module_version": "1.2.0",
            "_view_name": "LayoutView",
            "align_content": null,
            "align_items": null,
            "align_self": null,
            "border": null,
            "bottom": null,
            "display": null,
            "flex": null,
            "flex_flow": null,
            "grid_area": null,
            "grid_auto_columns": null,
            "grid_auto_flow": null,
            "grid_auto_rows": null,
            "grid_column": null,
            "grid_gap": null,
            "grid_row": null,
            "grid_template_areas": null,
            "grid_template_columns": null,
            "grid_template_rows": null,
            "height": null,
            "justify_content": null,
            "justify_items": null,
            "left": null,
            "margin": null,
            "max_height": null,
            "max_width": null,
            "min_height": null,
            "min_width": null,
            "object_fit": null,
            "object_position": null,
            "order": null,
            "overflow": null,
            "overflow_x": null,
            "overflow_y": null,
            "padding": null,
            "right": null,
            "top": null,
            "visibility": null,
            "width": null
          }
        },
        "83ca1f2ccbb140ca8f7755d379a35cb6": {
          "model_module": "@jupyter-widgets/base",
          "model_name": "LayoutModel",
          "model_module_version": "1.2.0",
          "state": {
            "_model_module": "@jupyter-widgets/base",
            "_model_module_version": "1.2.0",
            "_model_name": "LayoutModel",
            "_view_count": null,
            "_view_module": "@jupyter-widgets/base",
            "_view_module_version": "1.2.0",
            "_view_name": "LayoutView",
            "align_content": null,
            "align_items": null,
            "align_self": null,
            "border": null,
            "bottom": null,
            "display": null,
            "flex": null,
            "flex_flow": null,
            "grid_area": null,
            "grid_auto_columns": null,
            "grid_auto_flow": null,
            "grid_auto_rows": null,
            "grid_column": null,
            "grid_gap": null,
            "grid_row": null,
            "grid_template_areas": null,
            "grid_template_columns": null,
            "grid_template_rows": null,
            "height": null,
            "justify_content": null,
            "justify_items": null,
            "left": null,
            "margin": null,
            "max_height": null,
            "max_width": null,
            "min_height": null,
            "min_width": null,
            "object_fit": null,
            "object_position": null,
            "order": null,
            "overflow": null,
            "overflow_x": null,
            "overflow_y": null,
            "padding": null,
            "right": null,
            "top": null,
            "visibility": null,
            "width": null
          }
        },
        "5fe7b7b2a1c44eb2a51a1a4f4f7e9537": {
          "model_module": "@jupyter-widgets/controls",
          "model_name": "DescriptionStyleModel",
          "model_module_version": "1.5.0",
          "state": {
            "_model_module": "@jupyter-widgets/controls",
            "_model_module_version": "1.5.0",
            "_model_name": "DescriptionStyleModel",
            "_view_count": null,
            "_view_module": "@jupyter-widgets/base",
            "_view_module_version": "1.2.0",
            "_view_name": "StyleView",
            "description_width": ""
          }
        },
        "a7c4903194fa477caf55eac570dd502f": {
          "model_module": "@jupyter-widgets/base",
          "model_name": "LayoutModel",
          "model_module_version": "1.2.0",
          "state": {
            "_model_module": "@jupyter-widgets/base",
            "_model_module_version": "1.2.0",
            "_model_name": "LayoutModel",
            "_view_count": null,
            "_view_module": "@jupyter-widgets/base",
            "_view_module_version": "1.2.0",
            "_view_name": "LayoutView",
            "align_content": null,
            "align_items": null,
            "align_self": null,
            "border": null,
            "bottom": null,
            "display": null,
            "flex": null,
            "flex_flow": null,
            "grid_area": null,
            "grid_auto_columns": null,
            "grid_auto_flow": null,
            "grid_auto_rows": null,
            "grid_column": null,
            "grid_gap": null,
            "grid_row": null,
            "grid_template_areas": null,
            "grid_template_columns": null,
            "grid_template_rows": null,
            "height": null,
            "justify_content": null,
            "justify_items": null,
            "left": null,
            "margin": null,
            "max_height": null,
            "max_width": null,
            "min_height": null,
            "min_width": null,
            "object_fit": null,
            "object_position": null,
            "order": null,
            "overflow": null,
            "overflow_x": null,
            "overflow_y": null,
            "padding": null,
            "right": null,
            "top": null,
            "visibility": null,
            "width": null
          }
        },
        "3b04135af9a849d4a0017ec0d62a6f95": {
          "model_module": "@jupyter-widgets/controls",
          "model_name": "ProgressStyleModel",
          "model_module_version": "1.5.0",
          "state": {
            "_model_module": "@jupyter-widgets/controls",
            "_model_module_version": "1.5.0",
            "_model_name": "ProgressStyleModel",
            "_view_count": null,
            "_view_module": "@jupyter-widgets/base",
            "_view_module_version": "1.2.0",
            "_view_name": "StyleView",
            "bar_color": null,
            "description_width": ""
          }
        },
        "d9c9e9d0379b4150b07a72672fafb283": {
          "model_module": "@jupyter-widgets/base",
          "model_name": "LayoutModel",
          "model_module_version": "1.2.0",
          "state": {
            "_model_module": "@jupyter-widgets/base",
            "_model_module_version": "1.2.0",
            "_model_name": "LayoutModel",
            "_view_count": null,
            "_view_module": "@jupyter-widgets/base",
            "_view_module_version": "1.2.0",
            "_view_name": "LayoutView",
            "align_content": null,
            "align_items": null,
            "align_self": null,
            "border": null,
            "bottom": null,
            "display": null,
            "flex": null,
            "flex_flow": null,
            "grid_area": null,
            "grid_auto_columns": null,
            "grid_auto_flow": null,
            "grid_auto_rows": null,
            "grid_column": null,
            "grid_gap": null,
            "grid_row": null,
            "grid_template_areas": null,
            "grid_template_columns": null,
            "grid_template_rows": null,
            "height": null,
            "justify_content": null,
            "justify_items": null,
            "left": null,
            "margin": null,
            "max_height": null,
            "max_width": null,
            "min_height": null,
            "min_width": null,
            "object_fit": null,
            "object_position": null,
            "order": null,
            "overflow": null,
            "overflow_x": null,
            "overflow_y": null,
            "padding": null,
            "right": null,
            "top": null,
            "visibility": null,
            "width": null
          }
        },
        "b303880f1c2c401f83368a654cf8587a": {
          "model_module": "@jupyter-widgets/controls",
          "model_name": "DescriptionStyleModel",
          "model_module_version": "1.5.0",
          "state": {
            "_model_module": "@jupyter-widgets/controls",
            "_model_module_version": "1.5.0",
            "_model_name": "DescriptionStyleModel",
            "_view_count": null,
            "_view_module": "@jupyter-widgets/base",
            "_view_module_version": "1.2.0",
            "_view_name": "StyleView",
            "description_width": ""
          }
        },
        "f90f5d2f988241bca84204d729ceea75": {
          "model_module": "@jupyter-widgets/controls",
          "model_name": "HBoxModel",
          "model_module_version": "1.5.0",
          "state": {
            "_dom_classes": [],
            "_model_module": "@jupyter-widgets/controls",
            "_model_module_version": "1.5.0",
            "_model_name": "HBoxModel",
            "_view_count": null,
            "_view_module": "@jupyter-widgets/controls",
            "_view_module_version": "1.5.0",
            "_view_name": "HBoxView",
            "box_style": "",
            "children": [
              "IPY_MODEL_5f1613f8b1c44d80873931ef178e6123",
              "IPY_MODEL_09cae9d12b1d4ac39334533757a6d6d5",
              "IPY_MODEL_83f3b050e3e94ca182429d83772a5972"
            ],
            "layout": "IPY_MODEL_887e3061dfcf4152b91adc494087675f"
          }
        },
        "5f1613f8b1c44d80873931ef178e6123": {
          "model_module": "@jupyter-widgets/controls",
          "model_name": "HTMLModel",
          "model_module_version": "1.5.0",
          "state": {
            "_dom_classes": [],
            "_model_module": "@jupyter-widgets/controls",
            "_model_module_version": "1.5.0",
            "_model_name": "HTMLModel",
            "_view_count": null,
            "_view_module": "@jupyter-widgets/controls",
            "_view_module_version": "1.5.0",
            "_view_name": "HTMLView",
            "description": "",
            "description_tooltip": null,
            "layout": "IPY_MODEL_04dac1e5c5c045dba3828219ad228169",
            "placeholder": "​",
            "style": "IPY_MODEL_20fb145c753141d5b85437ee152c0106",
            "value": "Training epoch 0::  35%"
          }
        },
        "09cae9d12b1d4ac39334533757a6d6d5": {
          "model_module": "@jupyter-widgets/controls",
          "model_name": "FloatProgressModel",
          "model_module_version": "1.5.0",
          "state": {
            "_dom_classes": [],
            "_model_module": "@jupyter-widgets/controls",
            "_model_module_version": "1.5.0",
            "_model_name": "FloatProgressModel",
            "_view_count": null,
            "_view_module": "@jupyter-widgets/controls",
            "_view_module_version": "1.5.0",
            "_view_name": "ProgressView",
            "bar_style": "",
            "description": "",
            "description_tooltip": null,
            "layout": "IPY_MODEL_427aa0db133e4216963eecc58f6c3a24",
            "max": 4970,
            "min": 0,
            "orientation": "horizontal",
            "style": "IPY_MODEL_8275f6022b824c828dae3ca03b10951a",
            "value": 1735
          }
        },
        "83f3b050e3e94ca182429d83772a5972": {
          "model_module": "@jupyter-widgets/controls",
          "model_name": "HTMLModel",
          "model_module_version": "1.5.0",
          "state": {
            "_dom_classes": [],
            "_model_module": "@jupyter-widgets/controls",
            "_model_module_version": "1.5.0",
            "_model_name": "HTMLModel",
            "_view_count": null,
            "_view_module": "@jupyter-widgets/controls",
            "_view_module_version": "1.5.0",
            "_view_name": "HTMLView",
            "description": "",
            "description_tooltip": null,
            "layout": "IPY_MODEL_3bca8b59c9db4857ba2ba8e9f81cce70",
            "placeholder": "​",
            "style": "IPY_MODEL_f6878477b2ea4735a140653a7636ce35",
            "value": " 1735/4970 [00:50&lt;01:31, 35.21it/s]"
          }
        },
        "887e3061dfcf4152b91adc494087675f": {
          "model_module": "@jupyter-widgets/base",
          "model_name": "LayoutModel",
          "model_module_version": "1.2.0",
          "state": {
            "_model_module": "@jupyter-widgets/base",
            "_model_module_version": "1.2.0",
            "_model_name": "LayoutModel",
            "_view_count": null,
            "_view_module": "@jupyter-widgets/base",
            "_view_module_version": "1.2.0",
            "_view_name": "LayoutView",
            "align_content": null,
            "align_items": null,
            "align_self": null,
            "border": null,
            "bottom": null,
            "display": null,
            "flex": null,
            "flex_flow": null,
            "grid_area": null,
            "grid_auto_columns": null,
            "grid_auto_flow": null,
            "grid_auto_rows": null,
            "grid_column": null,
            "grid_gap": null,
            "grid_row": null,
            "grid_template_areas": null,
            "grid_template_columns": null,
            "grid_template_rows": null,
            "height": null,
            "justify_content": null,
            "justify_items": null,
            "left": null,
            "margin": null,
            "max_height": null,
            "max_width": null,
            "min_height": null,
            "min_width": null,
            "object_fit": null,
            "object_position": null,
            "order": null,
            "overflow": null,
            "overflow_x": null,
            "overflow_y": null,
            "padding": null,
            "right": null,
            "top": null,
            "visibility": null,
            "width": null
          }
        },
        "04dac1e5c5c045dba3828219ad228169": {
          "model_module": "@jupyter-widgets/base",
          "model_name": "LayoutModel",
          "model_module_version": "1.2.0",
          "state": {
            "_model_module": "@jupyter-widgets/base",
            "_model_module_version": "1.2.0",
            "_model_name": "LayoutModel",
            "_view_count": null,
            "_view_module": "@jupyter-widgets/base",
            "_view_module_version": "1.2.0",
            "_view_name": "LayoutView",
            "align_content": null,
            "align_items": null,
            "align_self": null,
            "border": null,
            "bottom": null,
            "display": null,
            "flex": null,
            "flex_flow": null,
            "grid_area": null,
            "grid_auto_columns": null,
            "grid_auto_flow": null,
            "grid_auto_rows": null,
            "grid_column": null,
            "grid_gap": null,
            "grid_row": null,
            "grid_template_areas": null,
            "grid_template_columns": null,
            "grid_template_rows": null,
            "height": null,
            "justify_content": null,
            "justify_items": null,
            "left": null,
            "margin": null,
            "max_height": null,
            "max_width": null,
            "min_height": null,
            "min_width": null,
            "object_fit": null,
            "object_position": null,
            "order": null,
            "overflow": null,
            "overflow_x": null,
            "overflow_y": null,
            "padding": null,
            "right": null,
            "top": null,
            "visibility": null,
            "width": null
          }
        },
        "20fb145c753141d5b85437ee152c0106": {
          "model_module": "@jupyter-widgets/controls",
          "model_name": "DescriptionStyleModel",
          "model_module_version": "1.5.0",
          "state": {
            "_model_module": "@jupyter-widgets/controls",
            "_model_module_version": "1.5.0",
            "_model_name": "DescriptionStyleModel",
            "_view_count": null,
            "_view_module": "@jupyter-widgets/base",
            "_view_module_version": "1.2.0",
            "_view_name": "StyleView",
            "description_width": ""
          }
        },
        "427aa0db133e4216963eecc58f6c3a24": {
          "model_module": "@jupyter-widgets/base",
          "model_name": "LayoutModel",
          "model_module_version": "1.2.0",
          "state": {
            "_model_module": "@jupyter-widgets/base",
            "_model_module_version": "1.2.0",
            "_model_name": "LayoutModel",
            "_view_count": null,
            "_view_module": "@jupyter-widgets/base",
            "_view_module_version": "1.2.0",
            "_view_name": "LayoutView",
            "align_content": null,
            "align_items": null,
            "align_self": null,
            "border": null,
            "bottom": null,
            "display": null,
            "flex": null,
            "flex_flow": null,
            "grid_area": null,
            "grid_auto_columns": null,
            "grid_auto_flow": null,
            "grid_auto_rows": null,
            "grid_column": null,
            "grid_gap": null,
            "grid_row": null,
            "grid_template_areas": null,
            "grid_template_columns": null,
            "grid_template_rows": null,
            "height": null,
            "justify_content": null,
            "justify_items": null,
            "left": null,
            "margin": null,
            "max_height": null,
            "max_width": null,
            "min_height": null,
            "min_width": null,
            "object_fit": null,
            "object_position": null,
            "order": null,
            "overflow": null,
            "overflow_x": null,
            "overflow_y": null,
            "padding": null,
            "right": null,
            "top": null,
            "visibility": null,
            "width": null
          }
        },
        "8275f6022b824c828dae3ca03b10951a": {
          "model_module": "@jupyter-widgets/controls",
          "model_name": "ProgressStyleModel",
          "model_module_version": "1.5.0",
          "state": {
            "_model_module": "@jupyter-widgets/controls",
            "_model_module_version": "1.5.0",
            "_model_name": "ProgressStyleModel",
            "_view_count": null,
            "_view_module": "@jupyter-widgets/base",
            "_view_module_version": "1.2.0",
            "_view_name": "StyleView",
            "bar_color": null,
            "description_width": ""
          }
        },
        "3bca8b59c9db4857ba2ba8e9f81cce70": {
          "model_module": "@jupyter-widgets/base",
          "model_name": "LayoutModel",
          "model_module_version": "1.2.0",
          "state": {
            "_model_module": "@jupyter-widgets/base",
            "_model_module_version": "1.2.0",
            "_model_name": "LayoutModel",
            "_view_count": null,
            "_view_module": "@jupyter-widgets/base",
            "_view_module_version": "1.2.0",
            "_view_name": "LayoutView",
            "align_content": null,
            "align_items": null,
            "align_self": null,
            "border": null,
            "bottom": null,
            "display": null,
            "flex": null,
            "flex_flow": null,
            "grid_area": null,
            "grid_auto_columns": null,
            "grid_auto_flow": null,
            "grid_auto_rows": null,
            "grid_column": null,
            "grid_gap": null,
            "grid_row": null,
            "grid_template_areas": null,
            "grid_template_columns": null,
            "grid_template_rows": null,
            "height": null,
            "justify_content": null,
            "justify_items": null,
            "left": null,
            "margin": null,
            "max_height": null,
            "max_width": null,
            "min_height": null,
            "min_width": null,
            "object_fit": null,
            "object_position": null,
            "order": null,
            "overflow": null,
            "overflow_x": null,
            "overflow_y": null,
            "padding": null,
            "right": null,
            "top": null,
            "visibility": null,
            "width": null
          }
        },
        "f6878477b2ea4735a140653a7636ce35": {
          "model_module": "@jupyter-widgets/controls",
          "model_name": "DescriptionStyleModel",
          "model_module_version": "1.5.0",
          "state": {
            "_model_module": "@jupyter-widgets/controls",
            "_model_module_version": "1.5.0",
            "_model_name": "DescriptionStyleModel",
            "_view_count": null,
            "_view_module": "@jupyter-widgets/base",
            "_view_module_version": "1.2.0",
            "_view_name": "StyleView",
            "description_width": ""
          }
        }
      }
    },
    "kaggle": {
      "accelerator": "gpu",
      "dataSources": [
        {
          "sourceId": 7868809,
          "sourceType": "datasetVersion",
          "datasetId": 4616932
        },
        {
          "sourceId": 7873965,
          "sourceType": "datasetVersion",
          "datasetId": 4620483
        }
      ],
      "dockerImageVersionId": 30665,
      "isInternetEnabled": true,
      "language": "python",
      "sourceType": "notebook",
      "isGpuEnabled": true
    }
  },
  "nbformat_minor": 0,
  "nbformat": 4,
  "cells": [
    {
      "cell_type": "markdown",
      "source": [
        "<p style=\"align: center;\"><img src=\"https://static.tildacdn.com/tild6636-3531-4239-b465-376364646465/Deep_Learning_School.png\" width=\"400\"></p>\n",
        "\n",
        "# Домашнее задание. Обучение языковой модели с помощью LSTM (10 баллов)"
      ],
      "metadata": {
        "id": "d0ADTojbpfLt"
      }
    },
    {
      "cell_type": "markdown",
      "source": [
        "Э\n",
        "В этом задании Вам предстоит обучить языковую модель с помощью рекуррентной нейронной сети. В отличие от семинарского занятия, Вам необходимо будет работать с отдельными словами, а не буквами.\n",
        "\n",
        "\n",
        "Установим модуль ```datasets```, чтобы нам проще было работать с данными."
      ],
      "metadata": {
        "id": "ldHSmYY6p_mZ"
      }
    },
    {
      "cell_type": "code",
      "source": [
        "!pip install datasets"
      ],
      "metadata": {
        "id": "3yvNdv6cp_0P",
        "colab": {
          "base_uri": "https://localhost:8080/"
        },
        "outputId": "60a582c2-43f8-47c8-bd72-3eea5ac424ed",
        "execution": {
          "iopub.status.busy": "2024-03-18T07:24:11.560554Z",
          "iopub.execute_input": "2024-03-18T07:24:11.560954Z",
          "iopub.status.idle": "2024-03-18T07:24:26.464603Z",
          "shell.execute_reply.started": "2024-03-18T07:24:11.560917Z",
          "shell.execute_reply": "2024-03-18T07:24:26.463413Z"
        },
        "trusted": true
      },
      "execution_count": null,
      "outputs": [
        {
          "name": "stdout",
          "text": "Requirement already satisfied: datasets in /opt/conda/lib/python3.10/site-packages (2.1.0)\nRequirement already satisfied: numpy>=1.17 in /opt/conda/lib/python3.10/site-packages (from datasets) (1.26.4)\nRequirement already satisfied: pyarrow>=5.0.0 in /opt/conda/lib/python3.10/site-packages (from datasets) (11.0.0)\nRequirement already satisfied: dill in /opt/conda/lib/python3.10/site-packages (from datasets) (0.3.8)\nRequirement already satisfied: pandas in /opt/conda/lib/python3.10/site-packages (from datasets) (2.1.4)\nRequirement already satisfied: requests>=2.19.0 in /opt/conda/lib/python3.10/site-packages (from datasets) (2.31.0)\nRequirement already satisfied: tqdm>=4.62.1 in /opt/conda/lib/python3.10/site-packages (from datasets) (4.66.1)\nRequirement already satisfied: xxhash in /opt/conda/lib/python3.10/site-packages (from datasets) (3.4.1)\nRequirement already satisfied: multiprocess in /opt/conda/lib/python3.10/site-packages (from datasets) (0.70.16)\nRequirement already satisfied: fsspec>=2021.05.0 in /opt/conda/lib/python3.10/site-packages (from fsspec[http]>=2021.05.0->datasets) (2024.2.0)\nRequirement already satisfied: aiohttp in /opt/conda/lib/python3.10/site-packages (from datasets) (3.9.1)\nRequirement already satisfied: huggingface-hub<1.0.0,>=0.1.0 in /opt/conda/lib/python3.10/site-packages (from datasets) (0.20.3)\nRequirement already satisfied: packaging in /opt/conda/lib/python3.10/site-packages (from datasets) (21.3)\nRequirement already satisfied: responses<0.19 in /opt/conda/lib/python3.10/site-packages (from datasets) (0.18.0)\nRequirement already satisfied: attrs>=17.3.0 in /opt/conda/lib/python3.10/site-packages (from aiohttp->datasets) (23.2.0)\nRequirement already satisfied: multidict<7.0,>=4.5 in /opt/conda/lib/python3.10/site-packages (from aiohttp->datasets) (6.0.4)\nRequirement already satisfied: yarl<2.0,>=1.0 in /opt/conda/lib/python3.10/site-packages (from aiohttp->datasets) (1.9.3)\nRequirement already satisfied: frozenlist>=1.1.1 in /opt/conda/lib/python3.10/site-packages (from aiohttp->datasets) (1.4.1)\nRequirement already satisfied: aiosignal>=1.1.2 in /opt/conda/lib/python3.10/site-packages (from aiohttp->datasets) (1.3.1)\nRequirement already satisfied: async-timeout<5.0,>=4.0 in /opt/conda/lib/python3.10/site-packages (from aiohttp->datasets) (4.0.3)\nRequirement already satisfied: filelock in /opt/conda/lib/python3.10/site-packages (from huggingface-hub<1.0.0,>=0.1.0->datasets) (3.13.1)\nRequirement already satisfied: pyyaml>=5.1 in /opt/conda/lib/python3.10/site-packages (from huggingface-hub<1.0.0,>=0.1.0->datasets) (6.0.1)\nRequirement already satisfied: typing-extensions>=3.7.4.3 in /opt/conda/lib/python3.10/site-packages (from huggingface-hub<1.0.0,>=0.1.0->datasets) (4.9.0)\nRequirement already satisfied: pyparsing!=3.0.5,>=2.0.2 in /opt/conda/lib/python3.10/site-packages (from packaging->datasets) (3.1.1)\nRequirement already satisfied: charset-normalizer<4,>=2 in /opt/conda/lib/python3.10/site-packages (from requests>=2.19.0->datasets) (3.3.2)\nRequirement already satisfied: idna<4,>=2.5 in /opt/conda/lib/python3.10/site-packages (from requests>=2.19.0->datasets) (3.6)\nRequirement already satisfied: urllib3<3,>=1.21.1 in /opt/conda/lib/python3.10/site-packages (from requests>=2.19.0->datasets) (1.26.18)\nRequirement already satisfied: certifi>=2017.4.17 in /opt/conda/lib/python3.10/site-packages (from requests>=2.19.0->datasets) (2024.2.2)\nRequirement already satisfied: python-dateutil>=2.8.2 in /opt/conda/lib/python3.10/site-packages (from pandas->datasets) (2.8.2)\nRequirement already satisfied: pytz>=2020.1 in /opt/conda/lib/python3.10/site-packages (from pandas->datasets) (2023.3.post1)\nRequirement already satisfied: tzdata>=2022.1 in /opt/conda/lib/python3.10/site-packages (from pandas->datasets) (2023.4)\nRequirement already satisfied: six>=1.5 in /opt/conda/lib/python3.10/site-packages (from python-dateutil>=2.8.2->pandas->datasets) (1.16.0)\n",
          "output_type": "stream"
        }
      ]
    },
    {
      "cell_type": "markdown",
      "source": [
        "Импорт необходимых библиотек"
      ],
      "metadata": {
        "id": "rh9ZXSeCpng9"
      }
    },
    {
      "cell_type": "code",
      "source": [
        "import torch\n",
        "import torch.nn as nn\n",
        "from torch.utils.data import Dataset, DataLoader\n",
        "\n",
        "import numpy as np\n",
        "import matplotlib.pyplot as plt\n",
        "\n",
        "from tqdm.auto import tqdm\n",
        "from datasets import load_dataset\n",
        "from nltk.tokenize import sent_tokenize, word_tokenize\n",
        "from sklearn.model_selection import train_test_split\n",
        "import nltk\n",
        "\n",
        "from collections import Counter\n",
        "from typing import List\n",
        "import pandas as pd\n",
        "\n",
        "import seaborn\n",
        "seaborn.set(palette='summer')"
      ],
      "metadata": {
        "id": "XOJi16bLpd_O",
        "execution": {
          "iopub.status.busy": "2024-03-18T07:24:29.543612Z",
          "iopub.execute_input": "2024-03-18T07:24:29.544545Z",
          "iopub.status.idle": "2024-03-18T07:24:36.121954Z",
          "shell.execute_reply.started": "2024-03-18T07:24:29.544507Z",
          "shell.execute_reply": "2024-03-18T07:24:36.120854Z"
        },
        "trusted": true
      },
      "execution_count": null,
      "outputs": []
    },
    {
      "cell_type": "code",
      "source": [
        "nltk.download('punkt')"
      ],
      "metadata": {
        "id": "91JuM0SQvXud",
        "colab": {
          "base_uri": "https://localhost:8080/"
        },
        "outputId": "a1546d7d-f377-4a7c-c9bf-ee2b37246d6f",
        "execution": {
          "iopub.status.busy": "2024-03-18T07:24:40.618197Z",
          "iopub.execute_input": "2024-03-18T07:24:40.619313Z",
          "iopub.status.idle": "2024-03-18T07:24:40.793760Z",
          "shell.execute_reply.started": "2024-03-18T07:24:40.619266Z",
          "shell.execute_reply": "2024-03-18T07:24:40.792811Z"
        },
        "trusted": true
      },
      "execution_count": null,
      "outputs": [
        {
          "name": "stdout",
          "text": "[nltk_data] Downloading package punkt to /usr/share/nltk_data...\n[nltk_data]   Package punkt is already up-to-date!\n",
          "output_type": "stream"
        },
        {
          "execution_count": 3,
          "output_type": "execute_result",
          "data": {
            "text/plain": "True"
          },
          "metadata": {}
        }
      ]
    },
    {
      "cell_type": "code",
      "source": [
        "device = 'cuda' if torch.cuda.is_available() else 'cpu'\n",
        "device"
      ],
      "metadata": {
        "id": "adJC8ShFq9HM",
        "colab": {
          "base_uri": "https://localhost:8080/",
          "height": 35
        },
        "outputId": "2438d3b1-60ab-48ba-8fbc-caf09daf6e0c",
        "execution": {
          "iopub.status.busy": "2024-03-18T07:24:42.703357Z",
          "iopub.execute_input": "2024-03-18T07:24:42.704098Z",
          "iopub.status.idle": "2024-03-18T07:24:42.737689Z",
          "shell.execute_reply.started": "2024-03-18T07:24:42.704066Z",
          "shell.execute_reply": "2024-03-18T07:24:42.736499Z"
        },
        "trusted": true
      },
      "execution_count": null,
      "outputs": [
        {
          "execution_count": 4,
          "output_type": "execute_result",
          "data": {
            "text/plain": "'cuda'"
          },
          "metadata": {}
        }
      ]
    },
    {
      "cell_type": "markdown",
      "source": [
        "## Подготовка данных\n",
        "\n",
        "Воспользуемся датасетом imdb. В нем хранятся отзывы о фильмах с сайта imdb. Загрузим данные с помощью функции ```load_dataset```"
      ],
      "metadata": {
        "id": "pwsfS1ENq5ig"
      }
    },
    {
      "cell_type": "code",
      "source": [
        "# Загрузим датасет\n",
        "dataset = load_dataset('imdb')"
      ],
      "metadata": {
        "id": "qHLNWOfJqSfc",
        "colab": {
          "base_uri": "https://localhost:8080/",
          "height": 368,
          "referenced_widgets": [
            "3045c3b0421e455a9a6e8202276a260a",
            "d0b7f303005e4898811e19d7901ad4ac",
            "06d54567176c4aaca5a361a8d93dee45",
            "57219bb716ee4bc38cfb2880894a9f42",
            "cee423674ae844e3a17155d65314dbbf",
            "ea58adbd7bda48eea95b1764315420ee",
            "534b783a0e734b348d0411054f7125ce",
            "8e2d6c6808ce4e048cae604f5bed7958",
            "e1a516f80d184b81814c22c063fde560",
            "f6c4ca71e85745389449f7436fb26b6e",
            "471cda97f1224a029889bf1e62f12f77",
            "69801ca71fae4f26aa9966bf32b56884",
            "faac24217e0a464a97af3eb4e875e6f6",
            "0190837d5c49462e9606b27aa714806f",
            "aebf052ddd2046f6a9cfb46ef562e8bc",
            "62a90d0704ba4056b97ed862e6e04c95",
            "3379cfa14570417f96dcd431ca7c27b4",
            "24541c2507c84f2b806524fc37779896",
            "3d9b76a665ef428c938d5388006c62f6",
            "8986735e59704bff9a31812188f8c5fa",
            "8542bfde103e4ee8b14892ee5b184cda",
            "09ddd94e5f044c829e74d7d1d2041d5a",
            "d54e24152d1e456bb9f6c9e445c05557",
            "abdb2d9070fd4247bede2ca2c7ba150e",
            "87dba02abb304830b5eba19590de1593",
            "8f39be7126974d1395a2a0b8d4e0c315",
            "08a9aad18db04f678340d32eacec7d3c",
            "18ecd5ed7d544ebfa614adb30b8953db",
            "726c7e2f806744f1a95126102c092641",
            "381601498c494aa7ba488fb5bb2a5b95",
            "477ec58b61d34742b65ee1224cbd9957",
            "2a253026543d471c8e7c998ca5de467b",
            "4fa4e95e70794f86a4d63e71504a6322",
            "e53428556a2a4f748c2a3c0eff02fc87",
            "1b178fc77b4f42a69c524038e2a372f8",
            "db39c649cb44497c85a6a7a6d61b1fbb",
            "abe73cc6b9a94cb593215f356c418f33",
            "11d353c36c894c53a652ca5a490c8c44",
            "f29f858036d5488aac23026ca5225ba0",
            "2ae2ba8c2c7743c98b4bd936cfdfd5f5",
            "6aeae9a261ca455e8212f9ed83477785",
            "0fc109b7727c4807810f127ddea7939d",
            "bb97850d483f46478c876b5c3026530c",
            "470786a779934e7abee6f9be7cf55d2b",
            "504019ca2d3440c3992c9d06b3a70178",
            "a0a0733887e34e589c1801b2305e4e50",
            "ad86a60f48d142f2aecbab1fac36b988",
            "b12c1b934b2244a487271430040345a4",
            "a62ad98e319e40cd9f5c556edea8614a",
            "1e1ff75df6b543bbbb33e302ed79ad08",
            "7fb78a9c37e843a29fcf26a2b473ff47",
            "1b7a0fc55528481b8619e6f44b36a673",
            "c4c55adf6ee94e14b6d13517955c8b6d",
            "0339842f83c04022919bf2dcdff98126",
            "62be616fef2248b791d3677d47acabe2",
            "1cf55c8453564c89a00ef85ecbe7a1f0",
            "5b338502ad5d41099a8a25f02ff094a6",
            "fe7f05bc88724821a39d8b314b064cbc",
            "abaa862192c344bab8951c07c6d87385",
            "d7cc4910cb7442cc846e4334136ddde0",
            "ae754d23a2424f7f8a5ff88a23511f4d",
            "ceb90e7b1ac44358be03a22679a49e3f",
            "4fd235368fdb450c8c10741e3cbe672f",
            "6db9c612e21842b2bb7d7998ebdae21d",
            "431ff50fc46e4fd3bfaee94ab0a82fb6",
            "2d14a9a1c2b84825ada55b91209d06d6",
            "0db30db6c0e843f1a3bf60d3a64e63ff",
            "fe3089d5ff7e40c292ebefd5996ad8cf",
            "66557bd294f846dd98bf802a8b1551e3",
            "25fdcf303a6a45bd91f5bb5a07a0258c",
            "c73880503c064ff280107b6e07b01120",
            "47e8d6645d484c94933affc352f5cc78",
            "f13aa02e7d5c4156a6cd97786080d5c5",
            "6b7e700accd445b48c5907a769598f4f",
            "ec1bfc66cbea498ba8dd3fac03016b5e",
            "705c5d614a7d4af1b2f965270ea3f1df",
            "23e2334e4b2747c7a17d087fc9614b2f",
            "ae75f12626264a2db3e8db8e506e8fe1",
            "ce8ccb20e2f34477bbe43c68d0cd949c",
            "f0db4b82290a4e3586ae0db5d3a3e698",
            "",
            "89a4762e14d24c20a706e7fcb711730d"
          ]
        },
        "outputId": "38bb637f-7161-4fb6-e9b9-940706db0a8f",
        "execution": {
          "iopub.status.busy": "2024-03-18T07:24:46.417003Z",
          "iopub.execute_input": "2024-03-18T07:24:46.417585Z",
          "iopub.status.idle": "2024-03-18T07:25:38.724655Z",
          "shell.execute_reply.started": "2024-03-18T07:24:46.417544Z",
          "shell.execute_reply": "2024-03-18T07:25:38.723631Z"
        },
        "trusted": true
      },
      "execution_count": null,
      "outputs": [
        {
          "output_type": "display_data",
          "data": {
            "text/plain": "Downloading builder script:   0%|          | 0.00/1.79k [00:00<?, ?B/s]",
            "application/vnd.jupyter.widget-view+json": {
              "version_major": 2,
              "version_minor": 0,
              "model_id": "ae75f12626264a2db3e8db8e506e8fe1"
            }
          },
          "metadata": {}
        },
        {
          "output_type": "display_data",
          "data": {
            "text/plain": "Downloading metadata:   0%|          | 0.00/1.05k [00:00<?, ?B/s]",
            "application/vnd.jupyter.widget-view+json": {
              "version_major": 2,
              "version_minor": 0,
              "model_id": "ce8ccb20e2f34477bbe43c68d0cd949c"
            }
          },
          "metadata": {}
        },
        {
          "name": "stdout",
          "text": "Downloading and preparing dataset imdb/plain_text (download: 80.23 MiB, generated: 127.02 MiB, post-processed: Unknown size, total: 207.25 MiB) to /root/.cache/huggingface/datasets/imdb/plain_text/1.0.0/2fdd8b9bcadd6e7055e742a706876ba43f19faee861df134affd7a3f60fc38a1...\n",
          "output_type": "stream"
        },
        {
          "output_type": "display_data",
          "data": {
            "text/plain": "Downloading data:   0%|          | 0.00/84.1M [00:00<?, ?B/s]",
            "application/vnd.jupyter.widget-view+json": {
              "version_major": 2,
              "version_minor": 0,
              "model_id": "f0db4b82290a4e3586ae0db5d3a3e698"
            }
          },
          "metadata": {}
        },
        {
          "output_type": "display_data",
          "data": {
            "text/plain": "Generating train split:   0%|          | 0/25000 [00:00<?, ? examples/s]",
            "application/vnd.jupyter.widget-view+json": {
              "version_major": 2,
              "version_minor": 0,
              "model_id": ""
            }
          },
          "metadata": {}
        },
        {
          "output_type": "display_data",
          "data": {
            "text/plain": "Generating test split:   0%|          | 0/25000 [00:00<?, ? examples/s]",
            "application/vnd.jupyter.widget-view+json": {
              "version_major": 2,
              "version_minor": 0,
              "model_id": ""
            }
          },
          "metadata": {}
        },
        {
          "output_type": "display_data",
          "data": {
            "text/plain": "Generating unsupervised split:   0%|          | 0/50000 [00:00<?, ? examples/s]",
            "application/vnd.jupyter.widget-view+json": {
              "version_major": 2,
              "version_minor": 0,
              "model_id": ""
            }
          },
          "metadata": {}
        },
        {
          "name": "stdout",
          "text": "Dataset imdb downloaded and prepared to /root/.cache/huggingface/datasets/imdb/plain_text/1.0.0/2fdd8b9bcadd6e7055e742a706876ba43f19faee861df134affd7a3f60fc38a1. Subsequent calls will reuse this data.\n",
          "output_type": "stream"
        },
        {
          "output_type": "display_data",
          "data": {
            "text/plain": "  0%|          | 0/3 [00:00<?, ?it/s]",
            "application/vnd.jupyter.widget-view+json": {
              "version_major": 2,
              "version_minor": 0,
              "model_id": "89a4762e14d24c20a706e7fcb711730d"
            }
          },
          "metadata": {}
        }
      ]
    },
    {
      "cell_type": "markdown",
      "source": [
        "### Препроцессинг данных и создание словаря (1 балл)\n",
        "\n",
        "Далее вам необходмо самостоятельно произвести препроцессинг данных и получить словарь или же просто ```set``` строк. Что необходимо сделать:\n",
        "\n",
        "1. Разделить отдельные тренировочные примеры на отдельные предложения с помощью функции ```sent_tokenize``` из бибилиотеки ```nltk```. Каждое отдельное предложение будет одним тренировочным примером.\n",
        "2. Оставить только те предложения, в которых меньше ```word_threshold``` слов.\n",
        "3. Посчитать частоту вхождения каждого слова в оставшихся предложениях. Для деления предлоения на отдельные слова удобно использовать функцию ```word_tokenize```.\n",
        "4. Создать объект ```vocab``` класса ```set```, положить в него служебные токены '\\<unk\\>', '\\<bos\\>', '\\<eos\\>', '\\<pad\\>' и vocab_size самых частовстречающихся слов.   "
      ],
      "metadata": {
        "id": "24gn7CuZ9agP"
      }
    },
    {
      "cell_type": "code",
      "source": [
        "dataset"
      ],
      "metadata": {
        "colab": {
          "base_uri": "https://localhost:8080/"
        },
        "id": "vDAe_N6s4rXx",
        "outputId": "8501bcbf-224b-42d8-dc95-ae4af3e25b75",
        "execution": {
          "iopub.status.busy": "2024-03-17T16:17:46.318907Z",
          "iopub.execute_input": "2024-03-17T16:17:46.319236Z",
          "iopub.status.idle": "2024-03-17T16:17:46.325800Z",
          "shell.execute_reply.started": "2024-03-17T16:17:46.319205Z",
          "shell.execute_reply": "2024-03-17T16:17:46.324966Z"
        },
        "trusted": true
      },
      "execution_count": null,
      "outputs": [
        {
          "execution_count": 6,
          "output_type": "execute_result",
          "data": {
            "text/plain": "DatasetDict({\n    train: Dataset({\n        features: ['text', 'label'],\n        num_rows: 25000\n    })\n    test: Dataset({\n        features: ['text', 'label'],\n        num_rows: 25000\n    })\n    unsupervised: Dataset({\n        features: ['text', 'label'],\n        num_rows: 50000\n    })\n})"
          },
          "metadata": {}
        }
      ]
    },
    {
      "cell_type": "code",
      "source": [
        "dataset['train']['text'][10]"
      ],
      "metadata": {
        "colab": {
          "base_uri": "https://localhost:8080/",
          "height": 143
        },
        "id": "IAiWvcK243Zg",
        "outputId": "37297d29-5c47-4f2d-edfc-26c4548e965d",
        "execution": {
          "iopub.status.busy": "2024-03-16T15:00:12.448939Z",
          "iopub.execute_input": "2024-03-16T15:00:12.449300Z",
          "iopub.status.idle": "2024-03-16T15:00:12.528494Z",
          "shell.execute_reply.started": "2024-03-16T15:00:12.449273Z",
          "shell.execute_reply": "2024-03-16T15:00:12.527458Z"
        },
        "trusted": true
      },
      "execution_count": null,
      "outputs": [
        {
          "execution_count": 8,
          "output_type": "execute_result",
          "data": {
            "text/plain": "'It was great to see some of my favorite stars of 30 years ago including John Ritter, Ben Gazarra and Audrey Hepburn. They looked quite wonderful. But that was it. They were not given any characters or good lines to work with. I neither understood or cared what the characters were doing.<br /><br />Some of the smaller female roles were fine, Patty Henson and Colleen Camp were quite competent and confident in their small sidekick parts. They showed some talent and it is sad they didn\\'t go on to star in more and better films. Sadly, I didn\\'t think Dorothy Stratten got a chance to act in this her only important film role.<br /><br />The film appears to have some fans, and I was very open-minded when I started watching it. I am a big Peter Bogdanovich fan and I enjoyed his last movie, \"Cat\\'s Meow\" and all his early ones from \"Targets\" to \"Nickleodeon\". So, it really surprised me that I was barely able to keep awake watching this one.<br /><br />It is ironic that this movie is about a detective agency where the detectives and clients get romantically involved with each other. Five years later, Bogdanovich\\'s ex-girlfriend, Cybil Shepherd had a hit television series called \"Moonlighting\" stealing the story idea from Bogdanovich. Of course, there was a great difference in that the series relied on tons of witty dialogue, while this tries to make do with slapstick and a few screwball lines.<br /><br />Bottom line: It ain\\'t no \"Paper Moon\" and only a very pale version of \"What\\'s Up, Doc\".'"
          },
          "metadata": {}
        }
      ]
    },
    {
      "cell_type": "code",
      "source": [
        "# Получить отдельные предложения и поместить их в sentences\n",
        "\n",
        "sentences = []\n",
        "word_threshold = 32\n",
        "\n",
        "for sentence in tqdm(dataset['train']['text']):\n",
        "    sentences.extend(\n",
        "        [x.lower() for x in sent_tokenize(sentence, language='english') if len(word_tokenize(x)) < word_threshold]\n",
        "        )"
      ],
      "metadata": {
        "colab": {
          "base_uri": "https://localhost:8080/",
          "height": 49,
          "referenced_widgets": [
            "4c15147dd4294e6a8df8112cda499ea0",
            "a5312be990d94aa3ac39b07ed73ffd48",
            "3ffe0a5cee864049a42d520e0903c6d6",
            "c2ecaa6df9374f93b54d9a568b6f1b58",
            "db820f32e6024e06acf1a57d5ffafe65",
            "b057de838e424f408ad0166189625aa0",
            "06ad51be9ab54b858c753251eb31a93b",
            "d9f16462eb2b4b2ab71a8b3a41901396",
            "c0c48ca500c24319808bdd4a8c8acc27",
            "a7f13ab04b2942198bce8286f5a3ab2f",
            "63cb4c7aaf8e44f5a2bc140ef846815e",
            "4c06710324874b98bb5d1043aedd508b"
          ]
        },
        "id": "CUzLgNhU5dkl",
        "outputId": "8426d841-aff3-41aa-83fa-c8280062e295",
        "execution": {
          "iopub.status.busy": "2024-03-17T16:17:46.326804Z",
          "iopub.execute_input": "2024-03-17T16:17:46.327065Z",
          "iopub.status.idle": "2024-03-17T16:19:13.028129Z",
          "shell.execute_reply.started": "2024-03-17T16:17:46.327043Z",
          "shell.execute_reply": "2024-03-17T16:19:13.027153Z"
        },
        "trusted": true
      },
      "execution_count": null,
      "outputs": [
        {
          "output_type": "display_data",
          "data": {
            "text/plain": "  0%|          | 0/25000 [00:00<?, ?it/s]",
            "application/vnd.jupyter.widget-view+json": {
              "version_major": 2,
              "version_minor": 0,
              "model_id": "4c06710324874b98bb5d1043aedd508b"
            }
          },
          "metadata": {}
        }
      ]
    },
    {
      "cell_type": "code",
      "source": [
        "print(\"Всего предложений:\", len(sentences))"
      ],
      "metadata": {
        "id": "bxeBxP3J1Rj3",
        "colab": {
          "base_uri": "https://localhost:8080/"
        },
        "outputId": "5cab7428-27ec-48b0-aff1-de3039d3c52a",
        "execution": {
          "iopub.status.busy": "2024-03-17T16:19:13.030972Z",
          "iopub.execute_input": "2024-03-17T16:19:13.031324Z",
          "iopub.status.idle": "2024-03-17T16:19:13.036689Z",
          "shell.execute_reply.started": "2024-03-17T16:19:13.031292Z",
          "shell.execute_reply": "2024-03-17T16:19:13.035816Z"
        },
        "trusted": true
      },
      "execution_count": null,
      "outputs": [
        {
          "name": "stdout",
          "text": "Всего предложений: 198756\n",
          "output_type": "stream"
        }
      ]
    },
    {
      "cell_type": "markdown",
      "source": [
        "Посчитаем для каждого слова его встречаемость."
      ],
      "metadata": {
        "id": "iT82XkT6ULA_"
      }
    },
    {
      "cell_type": "code",
      "source": [
        "sentences[10]"
      ],
      "metadata": {
        "colab": {
          "base_uri": "https://localhost:8080/",
          "height": 35
        },
        "id": "lxjf_62TA8QF",
        "outputId": "798e12f8-21b1-40c5-d6e0-6ccf442589d6",
        "execution": {
          "iopub.status.busy": "2024-03-17T16:19:13.038088Z",
          "iopub.execute_input": "2024-03-17T16:19:13.038925Z",
          "iopub.status.idle": "2024-03-17T16:19:13.049235Z",
          "shell.execute_reply.started": "2024-03-17T16:19:13.038893Z",
          "shell.execute_reply": "2024-03-17T16:19:13.048362Z"
        },
        "trusted": true
      },
      "execution_count": null,
      "outputs": [
        {
          "execution_count": 9,
          "output_type": "execute_result",
          "data": {
            "text/plain": "\"nowhere, because they don't exist.\""
          },
          "metadata": {}
        }
      ]
    },
    {
      "cell_type": "code",
      "source": [
        "# Расчет встречаемости слов\n",
        "words = Counter()\n",
        "for sentence in  tqdm(sentences):\n",
        "    words.update(word_tokenize(sentence))"
      ],
      "metadata": {
        "colab": {
          "base_uri": "https://localhost:8080/",
          "height": 49,
          "referenced_widgets": [
            "4a2c600204544750981a49dd2d6ea215",
            "789f56a7316c4b8da43b09f8c2e84397",
            "a01eaf367b514bcf8733c7c2192d1dda",
            "e6ce8304ccd7437aa8abe9d34b457bd7",
            "f17913f5556c4e649087f1a62e4c7bbb",
            "83ca1f2ccbb140ca8f7755d379a35cb6",
            "5fe7b7b2a1c44eb2a51a1a4f4f7e9537",
            "a7c4903194fa477caf55eac570dd502f",
            "3b04135af9a849d4a0017ec0d62a6f95",
            "d9c9e9d0379b4150b07a72672fafb283",
            "b303880f1c2c401f83368a654cf8587a",
            "63ffd9aa1642499bbe68d486db2b01df"
          ]
        },
        "id": "rNNLnBIyC1oS",
        "outputId": "069564b8-df25-4336-8eb4-1de55bb6bcc9",
        "execution": {
          "iopub.status.busy": "2024-03-17T16:19:13.050301Z",
          "iopub.execute_input": "2024-03-17T16:19:13.050611Z",
          "iopub.status.idle": "2024-03-17T16:19:53.945973Z",
          "shell.execute_reply.started": "2024-03-17T16:19:13.050588Z",
          "shell.execute_reply": "2024-03-17T16:19:53.944975Z"
        },
        "trusted": true
      },
      "execution_count": null,
      "outputs": [
        {
          "output_type": "display_data",
          "data": {
            "text/plain": "  0%|          | 0/198756 [00:00<?, ?it/s]",
            "application/vnd.jupyter.widget-view+json": {
              "version_major": 2,
              "version_minor": 0,
              "model_id": "63ffd9aa1642499bbe68d486db2b01df"
            }
          },
          "metadata": {}
        }
      ]
    },
    {
      "cell_type": "code",
      "source": [
        "len(words)"
      ],
      "metadata": {
        "colab": {
          "base_uri": "https://localhost:8080/"
        },
        "id": "0dkiULzGEaYP",
        "outputId": "24b67239-b342-4bd4-8657-5544f2c30b5d",
        "execution": {
          "iopub.status.busy": "2024-03-17T16:19:53.947289Z",
          "iopub.execute_input": "2024-03-17T16:19:53.947665Z",
          "iopub.status.idle": "2024-03-17T16:19:53.954669Z",
          "shell.execute_reply.started": "2024-03-17T16:19:53.947631Z",
          "shell.execute_reply": "2024-03-17T16:19:53.953699Z"
        },
        "trusted": true
      },
      "execution_count": null,
      "outputs": [
        {
          "execution_count": 11,
          "output_type": "execute_result",
          "data": {
            "text/plain": "69757"
          },
          "metadata": {}
        }
      ]
    },
    {
      "cell_type": "markdown",
      "source": [
        "Добавим в словарь ```vocab_size``` самых встречающихся слов."
      ],
      "metadata": {
        "id": "B4k4uSoHUSI0"
      }
    },
    {
      "cell_type": "code",
      "source": [
        "words.most_common(10)"
      ],
      "metadata": {
        "colab": {
          "base_uri": "https://localhost:8080/"
        },
        "id": "FLj6jOrfHGf-",
        "outputId": "aa610795-8c8f-4814-a1a6-97c42060562a",
        "execution": {
          "iopub.status.busy": "2024-03-17T16:19:53.956185Z",
          "iopub.execute_input": "2024-03-17T16:19:53.956516Z",
          "iopub.status.idle": "2024-03-17T16:19:53.981234Z",
          "shell.execute_reply.started": "2024-03-17T16:19:53.956488Z",
          "shell.execute_reply": "2024-03-17T16:19:53.980376Z"
        },
        "trusted": true
      },
      "execution_count": null,
      "outputs": [
        {
          "execution_count": 12,
          "output_type": "execute_result",
          "data": {
            "text/plain": "[('.', 170550),\n ('the', 151411),\n (',', 114297),\n ('a', 75305),\n ('and', 73199),\n ('of', 62882),\n ('to', 60567),\n ('is', 57507),\n ('it', 51871),\n ('i', 48983)]"
          },
          "metadata": {}
        }
      ]
    },
    {
      "cell_type": "code",
      "source": [
        "# Наполнение словаря\n",
        "vocab = set(['<unk>', '<bos>', '<eos>', '<pad>'])\n",
        "vocab_size = 40000\n",
        "for word, cnt in words.most_common(vocab_size):\n",
        "    vocab.add(word)"
      ],
      "metadata": {
        "id": "OLBSVfAEHUdm",
        "execution": {
          "iopub.status.busy": "2024-03-17T16:19:53.982537Z",
          "iopub.execute_input": "2024-03-17T16:19:53.982835Z",
          "iopub.status.idle": "2024-03-17T16:19:54.078863Z",
          "shell.execute_reply.started": "2024-03-17T16:19:53.982809Z",
          "shell.execute_reply": "2024-03-17T16:19:54.077916Z"
        },
        "trusted": true
      },
      "execution_count": null,
      "outputs": []
    },
    {
      "cell_type": "code",
      "source": [
        "assert '<unk>' in vocab\n",
        "assert '<bos>' in vocab\n",
        "assert '<eos>' in vocab\n",
        "assert '<pad>' in vocab\n",
        "assert len(vocab) == vocab_size + 4"
      ],
      "metadata": {
        "id": "ieT0DFUpXnV2",
        "execution": {
          "iopub.status.busy": "2024-03-17T16:19:54.083043Z",
          "iopub.execute_input": "2024-03-17T16:19:54.083326Z",
          "iopub.status.idle": "2024-03-17T16:19:54.087954Z",
          "shell.execute_reply.started": "2024-03-17T16:19:54.083302Z",
          "shell.execute_reply": "2024-03-17T16:19:54.086997Z"
        },
        "trusted": true
      },
      "execution_count": null,
      "outputs": []
    },
    {
      "cell_type": "code",
      "source": [
        "print(\"Всего слов в словаре:\", len(vocab))"
      ],
      "metadata": {
        "id": "JhACW2CQyck5",
        "colab": {
          "base_uri": "https://localhost:8080/"
        },
        "outputId": "71a93537-c2c8-412f-80bb-93022249d086",
        "execution": {
          "iopub.status.busy": "2024-03-17T16:19:54.089096Z",
          "iopub.execute_input": "2024-03-17T16:19:54.089435Z",
          "iopub.status.idle": "2024-03-17T16:19:54.099175Z",
          "shell.execute_reply.started": "2024-03-17T16:19:54.089391Z",
          "shell.execute_reply": "2024-03-17T16:19:54.098067Z"
        },
        "trusted": true
      },
      "execution_count": null,
      "outputs": [
        {
          "name": "stdout",
          "text": "Всего слов в словаре: 40004\n",
          "output_type": "stream"
        }
      ]
    },
    {
      "cell_type": "markdown",
      "source": [
        "### Подготовка датасета (1 балл)\n",
        "\n",
        "Далее, как и в семинарском занятии, подготовим датасеты и даталоадеры.\n",
        "\n",
        "В классе ```WordDataset``` вам необходимо реализовать метод ```__getitem__```, который будет возвращать сэмпл данных по входному idx, то есть список целых чисел (индексов слов).\n",
        "\n",
        "Внутри этого метода необходимо добавить служебные токены начала и конца последовательности, а также токенизировать соответствующее предложение с помощью ```word_tokenize``` и сопоставить ему индексы из ```word2ind```."
      ],
      "metadata": {
        "id": "UmeRYKSIUcdE"
      }
    },
    {
      "cell_type": "code",
      "source": [
        "word2ind = {char: i for i, char in enumerate(vocab)}\n",
        "ind2word = {i: char for char, i in word2ind.items()}"
      ],
      "metadata": {
        "id": "iD7SmSy3v2dl",
        "execution": {
          "iopub.status.busy": "2024-03-17T16:19:54.100265Z",
          "iopub.execute_input": "2024-03-17T16:19:54.100605Z",
          "iopub.status.idle": "2024-03-17T16:19:54.121707Z",
          "shell.execute_reply.started": "2024-03-17T16:19:54.100575Z",
          "shell.execute_reply": "2024-03-17T16:19:54.120814Z"
        },
        "trusted": true
      },
      "execution_count": null,
      "outputs": []
    },
    {
      "cell_type": "code",
      "source": [
        "class WordDataset:\n",
        "    def __init__(self, sentences):\n",
        "        self.data = sentences\n",
        "        self.unk_id = word2ind['<unk>']\n",
        "        self.bos_id = word2ind['<bos>']\n",
        "        self.eos_id = word2ind['<eos>']\n",
        "        self.pad_id = word2ind['<pad>']\n",
        "\n",
        "    def __getitem__(self, idx: int) -> List[int]:\n",
        "        tokenized_sentence = []\n",
        "        # Допишите код здесь\n",
        "        tokenized_sentence = [self.bos_id]\n",
        "        tokenized_sentence += [word2ind.get(char, self.unk_id) for char in word_tokenize(self.data[idx])]\n",
        "        tokenized_sentence += [self.eos_id]\n",
        "\n",
        "        return tokenized_sentence\n",
        "\n",
        "    def __len__(self) -> int:\n",
        "        return len(self.data)"
      ],
      "metadata": {
        "id": "FVzXL17PzC7K",
        "execution": {
          "iopub.status.busy": "2024-03-17T16:19:54.122828Z",
          "iopub.execute_input": "2024-03-17T16:19:54.123217Z",
          "iopub.status.idle": "2024-03-17T16:19:54.131923Z",
          "shell.execute_reply.started": "2024-03-17T16:19:54.123187Z",
          "shell.execute_reply": "2024-03-17T16:19:54.131028Z"
        },
        "trusted": true
      },
      "execution_count": null,
      "outputs": []
    },
    {
      "cell_type": "code",
      "source": [
        "def collate_fn_with_padding(\n",
        "    input_batch: List[List[int]], pad_id=word2ind['<pad>']) -> torch.Tensor:\n",
        "    seq_lens = [len(x) for x in input_batch]\n",
        "    max_seq_len = max(seq_lens)\n",
        "\n",
        "    new_batch = []\n",
        "    for sequence in input_batch:\n",
        "        for _ in range(max_seq_len - len(sequence)):\n",
        "            sequence.append(pad_id)\n",
        "        new_batch.append(sequence)\n",
        "\n",
        "    sequences = torch.LongTensor(new_batch).to(device)\n",
        "\n",
        "    new_batch = {\n",
        "        'input_ids': sequences[:,:-1],\n",
        "        'target_ids': sequences[:,1:]\n",
        "    }\n",
        "\n",
        "    return new_batch"
      ],
      "metadata": {
        "id": "I6CtYNMp2_g0",
        "execution": {
          "iopub.status.busy": "2024-03-18T07:43:16.883303Z",
          "iopub.execute_input": "2024-03-18T07:43:16.883735Z",
          "iopub.status.idle": "2024-03-18T07:43:16.891719Z",
          "shell.execute_reply.started": "2024-03-18T07:43:16.883689Z",
          "shell.execute_reply": "2024-03-18T07:43:16.890708Z"
        },
        "trusted": true
      },
      "execution_count": null,
      "outputs": []
    },
    {
      "cell_type": "code",
      "source": [
        "train_sentences, eval_sentences = train_test_split(sentences, test_size=0.2, random_state = 42)\n",
        "\n",
        "eval_sentences, test_sentences = train_test_split(eval_sentences, test_size=0.5, random_state = 42)\n",
        "\n",
        "train_dataset = WordDataset(train_sentences)\n",
        "eval_dataset = WordDataset(eval_sentences)\n",
        "test_dataset = WordDataset(test_sentences)\n",
        "\n",
        "batch_size = 128\n",
        "\n",
        "train_dataloader = DataLoader(\n",
        "    train_dataset, collate_fn=collate_fn_with_padding, shuffle=True, batch_size=batch_size)\n",
        "\n",
        "eval_dataloader = DataLoader(\n",
        "    eval_dataset, collate_fn=collate_fn_with_padding, shuffle=False, batch_size=batch_size)\n",
        "\n",
        "test_dataloader = DataLoader(\n",
        "    test_dataset, collate_fn=collate_fn_with_padding, shuffle=False, batch_size=batch_size)"
      ],
      "metadata": {
        "id": "6xmeK9Ys1BIG",
        "execution": {
          "iopub.status.busy": "2024-03-17T16:19:54.148885Z",
          "iopub.execute_input": "2024-03-17T16:19:54.149670Z",
          "iopub.status.idle": "2024-03-17T16:19:54.235097Z",
          "shell.execute_reply.started": "2024-03-17T16:19:54.149638Z",
          "shell.execute_reply": "2024-03-17T16:19:54.234250Z"
        },
        "trusted": true
      },
      "execution_count": null,
      "outputs": []
    },
    {
      "cell_type": "code",
      "source": [
        "a = next(iter(train_dataloader))\n",
        "s = a['input_ids'][0].tolist()\n",
        "print([ind2word[i] for i in s])"
      ],
      "metadata": {
        "colab": {
          "base_uri": "https://localhost:8080/"
        },
        "id": "42kZt4z8qMEw",
        "outputId": "110ec57d-2bd7-46d2-d5be-82e1b6ec9f5e",
        "execution": {
          "iopub.status.busy": "2024-03-17T16:23:36.033205Z",
          "iopub.execute_input": "2024-03-17T16:23:36.033889Z",
          "iopub.status.idle": "2024-03-17T16:23:36.083298Z",
          "shell.execute_reply.started": "2024-03-17T16:23:36.033857Z",
          "shell.execute_reply": "2024-03-17T16:23:36.082522Z"
        },
        "trusted": true
      },
      "execution_count": null,
      "outputs": [
        {
          "name": "stdout",
          "text": "['<bos>', 'whether', 'or', 'not', 'the', 'viewer', 'finds', 'the', 'finished', 'product', 'rewarding', 'has', 'much', 'to', 'do', 'with', 'our', 'individual', 'methods', 'of', 'processing', 'visual', 'and', 'conceptual', 'information', '.', '<eos>', '<pad>', '<pad>', '<pad>', '<pad>', '<pad>']\n",
          "output_type": "stream"
        }
      ]
    },
    {
      "cell_type": "markdown",
      "source": [
        "## Обучение и архитектура модели\n",
        "\n",
        "Вам необходимо на практике проверить, что влияет на качество языковых моделей. В этом задании нужно провести серию экспериментов с различными вариантами языковых моделей и сравнить различия в конечной перплексии на тестовом множестве.\n",
        "\n",
        "Возмоэные идеи для экспериментов:\n",
        "\n",
        "* Различные RNN-блоки, например, LSTM или GRU. Также можно добавить сразу несколько RNN блоков друг над другом с помощью аргумента num_layers. Вам поможет официальная документация [здесь](https://pytorch.org/docs/stable/generated/torch.nn.LSTM.html)\n",
        "* Различные размеры скрытого состояния. Различное количество линейных слоев после RNN-блока. Различные функции активации.\n",
        "* Добавление нормализаций в виде Dropout, BatchNorm или LayerNorm\n",
        "* Различные аргументы для оптимизации, например, подбор оптимального learning rate или тип алгоритма оптимизации SGD, Adam, RMSProp и другие\n",
        "* Любые другие идеи и подходы\n",
        "\n",
        "После проведения экспериментов необходимо составить таблицу результатов, в которой описан каждый эксперимент и посчитана перплексия на тестовом множестве.\n",
        "\n",
        "Учтите, что эксперименты, которые различаются, например, только размером скрытого состояния или количеством линейных слоев считаются, как один эксперимент.\n",
        "\n",
        "Успехов!"
      ],
      "metadata": {
        "id": "SMAexY7Y45E4"
      }
    },
    {
      "cell_type": "markdown",
      "source": [
        "### Функция evaluate (1 балл)\n",
        "\n",
        "Заполните функцию ```evaluate```"
      ],
      "metadata": {
        "id": "KP1cO-3bmDv9"
      }
    },
    {
      "cell_type": "code",
      "source": [
        "def evaluate(model, criterion, dataloader) -> float:\n",
        "    model.eval()\n",
        "    perplexity = []\n",
        "    with torch.no_grad():\n",
        "        for batch in dataloader:\n",
        "            logits = model(batch['input_ids']).flatten(start_dim=0, end_dim=1) # Посчитайте логиты предсказаний следующих слов\n",
        "            loss = criterion(logits, batch['target_ids'].flatten())\n",
        "            perplexity.append(torch.exp(loss).item())\n",
        "\n",
        "    perplexity = sum(perplexity) / len(perplexity)\n",
        "\n",
        "    return perplexity"
      ],
      "metadata": {
        "id": "XUlMUVJ3mL4r",
        "execution": {
          "iopub.status.busy": "2024-03-18T07:43:20.831104Z",
          "iopub.execute_input": "2024-03-18T07:43:20.831496Z",
          "iopub.status.idle": "2024-03-18T07:43:20.838887Z",
          "shell.execute_reply.started": "2024-03-18T07:43:20.831466Z",
          "shell.execute_reply": "2024-03-18T07:43:20.837692Z"
        },
        "trusted": true
      },
      "execution_count": null,
      "outputs": []
    },
    {
      "cell_type": "markdown",
      "source": [
        "### Train loop (1 балл)\n",
        "\n",
        "Напишите функцию для обучения модели."
      ],
      "metadata": {
        "id": "bLV63Vsk7loy"
      }
    },
    {
      "cell_type": "code",
      "source": [
        "# Напишите код здесь\n",
        "\n",
        "def train_model(optimizer, criterion, model, num_epoch):\n",
        "    losses = []\n",
        "    perplexities = []\n",
        "\n",
        "    for epoch in range(num_epoch):\n",
        "        epoch_losses = []\n",
        "        model.train()\n",
        "        for batch in tqdm(train_dataloader, desc=f'Training epoch {epoch+1}:'):\n",
        "            optimizer.zero_grad()\n",
        "            logits = model(batch['input_ids']).flatten(start_dim=0, end_dim=1)\n",
        "            loss = criterion(logits, batch['target_ids'].flatten())\n",
        "            loss.backward()\n",
        "            optimizer.step()\n",
        "\n",
        "            epoch_losses.append(loss.item())\n",
        "\n",
        "        losses.append(sum(epoch_losses) / len(epoch_losses))\n",
        "        perplexities.append(evaluate(model, criterion, test_dataloader))\n",
        "\n",
        "    return losses, perplexities"
      ],
      "metadata": {
        "id": "bSZmUC3YmocP",
        "execution": {
          "iopub.status.busy": "2024-03-18T07:43:23.561883Z",
          "iopub.execute_input": "2024-03-18T07:43:23.562644Z",
          "iopub.status.idle": "2024-03-18T07:43:23.571630Z",
          "shell.execute_reply.started": "2024-03-18T07:43:23.562609Z",
          "shell.execute_reply": "2024-03-18T07:43:23.570217Z"
        },
        "trusted": true
      },
      "execution_count": null,
      "outputs": []
    },
    {
      "cell_type": "code",
      "source": [
        "# Функция для отрисовки графиков\n",
        "def plot_graph():\n",
        "    plt.figure(figsize=(10, 5))\n",
        "\n",
        "    plt.subplot(1, 2, 1)\n",
        "    plt.plot(np.arange(len(losses)), losses)\n",
        "    plt.title('Losses')\n",
        "    plt.xlabel(\"epoch\")\n",
        "\n",
        "    plt.subplot(1, 2, 2)\n",
        "    plt.plot(np.arange(len(perplexities)), perplexities)\n",
        "    plt.title('Perplexity')\n",
        "    plt.xlabel(\"epoch\")\n",
        "\n",
        "    plt.show()"
      ],
      "metadata": {
        "execution": {
          "iopub.status.busy": "2024-03-18T07:43:26.103109Z",
          "iopub.execute_input": "2024-03-18T07:43:26.103530Z",
          "iopub.status.idle": "2024-03-18T07:43:26.110982Z",
          "shell.execute_reply.started": "2024-03-18T07:43:26.103498Z",
          "shell.execute_reply": "2024-03-18T07:43:26.109735Z"
        },
        "trusted": true,
        "id": "CaNFbQF52MZT"
      },
      "execution_count": null,
      "outputs": []
    },
    {
      "cell_type": "code",
      "source": [
        "# функция генерации\n",
        "def generate_sequence(model, starting_seq:str, max_seq_len:int=128):\n",
        "    device = 'cpu'\n",
        "    model = model.to(device)\n",
        "    input_ids = [word2ind['<bos>']] + [\n",
        "      word2ind.get(char.lower(), word2ind['<unk>']) for char in word_tokenize(starting_seq)]\n",
        "    input_ids = torch.LongTensor(input_ids).to(device)\n",
        "    model.eval()\n",
        "    with torch.no_grad():\n",
        "        for i in range(max_seq_len):\n",
        "            next_char_distribution = model(input_ids)[-1]\n",
        "            next_char = next_char_distribution.squeeze().argmax()\n",
        "            input_ids = torch.cat([input_ids, next_char.unsqueeze(0)])\n",
        "\n",
        "            if next_char.item() == word2ind['<eos>']:\n",
        "                break\n",
        "\n",
        "    words = ' '.join([ind2word[idx.item()] for idx in input_ids])\n",
        "\n",
        "    return words"
      ],
      "metadata": {
        "execution": {
          "iopub.status.busy": "2024-03-18T07:43:28.395146Z",
          "iopub.execute_input": "2024-03-18T07:43:28.395863Z",
          "iopub.status.idle": "2024-03-18T07:43:28.406319Z",
          "shell.execute_reply.started": "2024-03-18T07:43:28.395828Z",
          "shell.execute_reply": "2024-03-18T07:43:28.405299Z"
        },
        "trusted": true,
        "id": "QZ5bI8j02MZT"
      },
      "execution_count": null,
      "outputs": []
    },
    {
      "cell_type": "markdown",
      "source": [
        "### Первый эксперимент (2 балла)\n",
        "\n",
        "Базовая модель.\n",
        "\n",
        "\n",
        "Определите архитектуру модели и обучите её."
      ],
      "metadata": {
        "id": "hXmeyhBQmuq4"
      }
    },
    {
      "cell_type": "code",
      "source": [
        "# Опишите свою нейронную сеть здесь\n",
        "\n",
        "class LanguageModel(nn.Module):\n",
        "    def __init__(self, hidden_dim: int, vocab_size: int):\n",
        "        super().__init__()\n",
        "        self.embedding = nn.Embedding(vocab_size, hidden_dim)\n",
        "        self.rnn = nn.GRU(hidden_dim, hidden_dim, batch_first=True)\n",
        "        self.linear = nn.Linear(hidden_dim, hidden_dim)\n",
        "        self.projection = nn.Linear(hidden_dim, vocab_size)\n",
        "        self.non_lin = nn.Tanh()\n",
        "        self.dropout = nn.Dropout(p=0.1)\n",
        "\n",
        "    def forward(self, input_batch: torch.Tensor) -> torch.Tensor:\n",
        "        # А тут опишите forward pass модели\n",
        "        embeddings = self.embedding(input_batch)  # [batch_size, seq_len, hidden_dim]\n",
        "        output, _ = self.rnn(embeddings)  # [batch_size, seq_len, hidden_dim]\n",
        "        output = self.dropout(self.linear(self.non_lin(output)))  # [batch_size, seq_len, hidden_dim]\n",
        "        projection = self.projection(self.non_lin(output))  # [batch_size, seq_len, vocab_size]\n",
        "\n",
        "        return projection"
      ],
      "metadata": {
        "id": "qaWvqNJom0ij",
        "execution": {
          "iopub.status.busy": "2024-03-17T11:17:50.277704Z",
          "iopub.execute_input": "2024-03-17T11:17:50.278575Z",
          "iopub.status.idle": "2024-03-17T11:17:50.286405Z",
          "shell.execute_reply.started": "2024-03-17T11:17:50.278530Z",
          "shell.execute_reply": "2024-03-17T11:17:50.285281Z"
        },
        "trusted": true
      },
      "execution_count": null,
      "outputs": []
    },
    {
      "cell_type": "code",
      "source": [
        "# Обучите модель здесь\n",
        "model = LanguageModel(hidden_dim=256, vocab_size=len(vocab)).to(device)\n",
        "\n",
        "criterion = nn.CrossEntropyLoss(ignore_index=word2ind['<pad>'])\n",
        "optimizer = torch.optim.Adam(model.parameters())"
      ],
      "metadata": {
        "id": "TxbEzn5fnBOY",
        "execution": {
          "iopub.status.busy": "2024-03-17T11:17:55.036635Z",
          "iopub.execute_input": "2024-03-17T11:17:55.037037Z",
          "iopub.status.idle": "2024-03-17T11:17:57.332254Z",
          "shell.execute_reply.started": "2024-03-17T11:17:55.037006Z",
          "shell.execute_reply": "2024-03-17T11:17:57.331479Z"
        },
        "trusted": true
      },
      "execution_count": null,
      "outputs": []
    },
    {
      "cell_type": "code",
      "source": [
        "model"
      ],
      "metadata": {
        "colab": {
          "base_uri": "https://localhost:8080/"
        },
        "id": "w4mJ7jjRNMeU",
        "outputId": "2881dd07-8fd9-4c61-b588-1a26a5aea881",
        "execution": {
          "iopub.status.busy": "2024-03-17T11:17:58.970738Z",
          "iopub.execute_input": "2024-03-17T11:17:58.971884Z",
          "iopub.status.idle": "2024-03-17T11:17:58.978324Z",
          "shell.execute_reply.started": "2024-03-17T11:17:58.971831Z",
          "shell.execute_reply": "2024-03-17T11:17:58.977224Z"
        },
        "trusted": true
      },
      "execution_count": null,
      "outputs": [
        {
          "execution_count": 26,
          "output_type": "execute_result",
          "data": {
            "text/plain": "LanguageModel(\n  (embedding): Embedding(40004, 256)\n  (rnn): GRU(256, 256, batch_first=True)\n  (linear): Linear(in_features=256, out_features=256, bias=True)\n  (projection): Linear(in_features=256, out_features=40004, bias=True)\n  (non_lin): Tanh()\n  (dropout): Dropout(p=0.1, inplace=False)\n)"
          },
          "metadata": {}
        }
      ]
    },
    {
      "cell_type": "code",
      "source": [
        "losses, perplexities = train_model(optimizer, criterion, model, 5)"
      ],
      "metadata": {
        "colab": {
          "base_uri": "https://localhost:8080/",
          "height": 49,
          "referenced_widgets": [
            "f90f5d2f988241bca84204d729ceea75",
            "5f1613f8b1c44d80873931ef178e6123",
            "09cae9d12b1d4ac39334533757a6d6d5",
            "83f3b050e3e94ca182429d83772a5972",
            "887e3061dfcf4152b91adc494087675f",
            "04dac1e5c5c045dba3828219ad228169",
            "20fb145c753141d5b85437ee152c0106",
            "427aa0db133e4216963eecc58f6c3a24",
            "8275f6022b824c828dae3ca03b10951a",
            "3bca8b59c9db4857ba2ba8e9f81cce70",
            "f6878477b2ea4735a140653a7636ce35",
            "765e4fcfb2f249ed9a083581ffd5f9bd",
            "a0f512a13f6841febbfadca7973fd7c5",
            "fdef3c8ccfb143febb0441c2ead17f16",
            "dd50c8a4532e4f11976e77fd58df7a99",
            "ab5aba478491441293813f3c1aea8fa8"
          ]
        },
        "id": "5Sf6hwXDNsoF",
        "outputId": "2d8124fd-4efd-4f98-bf1b-387950fbf956",
        "execution": {
          "iopub.status.busy": "2024-03-17T11:18:04.002065Z",
          "iopub.execute_input": "2024-03-17T11:18:04.002671Z",
          "iopub.status.idle": "2024-03-17T11:27:27.504140Z",
          "shell.execute_reply.started": "2024-03-17T11:18:04.002642Z",
          "shell.execute_reply": "2024-03-17T11:27:27.503301Z"
        },
        "trusted": true
      },
      "execution_count": null,
      "outputs": [
        {
          "output_type": "display_data",
          "data": {
            "text/plain": "Training epoch 1::   0%|          | 0/1243 [00:00<?, ?it/s]",
            "application/vnd.jupyter.widget-view+json": {
              "version_major": 2,
              "version_minor": 0,
              "model_id": "765e4fcfb2f249ed9a083581ffd5f9bd"
            }
          },
          "metadata": {}
        },
        {
          "output_type": "display_data",
          "data": {
            "text/plain": "Training epoch 2::   0%|          | 0/1243 [00:00<?, ?it/s]",
            "application/vnd.jupyter.widget-view+json": {
              "version_major": 2,
              "version_minor": 0,
              "model_id": "a0f512a13f6841febbfadca7973fd7c5"
            }
          },
          "metadata": {}
        },
        {
          "output_type": "display_data",
          "data": {
            "text/plain": "Training epoch 3::   0%|          | 0/1243 [00:00<?, ?it/s]",
            "application/vnd.jupyter.widget-view+json": {
              "version_major": 2,
              "version_minor": 0,
              "model_id": "fdef3c8ccfb143febb0441c2ead17f16"
            }
          },
          "metadata": {}
        },
        {
          "output_type": "display_data",
          "data": {
            "text/plain": "Training epoch 4::   0%|          | 0/1243 [00:00<?, ?it/s]",
            "application/vnd.jupyter.widget-view+json": {
              "version_major": 2,
              "version_minor": 0,
              "model_id": "dd50c8a4532e4f11976e77fd58df7a99"
            }
          },
          "metadata": {}
        },
        {
          "output_type": "display_data",
          "data": {
            "text/plain": "Training epoch 5::   0%|          | 0/1243 [00:00<?, ?it/s]",
            "application/vnd.jupyter.widget-view+json": {
              "version_major": 2,
              "version_minor": 0,
              "model_id": "ab5aba478491441293813f3c1aea8fa8"
            }
          },
          "metadata": {}
        }
      ]
    },
    {
      "cell_type": "code",
      "source": [
        "plot_graph()\n",
        "print(f\"Лучшая perplexities: {(min(perplexities)):.2f}\")"
      ],
      "metadata": {
        "colab": {
          "base_uri": "https://localhost:8080/",
          "height": 514
        },
        "id": "w1F8Il4zeD27",
        "outputId": "786cbb78-457e-40d3-cdae-082faa69c611",
        "execution": {
          "iopub.status.busy": "2024-03-17T11:29:07.869018Z",
          "iopub.execute_input": "2024-03-17T11:29:07.869725Z",
          "iopub.status.idle": "2024-03-17T11:29:08.426357Z",
          "shell.execute_reply.started": "2024-03-17T11:29:07.869693Z",
          "shell.execute_reply": "2024-03-17T11:29:08.425269Z"
        },
        "trusted": true
      },
      "execution_count": null,
      "outputs": [
        {
          "output_type": "display_data",
          "data": {
            "text/plain": "<Figure size 1000x500 with 2 Axes>",
            "image/png": "[encoded data removed]"
          },
          "metadata": {}
        },
        {
          "name": "stdout",
          "text": "Лучшая perplexities: 140.04\n",
          "output_type": "stream"
        }
      ]
    },
    {
      "cell_type": "code",
      "source": [
        "generate_sequence(model, starting_seq='I have many favourite artists')"
      ],
      "metadata": {
        "execution": {
          "iopub.status.busy": "2024-03-17T11:29:41.426333Z",
          "iopub.execute_input": "2024-03-17T11:29:41.426685Z",
          "iopub.status.idle": "2024-03-17T11:29:41.686602Z",
          "shell.execute_reply.started": "2024-03-17T11:29:41.426655Z",
          "shell.execute_reply": "2024-03-17T11:29:41.685601Z"
        },
        "trusted": true,
        "id": "wTiJfHMZ2MZV",
        "outputId": "e3f55ad9-a9f5-4c27-8723-1a8fa2fc1c43"
      },
      "execution_count": null,
      "outputs": [
        {
          "execution_count": 30,
          "output_type": "execute_result",
          "data": {
            "text/plain": "'<bos> i have many favourite artists who have seen this movie . <eos>'"
          },
          "metadata": {}
        }
      ]
    },
    {
      "cell_type": "code",
      "source": [
        "# сохранение результата в таблицу\n",
        "import pandas as pd\n",
        "compare_df1 = pd.DataFrame({'perplexities': round(min(perplexities), 3),\n",
        "                            'type_RNN/num_layers': ['GRU ; num_layers = 1 '],\n",
        "                            'hidden_dim/num_of_nn.Linear/activation': ['256, 2; nn.Tanh'],\n",
        "                            'normalization': ['nn.Dropout(p=0.1)'],\n",
        "                            'optimizer/lr': ['Adam; 0.001']}, index = ['experiment_1'])\n",
        "compare_df1"
      ],
      "metadata": {
        "id": "pK4vO4ymVZBu",
        "execution": {
          "iopub.status.busy": "2024-03-17T11:30:23.542014Z",
          "iopub.execute_input": "2024-03-17T11:30:23.542423Z",
          "iopub.status.idle": "2024-03-17T11:30:23.556508Z",
          "shell.execute_reply.started": "2024-03-17T11:30:23.542390Z",
          "shell.execute_reply": "2024-03-17T11:30:23.555411Z"
        },
        "trusted": true,
        "outputId": "3ce086a9-07b8-42d3-b86a-352ad2829592"
      },
      "execution_count": null,
      "outputs": [
        {
          "execution_count": 31,
          "output_type": "execute_result",
          "data": {
            "text/plain": "              perplexities    type_RNN/num_layers  \\\nexperiment_1       106.597  GRU ; num_layers = 1    \n\n             hidden_dim/num_of_nn.Linear/activation      normalization  \\\nexperiment_1                        256, 2; nn.Tanh  nn.Dropout(p=0.1)   \n\n             optimizer/lr  \nexperiment_1  Adam; 0.001  ",
            "text/html": "<div>\n<style scoped>\n    .dataframe tbody tr th:only-of-type {\n        vertical-align: middle;\n    }\n\n    .dataframe tbody tr th {\n        vertical-align: top;\n    }\n\n    .dataframe thead th {\n        text-align: right;\n    }\n</style>\n<table border=\"1\" class=\"dataframe\">\n  <thead>\n    <tr style=\"text-align: right;\">\n      <th></th>\n      <th>perplexities</th>\n      <th>type_RNN/num_layers</th>\n      <th>hidden_dim/num_of_nn.Linear/activation</th>\n      <th>normalization</th>\n      <th>optimizer/lr</th>\n    </tr>\n  </thead>\n  <tbody>\n    <tr>\n      <th>experiment_1</th>\n      <td>106.597</td>\n      <td>GRU ; num_layers = 1</td>\n      <td>256, 2; nn.Tanh</td>\n      <td>nn.Dropout(p=0.1)</td>\n      <td>Adam; 0.001</td>\n    </tr>\n  </tbody>\n</table>\n</div>"
          },
          "metadata": {}
        }
      ]
    },
    {
      "cell_type": "markdown",
      "source": [
        "### Второй эксперимент (2 балла)\n",
        "\n",
        "\n"
      ],
      "metadata": {
        "id": "X1EW4faIm0tl"
      }
    },
    {
      "cell_type": "markdown",
      "source": [
        "#### Эксперимент 2.1"
      ],
      "metadata": {
        "id": "py1WRvvaVGs9"
      }
    },
    {
      "cell_type": "markdown",
      "source": [
        "\n",
        "```\n",
        "LSTM модель / num_layers = 2\n",
        "```"
      ],
      "metadata": {
        "id": "b_SyqpOYVHN2"
      }
    },
    {
      "cell_type": "code",
      "source": [
        "# Проведите второй эксперимент\n",
        "class LanguageModel(nn.Module):\n",
        "    def __init__(self, hidden_dim: int, vocab_size: int, num_layers = 2):\n",
        "        super().__init__()\n",
        "        self.embedding = nn.Embedding(vocab_size, hidden_dim)\n",
        "        self.rnn = nn.LSTM(hidden_dim, hidden_dim,num_layers = 2, batch_first=True)\n",
        "        self.linear = nn.Linear(hidden_dim, hidden_dim)\n",
        "        self.projection = nn.Linear(hidden_dim, vocab_size)\n",
        "        self.non_lin = nn.Tanh()\n",
        "        self.dropout = nn.Dropout(p=0.1)\n",
        "\n",
        "    def forward(self, input_batch: torch.Tensor) -> torch.Tensor:\n",
        "        # А тут опишите forward pass модели\n",
        "        embeddings = self.embedding(input_batch)  # [batch_size, seq_len, hidden_dim]\n",
        "        output, _ = self.rnn(embeddings)  # [batch_size, seq_len, hidden_dim]\n",
        "        output = self.dropout(self.linear(self.non_lin(output)))  # [batch_size, seq_len, hidden_dim]\n",
        "        projection = self.projection(self.non_lin(output))  # [batch_size, seq_len, vocab_size]\n",
        "\n",
        "        return projection"
      ],
      "metadata": {
        "id": "wkSE4jR1XzTg",
        "execution": {
          "iopub.status.busy": "2024-03-17T11:42:28.162635Z",
          "iopub.execute_input": "2024-03-17T11:42:28.163551Z",
          "iopub.status.idle": "2024-03-17T11:42:28.173802Z",
          "shell.execute_reply.started": "2024-03-17T11:42:28.163508Z",
          "shell.execute_reply": "2024-03-17T11:42:28.172823Z"
        },
        "trusted": true
      },
      "execution_count": null,
      "outputs": []
    },
    {
      "cell_type": "code",
      "source": [
        "# Обучите модель здесь\n",
        "model = LanguageModel(hidden_dim=256, vocab_size=len(vocab)).to(device)\n",
        "\n",
        "criterion = nn.CrossEntropyLoss(ignore_index=word2ind['<pad>'])\n",
        "optimizer = torch.optim.Adam(model.parameters())"
      ],
      "metadata": {
        "execution": {
          "iopub.status.busy": "2024-03-17T11:42:30.835976Z",
          "iopub.execute_input": "2024-03-17T11:42:30.836348Z",
          "iopub.status.idle": "2024-03-17T11:42:31.090314Z",
          "shell.execute_reply.started": "2024-03-17T11:42:30.836316Z",
          "shell.execute_reply": "2024-03-17T11:42:31.089495Z"
        },
        "trusted": true,
        "id": "V8p3Bt9w2MZV"
      },
      "execution_count": null,
      "outputs": []
    },
    {
      "cell_type": "code",
      "source": [
        "losses, perplexities = train_model(optimizer, criterion, model, 5)"
      ],
      "metadata": {
        "execution": {
          "iopub.status.busy": "2024-03-17T11:42:44.354430Z",
          "iopub.execute_input": "2024-03-17T11:42:44.355112Z",
          "iopub.status.idle": "2024-03-17T11:52:43.172007Z",
          "shell.execute_reply.started": "2024-03-17T11:42:44.355077Z",
          "shell.execute_reply": "2024-03-17T11:52:43.171244Z"
        },
        "trusted": true,
        "colab": {
          "referenced_widgets": [
            "e43385298bb34f5399c5f847fd77ee9e",
            "9820de153285414f949798616217a67d",
            "5847a0c11afe4a7ca15e0a513160765a",
            "75491459e93a4bb691be941cce681e30",
            "b982b8001c2045749df0f9bb85e7b617"
          ]
        },
        "id": "ybPnVkgj2MZV",
        "outputId": "db58c219-1e25-4d53-bb21-7606db57ebe1"
      },
      "execution_count": null,
      "outputs": [
        {
          "output_type": "display_data",
          "data": {
            "text/plain": "Training epoch 1::   0%|          | 0/1243 [00:00<?, ?it/s]",
            "application/vnd.jupyter.widget-view+json": {
              "version_major": 2,
              "version_minor": 0,
              "model_id": "e43385298bb34f5399c5f847fd77ee9e"
            }
          },
          "metadata": {}
        },
        {
          "output_type": "display_data",
          "data": {
            "text/plain": "Training epoch 2::   0%|          | 0/1243 [00:00<?, ?it/s]",
            "application/vnd.jupyter.widget-view+json": {
              "version_major": 2,
              "version_minor": 0,
              "model_id": "9820de153285414f949798616217a67d"
            }
          },
          "metadata": {}
        },
        {
          "output_type": "display_data",
          "data": {
            "text/plain": "Training epoch 3::   0%|          | 0/1243 [00:00<?, ?it/s]",
            "application/vnd.jupyter.widget-view+json": {
              "version_major": 2,
              "version_minor": 0,
              "model_id": "5847a0c11afe4a7ca15e0a513160765a"
            }
          },
          "metadata": {}
        },
        {
          "output_type": "display_data",
          "data": {
            "text/plain": "Training epoch 4::   0%|          | 0/1243 [00:00<?, ?it/s]",
            "application/vnd.jupyter.widget-view+json": {
              "version_major": 2,
              "version_minor": 0,
              "model_id": "75491459e93a4bb691be941cce681e30"
            }
          },
          "metadata": {}
        },
        {
          "output_type": "display_data",
          "data": {
            "text/plain": "Training epoch 5::   0%|          | 0/1243 [00:00<?, ?it/s]",
            "application/vnd.jupyter.widget-view+json": {
              "version_major": 2,
              "version_minor": 0,
              "model_id": "b982b8001c2045749df0f9bb85e7b617"
            }
          },
          "metadata": {}
        }
      ]
    },
    {
      "cell_type": "code",
      "source": [
        "plot_graph()\n",
        "print(f\"Лучшая perplexities: {(min(perplexities)):.2f}\")"
      ],
      "metadata": {
        "execution": {
          "iopub.status.busy": "2024-03-17T11:53:28.610222Z",
          "iopub.execute_input": "2024-03-17T11:53:28.610570Z",
          "iopub.status.idle": "2024-03-17T11:53:29.189553Z",
          "shell.execute_reply.started": "2024-03-17T11:53:28.610542Z",
          "shell.execute_reply": "2024-03-17T11:53:29.188592Z"
        },
        "trusted": true,
        "id": "7946Oj0c2MZV",
        "outputId": "c11495e3-a240-411e-d983-6127a2d058f8"
      },
      "execution_count": null,
      "outputs": [
        {
          "output_type": "display_data",
          "data": {
            "text/plain": "<Figure size 1000x500 with 2 Axes>",
            "image/png": "[encoded data removed]"
          },
          "metadata": {}
        },
        {
          "name": "stdout",
          "text": "Лучшая perplexities: 110.73\n",
          "output_type": "stream"
        }
      ]
    },
    {
      "cell_type": "code",
      "source": [
        "generate_sequence(model, starting_seq='I have many favourite artists')"
      ],
      "metadata": {
        "execution": {
          "iopub.status.busy": "2024-03-17T11:53:37.622861Z",
          "iopub.execute_input": "2024-03-17T11:53:37.623234Z",
          "iopub.status.idle": "2024-03-17T11:53:37.910086Z",
          "shell.execute_reply.started": "2024-03-17T11:53:37.623204Z",
          "shell.execute_reply": "2024-03-17T11:53:37.909301Z"
        },
        "trusted": true,
        "id": "L81gi1eU2MZV",
        "outputId": "c50ac4ff-beb6-4612-91fa-01b4392d4ad2"
      },
      "execution_count": null,
      "outputs": [
        {
          "execution_count": 41,
          "output_type": "execute_result",
          "data": {
            "text/plain": "\"<bos> i have many favourite artists of the movie , but i was n't sure about this movie . <eos>\""
          },
          "metadata": {}
        }
      ]
    },
    {
      "cell_type": "code",
      "source": [
        "# сохранение результата в таблицу\n",
        "import pandas as pd\n",
        "compare_df2 = pd.DataFrame({'perplexities': round(min(perplexities), 3),\n",
        "                            'type_RNN/num_layers': ['LSTM; num_layers = 2'],\n",
        "                            'hidden_dim/num_of_nn.Linear/activation': ['256, 2; nn.Tanh'],\n",
        "                            'normalization': ['nn.Dropout(p=0.1)'],\n",
        "                            'optimizer/lr': ['Adam; 0.001']}, index = ['experiment_2'])\n",
        "compare_df2"
      ],
      "metadata": {
        "execution": {
          "iopub.status.busy": "2024-03-17T11:56:11.637923Z",
          "iopub.execute_input": "2024-03-17T11:56:11.638308Z",
          "iopub.status.idle": "2024-03-17T11:56:11.651305Z",
          "shell.execute_reply.started": "2024-03-17T11:56:11.638280Z",
          "shell.execute_reply": "2024-03-17T11:56:11.650234Z"
        },
        "trusted": true,
        "id": "BVX2SD_k2MZW",
        "outputId": "5613931a-9b29-4c25-cd27-aa693770a4c2"
      },
      "execution_count": null,
      "outputs": [
        {
          "execution_count": 46,
          "output_type": "execute_result",
          "data": {
            "text/plain": "              perplexities   type_RNN/num_layers  \\\nexperiment_2       110.732  LSTM; num_layers = 2   \n\n             hidden_dim/num_of_nn.Linear/activation      normalization  \\\nexperiment_2                        256, 2; nn.Tanh  nn.Dropout(p=0.1)   \n\n             optimizer/lr  \nexperiment_2  Adam; 0.001  ",
            "text/html": "<div>\n<style scoped>\n    .dataframe tbody tr th:only-of-type {\n        vertical-align: middle;\n    }\n\n    .dataframe tbody tr th {\n        vertical-align: top;\n    }\n\n    .dataframe thead th {\n        text-align: right;\n    }\n</style>\n<table border=\"1\" class=\"dataframe\">\n  <thead>\n    <tr style=\"text-align: right;\">\n      <th></th>\n      <th>perplexities</th>\n      <th>type_RNN/num_layers</th>\n      <th>hidden_dim/num_of_nn.Linear/activation</th>\n      <th>normalization</th>\n      <th>optimizer/lr</th>\n    </tr>\n  </thead>\n  <tbody>\n    <tr>\n      <th>experiment_2</th>\n      <td>110.732</td>\n      <td>LSTM; num_layers = 2</td>\n      <td>256, 2; nn.Tanh</td>\n      <td>nn.Dropout(p=0.1)</td>\n      <td>Adam; 0.001</td>\n    </tr>\n  </tbody>\n</table>\n</div>"
          },
          "metadata": {}
        }
      ]
    },
    {
      "cell_type": "code",
      "source": [
        "compare_df3 =  pd.concat((compare_df1, compare_df2), axis = 0)\n",
        "compare_df = compare_df3\n",
        "compare_df.to_pickle(\"compare_result.df\", compression=\"gzip\")\n",
        "compare_df"
      ],
      "metadata": {
        "id": "M2GCDVeeF8LP",
        "execution": {
          "iopub.status.busy": "2024-03-17T11:56:15.917515Z",
          "iopub.execute_input": "2024-03-17T11:56:15.917913Z",
          "iopub.status.idle": "2024-03-17T11:56:15.930938Z",
          "shell.execute_reply.started": "2024-03-17T11:56:15.917867Z",
          "shell.execute_reply": "2024-03-17T11:56:15.930141Z"
        },
        "trusted": true,
        "outputId": "2b33af84-4b00-4253-eac8-3c54064657bb"
      },
      "execution_count": null,
      "outputs": [
        {
          "execution_count": 47,
          "output_type": "execute_result",
          "data": {
            "text/plain": "              perplexities    type_RNN/num_layers  \\\nexperiment_1       106.597  GRU ; num_layers = 1    \nexperiment_2       110.732   LSTM; num_layers = 2   \n\n             hidden_dim/num_of_nn.Linear/activation      normalization  \\\nexperiment_1                        256, 2; nn.Tanh  nn.Dropout(p=0.1)   \nexperiment_2                        256, 2; nn.Tanh  nn.Dropout(p=0.1)   \n\n             optimizer/lr  \nexperiment_1  Adam; 0.001  \nexperiment_2  Adam; 0.001  ",
            "text/html": "<div>\n<style scoped>\n    .dataframe tbody tr th:only-of-type {\n        vertical-align: middle;\n    }\n\n    .dataframe tbody tr th {\n        vertical-align: top;\n    }\n\n    .dataframe thead th {\n        text-align: right;\n    }\n</style>\n<table border=\"1\" class=\"dataframe\">\n  <thead>\n    <tr style=\"text-align: right;\">\n      <th></th>\n      <th>perplexities</th>\n      <th>type_RNN/num_layers</th>\n      <th>hidden_dim/num_of_nn.Linear/activation</th>\n      <th>normalization</th>\n      <th>optimizer/lr</th>\n    </tr>\n  </thead>\n  <tbody>\n    <tr>\n      <th>experiment_1</th>\n      <td>106.597</td>\n      <td>GRU ; num_layers = 1</td>\n      <td>256, 2; nn.Tanh</td>\n      <td>nn.Dropout(p=0.1)</td>\n      <td>Adam; 0.001</td>\n    </tr>\n    <tr>\n      <th>experiment_2</th>\n      <td>110.732</td>\n      <td>LSTM; num_layers = 2</td>\n      <td>256, 2; nn.Tanh</td>\n      <td>nn.Dropout(p=0.1)</td>\n      <td>Adam; 0.001</td>\n    </tr>\n  </tbody>\n</table>\n</div>"
          },
          "metadata": {}
        }
      ]
    },
    {
      "cell_type": "code",
      "source": [
        "generate_sequence(model, starting_seq='I have many favourite artists')"
      ],
      "metadata": {
        "execution": {
          "iopub.status.busy": "2024-03-17T11:56:23.594829Z",
          "iopub.execute_input": "2024-03-17T11:56:23.595198Z",
          "iopub.status.idle": "2024-03-17T11:56:23.723024Z",
          "shell.execute_reply.started": "2024-03-17T11:56:23.595168Z",
          "shell.execute_reply": "2024-03-17T11:56:23.722044Z"
        },
        "trusted": true,
        "id": "0SDWTtU_2MZW",
        "outputId": "34b83d7c-82d8-4211-d1fb-cb38fa1a04bb"
      },
      "execution_count": null,
      "outputs": [
        {
          "execution_count": 48,
          "output_type": "execute_result",
          "data": {
            "text/plain": "\"<bos> i have many favourite artists of the movie , but i was n't sure about this movie . <eos>\""
          },
          "metadata": {}
        }
      ]
    },
    {
      "cell_type": "markdown",
      "source": [
        "#### Эксперимент 2.2"
      ],
      "metadata": {
        "id": "umhOOLDg2MZW"
      }
    },
    {
      "cell_type": "markdown",
      "source": [
        "\n",
        "```\n",
        "LSTM модель / num_layers = 2 / ReLU / Dropout 0.3\n",
        "```\n"
      ],
      "metadata": {
        "id": "AcosNxjyUUjU"
      }
    },
    {
      "cell_type": "code",
      "source": [
        "class LanguageModel(nn.Module):\n",
        "    def __init__(self, hidden_dim: int, vocab_size: int, num_layers = 2):\n",
        "        super().__init__()\n",
        "        self.embedding = nn.Embedding(vocab_size, hidden_dim)\n",
        "        self.rnn = nn.LSTM(hidden_dim, hidden_dim,num_layers = 2, batch_first=True)\n",
        "        self.linear = nn.Linear(hidden_dim, hidden_dim)\n",
        "        self.projection = nn.Linear(hidden_dim, vocab_size)\n",
        "        self.non_lin = nn.ReLU()\n",
        "        self.dropout = nn.Dropout(p=0.3)\n",
        "\n",
        "    def forward(self, input_batch: torch.Tensor) -> torch.Tensor:\n",
        "        # А тут опишите forward pass модели\n",
        "        embeddings = self.embedding(input_batch)  # [batch_size, seq_len, hidden_dim]\n",
        "        output, _ = self.rnn(embeddings)  # [batch_size, seq_len, hidden_dim]\n",
        "        output = self.dropout(self.linear(self.non_lin(output)))  # [batch_size, seq_len, hidden_dim]\n",
        "        projection = self.projection(self.non_lin(output))  # [batch_size, seq_len, vocab_size]\n",
        "\n",
        "        return projection"
      ],
      "metadata": {
        "execution": {
          "iopub.status.busy": "2024-03-17T12:13:57.234902Z",
          "iopub.execute_input": "2024-03-17T12:13:57.235260Z",
          "iopub.status.idle": "2024-03-17T12:13:57.243736Z",
          "shell.execute_reply.started": "2024-03-17T12:13:57.235232Z",
          "shell.execute_reply": "2024-03-17T12:13:57.242744Z"
        },
        "trusted": true,
        "id": "lsbTKMFo2MZW"
      },
      "execution_count": null,
      "outputs": []
    },
    {
      "cell_type": "code",
      "source": [
        "# Обучите модель здесь\n",
        "model = LanguageModel(hidden_dim=256, vocab_size=len(vocab)).to(device)\n",
        "\n",
        "criterion = nn.CrossEntropyLoss(ignore_index=word2ind['<pad>'])\n",
        "optimizer = torch.optim.Adam(model.parameters())"
      ],
      "metadata": {
        "execution": {
          "iopub.status.busy": "2024-03-17T12:13:59.719500Z",
          "iopub.execute_input": "2024-03-17T12:13:59.720094Z",
          "iopub.status.idle": "2024-03-17T12:13:59.975420Z",
          "shell.execute_reply.started": "2024-03-17T12:13:59.720061Z",
          "shell.execute_reply": "2024-03-17T12:13:59.974417Z"
        },
        "trusted": true,
        "id": "aRSGnv452MZW"
      },
      "execution_count": null,
      "outputs": []
    },
    {
      "cell_type": "code",
      "source": [
        "losses, perplexities = train_model(optimizer, criterion, model, 10)"
      ],
      "metadata": {
        "execution": {
          "iopub.status.busy": "2024-03-17T12:14:03.124972Z",
          "iopub.execute_input": "2024-03-17T12:14:03.125333Z",
          "iopub.status.idle": "2024-03-17T12:33:58.540915Z",
          "shell.execute_reply.started": "2024-03-17T12:14:03.125305Z",
          "shell.execute_reply": "2024-03-17T12:33:58.540148Z"
        },
        "trusted": true,
        "colab": {
          "referenced_widgets": [
            "105b07b12ca442b7a6811c4c67eb95bd",
            "a2d71e7cf8b8436bbb56e97f756aeac9",
            "0ae6977f0a1e450190ab1d078eb249a4",
            "198dc638aa0b4513a79ebd22ea7211af",
            "3e0977e28dde48c88d0c6217fac0ff50",
            "7db430875a7a41b8b3b4deee74eda552",
            "b880b1b8371c4cefbb616018981926d0",
            "ba3f2f37fd644b74901e51058037b3e6",
            "85570a3a71ac405a8c1571de8d35712f",
            "d795ed209c934662aac48058d0c5d243"
          ]
        },
        "id": "FiXgDHdO2MZW",
        "outputId": "936f43d5-5330-4ec9-eb71-e146eac22328"
      },
      "execution_count": null,
      "outputs": [
        {
          "output_type": "display_data",
          "data": {
            "text/plain": "Training epoch 1::   0%|          | 0/1243 [00:00<?, ?it/s]",
            "application/vnd.jupyter.widget-view+json": {
              "version_major": 2,
              "version_minor": 0,
              "model_id": "105b07b12ca442b7a6811c4c67eb95bd"
            }
          },
          "metadata": {}
        },
        {
          "output_type": "display_data",
          "data": {
            "text/plain": "Training epoch 2::   0%|          | 0/1243 [00:00<?, ?it/s]",
            "application/vnd.jupyter.widget-view+json": {
              "version_major": 2,
              "version_minor": 0,
              "model_id": "a2d71e7cf8b8436bbb56e97f756aeac9"
            }
          },
          "metadata": {}
        },
        {
          "output_type": "display_data",
          "data": {
            "text/plain": "Training epoch 3::   0%|          | 0/1243 [00:00<?, ?it/s]",
            "application/vnd.jupyter.widget-view+json": {
              "version_major": 2,
              "version_minor": 0,
              "model_id": "0ae6977f0a1e450190ab1d078eb249a4"
            }
          },
          "metadata": {}
        },
        {
          "output_type": "display_data",
          "data": {
            "text/plain": "Training epoch 4::   0%|          | 0/1243 [00:00<?, ?it/s]",
            "application/vnd.jupyter.widget-view+json": {
              "version_major": 2,
              "version_minor": 0,
              "model_id": "198dc638aa0b4513a79ebd22ea7211af"
            }
          },
          "metadata": {}
        },
        {
          "output_type": "display_data",
          "data": {
            "text/plain": "Training epoch 5::   0%|          | 0/1243 [00:00<?, ?it/s]",
            "application/vnd.jupyter.widget-view+json": {
              "version_major": 2,
              "version_minor": 0,
              "model_id": "3e0977e28dde48c88d0c6217fac0ff50"
            }
          },
          "metadata": {}
        },
        {
          "output_type": "display_data",
          "data": {
            "text/plain": "Training epoch 6::   0%|          | 0/1243 [00:00<?, ?it/s]",
            "application/vnd.jupyter.widget-view+json": {
              "version_major": 2,
              "version_minor": 0,
              "model_id": "7db430875a7a41b8b3b4deee74eda552"
            }
          },
          "metadata": {}
        },
        {
          "output_type": "display_data",
          "data": {
            "text/plain": "Training epoch 7::   0%|          | 0/1243 [00:00<?, ?it/s]",
            "application/vnd.jupyter.widget-view+json": {
              "version_major": 2,
              "version_minor": 0,
              "model_id": "b880b1b8371c4cefbb616018981926d0"
            }
          },
          "metadata": {}
        },
        {
          "output_type": "display_data",
          "data": {
            "text/plain": "Training epoch 8::   0%|          | 0/1243 [00:00<?, ?it/s]",
            "application/vnd.jupyter.widget-view+json": {
              "version_major": 2,
              "version_minor": 0,
              "model_id": "ba3f2f37fd644b74901e51058037b3e6"
            }
          },
          "metadata": {}
        },
        {
          "output_type": "display_data",
          "data": {
            "text/plain": "Training epoch 9::   0%|          | 0/1243 [00:00<?, ?it/s]",
            "application/vnd.jupyter.widget-view+json": {
              "version_major": 2,
              "version_minor": 0,
              "model_id": "85570a3a71ac405a8c1571de8d35712f"
            }
          },
          "metadata": {}
        },
        {
          "output_type": "display_data",
          "data": {
            "text/plain": "Training epoch 10::   0%|          | 0/1243 [00:00<?, ?it/s]",
            "application/vnd.jupyter.widget-view+json": {
              "version_major": 2,
              "version_minor": 0,
              "model_id": "d795ed209c934662aac48058d0c5d243"
            }
          },
          "metadata": {}
        }
      ]
    },
    {
      "cell_type": "code",
      "source": [
        "plot_graph()\n",
        "print(f\"Лучшая perplexities: {(min(perplexities)):.2f}\")"
      ],
      "metadata": {
        "execution": {
          "iopub.status.busy": "2024-03-17T12:34:22.306759Z",
          "iopub.execute_input": "2024-03-17T12:34:22.307206Z",
          "iopub.status.idle": "2024-03-17T12:34:22.854344Z",
          "shell.execute_reply.started": "2024-03-17T12:34:22.307172Z",
          "shell.execute_reply": "2024-03-17T12:34:22.853371Z"
        },
        "trusted": true,
        "id": "AjYEcxBa2MZW",
        "outputId": "969708a7-ba15-4cd0-a922-b2df202bf770"
      },
      "execution_count": null,
      "outputs": [
        {
          "output_type": "display_data",
          "data": {
            "text/plain": "<Figure size 1000x500 with 2 Axes>",
            "image/png": "[encoded data removed]"
          },
          "metadata": {}
        },
        {
          "name": "stdout",
          "text": "Лучшая perplexities: 115.41\n",
          "output_type": "stream"
        }
      ]
    },
    {
      "cell_type": "code",
      "source": [
        "generate_sequence(model, starting_seq='I have many favourite artists')"
      ],
      "metadata": {
        "execution": {
          "iopub.status.busy": "2024-03-17T12:34:30.976732Z",
          "iopub.execute_input": "2024-03-17T12:34:30.977566Z",
          "iopub.status.idle": "2024-03-17T12:34:31.217932Z",
          "shell.execute_reply.started": "2024-03-17T12:34:30.977532Z",
          "shell.execute_reply": "2024-03-17T12:34:31.216931Z"
        },
        "trusted": true,
        "id": "Z2v913IO2MZW",
        "outputId": "d708092b-2f9e-4b5d-9943-f9f933a75689"
      },
      "execution_count": null,
      "outputs": [
        {
          "execution_count": 67,
          "output_type": "execute_result",
          "data": {
            "text/plain": "\"<bos> i have many favourite artists in the movie , but i was n't expecting much . <eos>\""
          },
          "metadata": {}
        }
      ]
    },
    {
      "cell_type": "code",
      "source": [
        "# сохранение результата в таблицу\n",
        "import pandas as pd\n",
        "compare_df4 = pd.DataFrame({'perplexities': round(min(perplexities), 3),\n",
        "                            'type_RNN/num_layers': ['LSTM; num_layers = 2'],\n",
        "                            'hidden_dim/num_of_nn.Linear/activation': ['256, 2; nn.ReLU'],\n",
        "                            'normalization': ['nn.Dropout(p=0.3)'],\n",
        "                            'optimizer/lr': ['Adam; 0.001']}, index = ['experiment_3'])\n",
        "compare_df4"
      ],
      "metadata": {
        "execution": {
          "iopub.status.busy": "2024-03-17T12:34:58.669876Z",
          "iopub.execute_input": "2024-03-17T12:34:58.670278Z",
          "iopub.status.idle": "2024-03-17T12:34:58.684620Z",
          "shell.execute_reply.started": "2024-03-17T12:34:58.670247Z",
          "shell.execute_reply": "2024-03-17T12:34:58.683462Z"
        },
        "trusted": true,
        "id": "eJu4-yj92MZW",
        "outputId": "89cdb2da-55e3-4d4d-a655-9499a374b04f"
      },
      "execution_count": null,
      "outputs": [
        {
          "execution_count": 68,
          "output_type": "execute_result",
          "data": {
            "text/plain": "              perplexities   type_RNN/num_layers  \\\nexperiment_3       115.413  LSTM; num_layers = 2   \n\n             hidden_dim/num_of_nn.Linear/activation      normalization  \\\nexperiment_3                        256, 2; nn.ReLU  nn.Dropout(p=0.3)   \n\n             optimizer/lr  \nexperiment_3  Adam; 0.001  ",
            "text/html": "<div>\n<style scoped>\n    .dataframe tbody tr th:only-of-type {\n        vertical-align: middle;\n    }\n\n    .dataframe tbody tr th {\n        vertical-align: top;\n    }\n\n    .dataframe thead th {\n        text-align: right;\n    }\n</style>\n<table border=\"1\" class=\"dataframe\">\n  <thead>\n    <tr style=\"text-align: right;\">\n      <th></th>\n      <th>perplexities</th>\n      <th>type_RNN/num_layers</th>\n      <th>hidden_dim/num_of_nn.Linear/activation</th>\n      <th>normalization</th>\n      <th>optimizer/lr</th>\n    </tr>\n  </thead>\n  <tbody>\n    <tr>\n      <th>experiment_3</th>\n      <td>115.413</td>\n      <td>LSTM; num_layers = 2</td>\n      <td>256, 2; nn.ReLU</td>\n      <td>nn.Dropout(p=0.3)</td>\n      <td>Adam; 0.001</td>\n    </tr>\n  </tbody>\n</table>\n</div>"
          },
          "metadata": {}
        }
      ]
    },
    {
      "cell_type": "code",
      "source": [
        "compare_df5 =  pd.concat((compare_df3, compare_df4), axis = 0)\n",
        "compare_df = compare_df5\n",
        "compare_df.to_pickle(\"compare_result.df\", compression=\"gzip\")\n",
        "compare_df"
      ],
      "metadata": {
        "execution": {
          "iopub.status.busy": "2024-03-17T12:35:17.543268Z",
          "iopub.execute_input": "2024-03-17T12:35:17.543612Z",
          "iopub.status.idle": "2024-03-17T12:35:17.557469Z",
          "shell.execute_reply.started": "2024-03-17T12:35:17.543582Z",
          "shell.execute_reply": "2024-03-17T12:35:17.556517Z"
        },
        "trusted": true,
        "id": "L24-KU812MZX",
        "outputId": "2d3ce7b1-688f-458f-9898-2d9f5b87e073"
      },
      "execution_count": null,
      "outputs": [
        {
          "execution_count": 69,
          "output_type": "execute_result",
          "data": {
            "text/plain": "              perplexities    type_RNN/num_layers  \\\nexperiment_1       106.597  GRU ; num_layers = 1    \nexperiment_2       110.732   LSTM; num_layers = 2   \nexperiment_3       115.413   LSTM; num_layers = 2   \n\n             hidden_dim/num_of_nn.Linear/activation      normalization  \\\nexperiment_1                        256, 2; nn.Tanh  nn.Dropout(p=0.1)   \nexperiment_2                        256, 2; nn.Tanh  nn.Dropout(p=0.1)   \nexperiment_3                        256, 2; nn.ReLU  nn.Dropout(p=0.3)   \n\n             optimizer/lr  \nexperiment_1  Adam; 0.001  \nexperiment_2  Adam; 0.001  \nexperiment_3  Adam; 0.001  ",
            "text/html": "<div>\n<style scoped>\n    .dataframe tbody tr th:only-of-type {\n        vertical-align: middle;\n    }\n\n    .dataframe tbody tr th {\n        vertical-align: top;\n    }\n\n    .dataframe thead th {\n        text-align: right;\n    }\n</style>\n<table border=\"1\" class=\"dataframe\">\n  <thead>\n    <tr style=\"text-align: right;\">\n      <th></th>\n      <th>perplexities</th>\n      <th>type_RNN/num_layers</th>\n      <th>hidden_dim/num_of_nn.Linear/activation</th>\n      <th>normalization</th>\n      <th>optimizer/lr</th>\n    </tr>\n  </thead>\n  <tbody>\n    <tr>\n      <th>experiment_1</th>\n      <td>106.597</td>\n      <td>GRU ; num_layers = 1</td>\n      <td>256, 2; nn.Tanh</td>\n      <td>nn.Dropout(p=0.1)</td>\n      <td>Adam; 0.001</td>\n    </tr>\n    <tr>\n      <th>experiment_2</th>\n      <td>110.732</td>\n      <td>LSTM; num_layers = 2</td>\n      <td>256, 2; nn.Tanh</td>\n      <td>nn.Dropout(p=0.1)</td>\n      <td>Adam; 0.001</td>\n    </tr>\n    <tr>\n      <th>experiment_3</th>\n      <td>115.413</td>\n      <td>LSTM; num_layers = 2</td>\n      <td>256, 2; nn.ReLU</td>\n      <td>nn.Dropout(p=0.3)</td>\n      <td>Adam; 0.001</td>\n    </tr>\n  </tbody>\n</table>\n</div>"
          },
          "metadata": {}
        }
      ]
    },
    {
      "cell_type": "markdown",
      "source": [
        "#### Эксперимент 2.3"
      ],
      "metadata": {
        "id": "UxTou6jX2MZX"
      }
    },
    {
      "cell_type": "markdown",
      "source": [
        "\n",
        "\n",
        "```\n",
        "LSTM модель / num_layers = 2 / ReLU / Dropout 0.3 / hidden_dim = 512\n",
        "```\n",
        "\n"
      ],
      "metadata": {
        "id": "0lDGDzwHUmGf"
      }
    },
    {
      "cell_type": "code",
      "source": [
        "class LanguageModel(nn.Module):\n",
        "    def __init__(self, hidden_dim: int, vocab_size: int, num_layers = 2):\n",
        "        super().__init__()\n",
        "        self.embedding = nn.Embedding(vocab_size, hidden_dim)\n",
        "        self.rnn = nn.LSTM(hidden_dim, hidden_dim, num_layers, batch_first=True)\n",
        "        self.linear1 = nn.Linear(hidden_dim, hidden_dim)\n",
        "        self.linear2 = nn.Linear(hidden_dim, hidden_dim)\n",
        "        self.projection = nn.Linear(hidden_dim, vocab_size)\n",
        "        self.non_lin = nn.ReLU()\n",
        "        self.dropout = nn.Dropout(p=0.3)\n",
        "\n",
        "\n",
        "    def forward(self, input_batch: torch.Tensor) -> torch.Tensor:\n",
        "        # А тут опишите forward pass модели\n",
        "        embeddings = self.embedding(input_batch)  # [batch_size, seq_len, hidden_dim]\n",
        "        output, _ = self.rnn(embeddings)  # [batch_size, seq_len, hidden_dim]\n",
        "        output = self.dropout(self.linear1(self.non_lin(output)))  # [batch_size, seq_len, hidden_dim]\n",
        "        output = self.dropout(self.linear2(self.non_lin(output)))\n",
        "        projection = self.projection(self.non_lin(output))  # [batch_size, seq_len, vocab_size]\n",
        "\n",
        "        return projection"
      ],
      "metadata": {
        "execution": {
          "iopub.status.busy": "2024-03-17T16:24:15.522484Z",
          "iopub.execute_input": "2024-03-17T16:24:15.522888Z",
          "iopub.status.idle": "2024-03-17T16:24:15.534158Z",
          "shell.execute_reply.started": "2024-03-17T16:24:15.522860Z",
          "shell.execute_reply": "2024-03-17T16:24:15.532915Z"
        },
        "trusted": true,
        "id": "7s7whXj-2MZX"
      },
      "execution_count": null,
      "outputs": []
    },
    {
      "cell_type": "code",
      "source": [
        "# Обучите модель здесь\n",
        "model = LanguageModel(hidden_dim=512, vocab_size=len(vocab)).to(device)\n",
        "\n",
        "criterion = nn.CrossEntropyLoss(ignore_index=word2ind['<pad>'])\n",
        "optimizer = torch.optim.Adam(model.parameters())"
      ],
      "metadata": {
        "execution": {
          "iopub.status.busy": "2024-03-17T13:40:50.486401Z",
          "iopub.execute_input": "2024-03-17T13:40:50.487157Z",
          "iopub.status.idle": "2024-03-17T13:40:51.009716Z",
          "shell.execute_reply.started": "2024-03-17T13:40:50.487125Z",
          "shell.execute_reply": "2024-03-17T13:40:51.008938Z"
        },
        "trusted": true,
        "id": "T9Xt4pHe2MZX"
      },
      "execution_count": null,
      "outputs": []
    },
    {
      "cell_type": "code",
      "source": [
        "model"
      ],
      "metadata": {
        "execution": {
          "iopub.status.busy": "2024-03-17T13:40:53.911581Z",
          "iopub.execute_input": "2024-03-17T13:40:53.912297Z",
          "iopub.status.idle": "2024-03-17T13:40:53.918431Z",
          "shell.execute_reply.started": "2024-03-17T13:40:53.912266Z",
          "shell.execute_reply": "2024-03-17T13:40:53.917424Z"
        },
        "trusted": true,
        "id": "Fqk78_XL2MZX",
        "outputId": "7e52c884-aabf-4ffc-c2a1-8fdb3e041afd"
      },
      "execution_count": null,
      "outputs": [
        {
          "execution_count": 103,
          "output_type": "execute_result",
          "data": {
            "text/plain": "LanguageModel(\n  (embedding): Embedding(40004, 512)\n  (rnn): LSTM(512, 512, num_layers=2, batch_first=True)\n  (linear1): Linear(in_features=512, out_features=512, bias=True)\n  (linear2): Linear(in_features=512, out_features=512, bias=True)\n  (projection): Linear(in_features=512, out_features=40004, bias=True)\n  (non_lin): ReLU()\n  (dropout): Dropout(p=0.3, inplace=False)\n)"
          },
          "metadata": {}
        }
      ]
    },
    {
      "cell_type": "code",
      "source": [
        "losses, perplexities = train_model(optimizer, criterion, model, 5)"
      ],
      "metadata": {
        "execution": {
          "iopub.status.busy": "2024-03-17T13:41:01.611162Z",
          "iopub.execute_input": "2024-03-17T13:41:01.611773Z",
          "iopub.status.idle": "2024-03-17T13:56:43.042158Z",
          "shell.execute_reply.started": "2024-03-17T13:41:01.611744Z",
          "shell.execute_reply": "2024-03-17T13:56:43.041267Z"
        },
        "trusted": true,
        "colab": {
          "referenced_widgets": [
            "b10f568b3dd1414a838801b29f8852e7",
            "e779e465d8db497791bbd9908f321877",
            "2ff567aca29048ac9b958ebc121e216f",
            "e5a31cffabf243219bb00449c6e35b12",
            "b658c8a74e5742ebba511da1765f3960"
          ]
        },
        "id": "303-nROg2MZX",
        "outputId": "43542869-2b09-4116-93e7-820bb8e97011"
      },
      "execution_count": null,
      "outputs": [
        {
          "output_type": "display_data",
          "data": {
            "text/plain": "Training epoch 1::   0%|          | 0/1243 [00:00<?, ?it/s]",
            "application/vnd.jupyter.widget-view+json": {
              "version_major": 2,
              "version_minor": 0,
              "model_id": "b10f568b3dd1414a838801b29f8852e7"
            }
          },
          "metadata": {}
        },
        {
          "output_type": "display_data",
          "data": {
            "text/plain": "Training epoch 2::   0%|          | 0/1243 [00:00<?, ?it/s]",
            "application/vnd.jupyter.widget-view+json": {
              "version_major": 2,
              "version_minor": 0,
              "model_id": "e779e465d8db497791bbd9908f321877"
            }
          },
          "metadata": {}
        },
        {
          "output_type": "display_data",
          "data": {
            "text/plain": "Training epoch 3::   0%|          | 0/1243 [00:00<?, ?it/s]",
            "application/vnd.jupyter.widget-view+json": {
              "version_major": 2,
              "version_minor": 0,
              "model_id": "2ff567aca29048ac9b958ebc121e216f"
            }
          },
          "metadata": {}
        },
        {
          "output_type": "display_data",
          "data": {
            "text/plain": "Training epoch 4::   0%|          | 0/1243 [00:00<?, ?it/s]",
            "application/vnd.jupyter.widget-view+json": {
              "version_major": 2,
              "version_minor": 0,
              "model_id": "e5a31cffabf243219bb00449c6e35b12"
            }
          },
          "metadata": {}
        },
        {
          "output_type": "display_data",
          "data": {
            "text/plain": "Training epoch 5::   0%|          | 0/1243 [00:00<?, ?it/s]",
            "application/vnd.jupyter.widget-view+json": {
              "version_major": 2,
              "version_minor": 0,
              "model_id": "b658c8a74e5742ebba511da1765f3960"
            }
          },
          "metadata": {}
        }
      ]
    },
    {
      "cell_type": "code",
      "source": [
        "plot_graph()\n",
        "print(f\"Лучшая perplexities: {(min(perplexities)):.2f}\")"
      ],
      "metadata": {
        "execution": {
          "iopub.status.busy": "2024-03-17T13:59:36.079158Z",
          "iopub.execute_input": "2024-03-17T13:59:36.079843Z",
          "iopub.status.idle": "2024-03-17T13:59:36.558244Z",
          "shell.execute_reply.started": "2024-03-17T13:59:36.079814Z",
          "shell.execute_reply": "2024-03-17T13:59:36.557342Z"
        },
        "trusted": true,
        "id": "qkJWy1iH2MZX",
        "outputId": "819c75d7-c4cc-4c79-927b-d6c8b414f977"
      },
      "execution_count": null,
      "outputs": [
        {
          "output_type": "display_data",
          "data": {
            "text/plain": "<Figure size 1000x500 with 2 Axes>",
            "image/png": "[encoded data removed]"
          },
          "metadata": {}
        },
        {
          "name": "stdout",
          "text": "Лучшая perplexities: 107.67\n",
          "output_type": "stream"
        }
      ]
    },
    {
      "cell_type": "code",
      "source": [
        "generate_sequence(model, starting_seq='I have many favourite artists')"
      ],
      "metadata": {
        "execution": {
          "iopub.status.busy": "2024-03-17T13:59:43.425750Z",
          "iopub.execute_input": "2024-03-17T13:59:43.426583Z",
          "iopub.status.idle": "2024-03-17T13:59:44.026862Z",
          "shell.execute_reply.started": "2024-03-17T13:59:43.426549Z",
          "shell.execute_reply": "2024-03-17T13:59:44.025929Z"
        },
        "trusted": true,
        "id": "QWQmVggJ2MZX",
        "outputId": "7f637fb2-1ab5-4678-e668-62a760aa08d3"
      },
      "execution_count": null,
      "outputs": [
        {
          "execution_count": 106,
          "output_type": "execute_result",
          "data": {
            "text/plain": "\"<bos> i have many favourite artists of the movie , but i was n't disappointed . <eos>\""
          },
          "metadata": {}
        }
      ]
    },
    {
      "cell_type": "code",
      "source": [
        "# сохранение результата в таблицу\n",
        "import pandas as pd\n",
        "compare_df6 = pd.DataFrame({'perplexities': round(min(perplexities), 3),\n",
        "                            'type_RNN/num_layers': ['LSTM; num_layers = 2'],\n",
        "                            'hidden_dim/num_of_nn.Linear/activation': ['512, 3; nn.ReLU'],\n",
        "                            'normalization': ['nn.Dropout(p=0.3)'],\n",
        "                            'optimizer/lr': ['Adam; 0.001']}, index = ['experiment_4'])\n",
        "compare_df6"
      ],
      "metadata": {
        "execution": {
          "iopub.status.busy": "2024-03-17T14:01:05.288974Z",
          "iopub.execute_input": "2024-03-17T14:01:05.289335Z",
          "iopub.status.idle": "2024-03-17T14:01:05.303337Z",
          "shell.execute_reply.started": "2024-03-17T14:01:05.289306Z",
          "shell.execute_reply": "2024-03-17T14:01:05.302261Z"
        },
        "trusted": true,
        "id": "g07yjBsO2MZX",
        "outputId": "c36388b5-e42b-4a79-f911-de3bff288e42"
      },
      "execution_count": null,
      "outputs": [
        {
          "execution_count": 107,
          "output_type": "execute_result",
          "data": {
            "text/plain": "              perplexities   type_RNN/num_layers  \\\nexperiment_4       107.672  LSTM; num_layers = 2   \n\n             hidden_dim/num_of_nn.Linear/activation      normalization  \\\nexperiment_4                        512, 3; nn.ReLU  nn.Dropout(p=0.3)   \n\n             optimizer/lr  \nexperiment_4  Adam; 0.001  ",
            "text/html": "<div>\n<style scoped>\n    .dataframe tbody tr th:only-of-type {\n        vertical-align: middle;\n    }\n\n    .dataframe tbody tr th {\n        vertical-align: top;\n    }\n\n    .dataframe thead th {\n        text-align: right;\n    }\n</style>\n<table border=\"1\" class=\"dataframe\">\n  <thead>\n    <tr style=\"text-align: right;\">\n      <th></th>\n      <th>perplexities</th>\n      <th>type_RNN/num_layers</th>\n      <th>hidden_dim/num_of_nn.Linear/activation</th>\n      <th>normalization</th>\n      <th>optimizer/lr</th>\n    </tr>\n  </thead>\n  <tbody>\n    <tr>\n      <th>experiment_4</th>\n      <td>107.672</td>\n      <td>LSTM; num_layers = 2</td>\n      <td>512, 3; nn.ReLU</td>\n      <td>nn.Dropout(p=0.3)</td>\n      <td>Adam; 0.001</td>\n    </tr>\n  </tbody>\n</table>\n</div>"
          },
          "metadata": {}
        }
      ]
    },
    {
      "cell_type": "code",
      "source": [
        "compare_df7 =  pd.concat((compare_df5, compare_df6), axis = 0)\n",
        "compare_df = compare_df7\n",
        "compare_df.to_pickle(\"compare_result.df\", compression=\"gzip\")\n",
        "compare_df"
      ],
      "metadata": {
        "execution": {
          "iopub.status.busy": "2024-03-17T14:01:33.454900Z",
          "iopub.execute_input": "2024-03-17T14:01:33.455233Z",
          "iopub.status.idle": "2024-03-17T14:01:33.469807Z",
          "shell.execute_reply.started": "2024-03-17T14:01:33.455207Z",
          "shell.execute_reply": "2024-03-17T14:01:33.468951Z"
        },
        "trusted": true,
        "id": "2OgiNo7E2MZX",
        "outputId": "aa0b6f6d-35fd-4dc8-ac90-4ced06707e9c"
      },
      "execution_count": null,
      "outputs": [
        {
          "execution_count": 108,
          "output_type": "execute_result",
          "data": {
            "text/plain": "              perplexities    type_RNN/num_layers  \\\nexperiment_1       106.597  GRU ; num_layers = 1    \nexperiment_2       110.732   LSTM; num_layers = 2   \nexperiment_3       115.413   LSTM; num_layers = 2   \nexperiment_4       107.672   LSTM; num_layers = 2   \n\n             hidden_dim/num_of_nn.Linear/activation      normalization  \\\nexperiment_1                        256, 2; nn.Tanh  nn.Dropout(p=0.1)   \nexperiment_2                        256, 2; nn.Tanh  nn.Dropout(p=0.1)   \nexperiment_3                        256, 2; nn.ReLU  nn.Dropout(p=0.3)   \nexperiment_4                        512, 3; nn.ReLU  nn.Dropout(p=0.3)   \n\n             optimizer/lr  \nexperiment_1  Adam; 0.001  \nexperiment_2  Adam; 0.001  \nexperiment_3  Adam; 0.001  \nexperiment_4  Adam; 0.001  ",
            "text/html": "<div>\n<style scoped>\n    .dataframe tbody tr th:only-of-type {\n        vertical-align: middle;\n    }\n\n    .dataframe tbody tr th {\n        vertical-align: top;\n    }\n\n    .dataframe thead th {\n        text-align: right;\n    }\n</style>\n<table border=\"1\" class=\"dataframe\">\n  <thead>\n    <tr style=\"text-align: right;\">\n      <th></th>\n      <th>perplexities</th>\n      <th>type_RNN/num_layers</th>\n      <th>hidden_dim/num_of_nn.Linear/activation</th>\n      <th>normalization</th>\n      <th>optimizer/lr</th>\n    </tr>\n  </thead>\n  <tbody>\n    <tr>\n      <th>experiment_1</th>\n      <td>106.597</td>\n      <td>GRU ; num_layers = 1</td>\n      <td>256, 2; nn.Tanh</td>\n      <td>nn.Dropout(p=0.1)</td>\n      <td>Adam; 0.001</td>\n    </tr>\n    <tr>\n      <th>experiment_2</th>\n      <td>110.732</td>\n      <td>LSTM; num_layers = 2</td>\n      <td>256, 2; nn.Tanh</td>\n      <td>nn.Dropout(p=0.1)</td>\n      <td>Adam; 0.001</td>\n    </tr>\n    <tr>\n      <th>experiment_3</th>\n      <td>115.413</td>\n      <td>LSTM; num_layers = 2</td>\n      <td>256, 2; nn.ReLU</td>\n      <td>nn.Dropout(p=0.3)</td>\n      <td>Adam; 0.001</td>\n    </tr>\n    <tr>\n      <th>experiment_4</th>\n      <td>107.672</td>\n      <td>LSTM; num_layers = 2</td>\n      <td>512, 3; nn.ReLU</td>\n      <td>nn.Dropout(p=0.3)</td>\n      <td>Adam; 0.001</td>\n    </tr>\n  </tbody>\n</table>\n</div>"
          },
          "metadata": {}
        }
      ]
    },
    {
      "cell_type": "markdown",
      "source": [
        "#### Эксперимент 2.4"
      ],
      "metadata": {
        "id": "Htlh2FU02MZX"
      }
    },
    {
      "cell_type": "markdown",
      "source": [
        "\n",
        "```\n",
        "LSTM модель / num_layers = 2 / ReLU / Dropout 0.3 / hidden_dim = 512 / RMSprop\n",
        "```"
      ],
      "metadata": {
        "id": "yL-XBsmfVN6M"
      }
    },
    {
      "cell_type": "code",
      "source": [
        "class LanguageModel(nn.Module):\n",
        "    def __init__(self, hidden_dim: int, vocab_size: int, num_layers = 2):\n",
        "        super().__init__()\n",
        "        self.embedding = nn.Embedding(vocab_size, hidden_dim)\n",
        "        self.rnn = nn.LSTM(hidden_dim, hidden_dim, num_layers, batch_first=True)\n",
        "        self.linear1 = nn.Linear(hidden_dim, hidden_dim)\n",
        "        self.linear2 = nn.Linear(hidden_dim, hidden_dim)\n",
        "        self.projection = nn.Linear(hidden_dim, vocab_size)\n",
        "        self.non_lin = nn.ReLU()\n",
        "        self.dropout = nn.Dropout(p=0.3)\n",
        "\n",
        "\n",
        "    def forward(self, input_batch: torch.Tensor) -> torch.Tensor:\n",
        "        # А тут опишите forward pass модели\n",
        "        embeddings = self.embedding(input_batch)  # [batch_size, seq_len, hidden_dim]\n",
        "        output, _ = self.rnn(embeddings)  # [batch_size, seq_len, hidden_dim]\n",
        "        output = self.dropout(self.linear1(self.non_lin(output)))  # [batch_size, seq_len, hidden_dim]\n",
        "        output = self.dropout(self.linear2(self.non_lin(output)))\n",
        "        projection = self.projection(self.non_lin(output))  # [batch_size, seq_len, vocab_size]\n",
        "\n",
        "        return projection"
      ],
      "metadata": {
        "execution": {
          "iopub.status.busy": "2024-03-18T07:43:34.803575Z",
          "iopub.execute_input": "2024-03-18T07:43:34.804605Z",
          "iopub.status.idle": "2024-03-18T07:43:34.815646Z",
          "shell.execute_reply.started": "2024-03-18T07:43:34.804558Z",
          "shell.execute_reply": "2024-03-18T07:43:34.814544Z"
        },
        "trusted": true,
        "id": "5E-98kKu2MZY"
      },
      "execution_count": null,
      "outputs": []
    },
    {
      "cell_type": "code",
      "source": [
        "# Обучите модель здесь\n",
        "model = LanguageModel(hidden_dim=512, vocab_size=len(vocab)).to(device)\n",
        "\n",
        "criterion = nn.CrossEntropyLoss(ignore_index=word2ind['<pad>'])\n",
        "optimizer = torch.optim.RMSprop(model.parameters(), lr=0.001)"
      ],
      "metadata": {
        "execution": {
          "iopub.status.busy": "2024-03-17T14:48:30.301026Z",
          "iopub.execute_input": "2024-03-17T14:48:30.301605Z",
          "iopub.status.idle": "2024-03-17T14:48:30.828467Z",
          "shell.execute_reply.started": "2024-03-17T14:48:30.301574Z",
          "shell.execute_reply": "2024-03-17T14:48:30.827657Z"
        },
        "trusted": true,
        "id": "kKtMYGM02MZY"
      },
      "execution_count": null,
      "outputs": []
    },
    {
      "cell_type": "code",
      "source": [
        "losses, perplexities = train_model(optimizer, criterion, model, 5)"
      ],
      "metadata": {
        "execution": {
          "iopub.status.busy": "2024-03-17T14:48:34.241270Z",
          "iopub.execute_input": "2024-03-17T14:48:34.241634Z",
          "iopub.status.idle": "2024-03-17T15:04:09.652608Z",
          "shell.execute_reply.started": "2024-03-17T14:48:34.241604Z",
          "shell.execute_reply": "2024-03-17T15:04:09.651700Z"
        },
        "trusted": true,
        "colab": {
          "referenced_widgets": [
            "5b1c8556f5674b298f9f522db8ffea38",
            "d18b356fefe34e3584e395c716a133f0",
            "a58f5d151e654c43bfafa9cd67e4d4d9",
            "e634306db20e42a499b6e0d704853237",
            "037c6cbc76324e6a974264a64a1973d0"
          ]
        },
        "id": "og1GkjHY2MZY",
        "outputId": "87391a4a-f938-4606-aeed-6d61d60873db"
      },
      "execution_count": null,
      "outputs": [
        {
          "output_type": "display_data",
          "data": {
            "text/plain": "Training epoch 1::   0%|          | 0/1243 [00:00<?, ?it/s]",
            "application/vnd.jupyter.widget-view+json": {
              "version_major": 2,
              "version_minor": 0,
              "model_id": "5b1c8556f5674b298f9f522db8ffea38"
            }
          },
          "metadata": {}
        },
        {
          "output_type": "display_data",
          "data": {
            "text/plain": "Training epoch 2::   0%|          | 0/1243 [00:00<?, ?it/s]",
            "application/vnd.jupyter.widget-view+json": {
              "version_major": 2,
              "version_minor": 0,
              "model_id": "d18b356fefe34e3584e395c716a133f0"
            }
          },
          "metadata": {}
        },
        {
          "output_type": "display_data",
          "data": {
            "text/plain": "Training epoch 3::   0%|          | 0/1243 [00:00<?, ?it/s]",
            "application/vnd.jupyter.widget-view+json": {
              "version_major": 2,
              "version_minor": 0,
              "model_id": "a58f5d151e654c43bfafa9cd67e4d4d9"
            }
          },
          "metadata": {}
        },
        {
          "output_type": "display_data",
          "data": {
            "text/plain": "Training epoch 4::   0%|          | 0/1243 [00:00<?, ?it/s]",
            "application/vnd.jupyter.widget-view+json": {
              "version_major": 2,
              "version_minor": 0,
              "model_id": "e634306db20e42a499b6e0d704853237"
            }
          },
          "metadata": {}
        },
        {
          "output_type": "display_data",
          "data": {
            "text/plain": "Training epoch 5::   0%|          | 0/1243 [00:00<?, ?it/s]",
            "application/vnd.jupyter.widget-view+json": {
              "version_major": 2,
              "version_minor": 0,
              "model_id": "037c6cbc76324e6a974264a64a1973d0"
            }
          },
          "metadata": {}
        }
      ]
    },
    {
      "cell_type": "code",
      "source": [
        "plot_graph()\n",
        "print(f\"Лучшая perplexities: {(min(perplexities)):.2f}\")"
      ],
      "metadata": {
        "execution": {
          "iopub.status.busy": "2024-03-17T15:04:40.251208Z",
          "iopub.execute_input": "2024-03-17T15:04:40.251579Z",
          "iopub.status.idle": "2024-03-17T15:04:40.812779Z",
          "shell.execute_reply.started": "2024-03-17T15:04:40.251550Z",
          "shell.execute_reply": "2024-03-17T15:04:40.811906Z"
        },
        "trusted": true,
        "id": "71C3Ynga2MZY",
        "outputId": "ff2456c6-6f83-4b7f-8f2f-49885bc69e11"
      },
      "execution_count": null,
      "outputs": [
        {
          "output_type": "display_data",
          "data": {
            "text/plain": "<Figure size 1000x500 with 2 Axes>",
            "image/png": "[encoded data removed]"
          },
          "metadata": {}
        },
        {
          "name": "stdout",
          "text": "Лучшая perplexities: 113.44\n",
          "output_type": "stream"
        }
      ]
    },
    {
      "cell_type": "code",
      "source": [
        "generate_sequence(model, starting_seq='I have many favourite artists')"
      ],
      "metadata": {
        "execution": {
          "iopub.status.busy": "2024-03-17T15:04:46.492489Z",
          "iopub.execute_input": "2024-03-17T15:04:46.492858Z",
          "iopub.status.idle": "2024-03-17T15:04:46.956264Z",
          "shell.execute_reply.started": "2024-03-17T15:04:46.492831Z",
          "shell.execute_reply": "2024-03-17T15:04:46.955278Z"
        },
        "trusted": true,
        "id": "B8xGAFBV2MZY",
        "outputId": "eaec7b56-7005-4f65-fb7a-2dea1def15fe"
      },
      "execution_count": null,
      "outputs": [
        {
          "execution_count": 132,
          "output_type": "execute_result",
          "data": {
            "text/plain": "'<bos> i have many favourite artists and i was not disappointed . <eos>'"
          },
          "metadata": {}
        }
      ]
    },
    {
      "cell_type": "code",
      "source": [
        "# сохранение результата в таблицу\n",
        "compare_df8 = pd.DataFrame({'perplexities': round(min(perplexities), 3),\n",
        "                            'type_RNN/num_layers': ['LSTM; num_layers = 2'],\n",
        "                            'hidden_dim/num_of_nn.Linear/activation': ['512, 3; nn.ReLU'],\n",
        "                            'normalization': ['nn.Dropout(p=0.3)'],\n",
        "                            'optimizer/lr': ['RMSprop; 0.001']}, index = ['experiment_5'])\n",
        "# compare_df8\n",
        "\n",
        "compare_df9 =  pd.concat((compare_df7, compare_df8), axis = 0)\n",
        "compare_df = compare_df9\n",
        "compare_df.to_pickle(\"compare_result.df\", compression=\"gzip\")\n",
        "compare_df"
      ],
      "metadata": {
        "execution": {
          "iopub.status.busy": "2024-03-17T15:06:42.251077Z",
          "iopub.execute_input": "2024-03-17T15:06:42.251739Z",
          "iopub.status.idle": "2024-03-17T15:06:42.267797Z",
          "shell.execute_reply.started": "2024-03-17T15:06:42.251709Z",
          "shell.execute_reply": "2024-03-17T15:06:42.266762Z"
        },
        "trusted": true,
        "id": "13RkCjsN2MZY",
        "outputId": "68c40269-85d7-4387-9318-fdff4c41d380"
      },
      "execution_count": null,
      "outputs": [
        {
          "execution_count": 133,
          "output_type": "execute_result",
          "data": {
            "text/plain": "              perplexities    type_RNN/num_layers  \\\nexperiment_1       106.597  GRU ; num_layers = 1    \nexperiment_2       110.732   LSTM; num_layers = 2   \nexperiment_3       115.413   LSTM; num_layers = 2   \nexperiment_4       107.672   LSTM; num_layers = 2   \nexperiment_5       113.441   LSTM; num_layers = 2   \n\n             hidden_dim/num_of_nn.Linear/activation      normalization  \\\nexperiment_1                        256, 2; nn.Tanh  nn.Dropout(p=0.1)   \nexperiment_2                        256, 2; nn.Tanh  nn.Dropout(p=0.1)   \nexperiment_3                        256, 2; nn.ReLU  nn.Dropout(p=0.3)   \nexperiment_4                        512, 3; nn.ReLU  nn.Dropout(p=0.3)   \nexperiment_5                        512, 3; nn.ReLU  nn.Dropout(p=0.3)   \n\n                optimizer/lr  \nexperiment_1     Adam; 0.001  \nexperiment_2     Adam; 0.001  \nexperiment_3     Adam; 0.001  \nexperiment_4     Adam; 0.001  \nexperiment_5  RMSprop; 0.001  ",
            "text/html": "<div>\n<style scoped>\n    .dataframe tbody tr th:only-of-type {\n        vertical-align: middle;\n    }\n\n    .dataframe tbody tr th {\n        vertical-align: top;\n    }\n\n    .dataframe thead th {\n        text-align: right;\n    }\n</style>\n<table border=\"1\" class=\"dataframe\">\n  <thead>\n    <tr style=\"text-align: right;\">\n      <th></th>\n      <th>perplexities</th>\n      <th>type_RNN/num_layers</th>\n      <th>hidden_dim/num_of_nn.Linear/activation</th>\n      <th>normalization</th>\n      <th>optimizer/lr</th>\n    </tr>\n  </thead>\n  <tbody>\n    <tr>\n      <th>experiment_1</th>\n      <td>106.597</td>\n      <td>GRU ; num_layers = 1</td>\n      <td>256, 2; nn.Tanh</td>\n      <td>nn.Dropout(p=0.1)</td>\n      <td>Adam; 0.001</td>\n    </tr>\n    <tr>\n      <th>experiment_2</th>\n      <td>110.732</td>\n      <td>LSTM; num_layers = 2</td>\n      <td>256, 2; nn.Tanh</td>\n      <td>nn.Dropout(p=0.1)</td>\n      <td>Adam; 0.001</td>\n    </tr>\n    <tr>\n      <th>experiment_3</th>\n      <td>115.413</td>\n      <td>LSTM; num_layers = 2</td>\n      <td>256, 2; nn.ReLU</td>\n      <td>nn.Dropout(p=0.3)</td>\n      <td>Adam; 0.001</td>\n    </tr>\n    <tr>\n      <th>experiment_4</th>\n      <td>107.672</td>\n      <td>LSTM; num_layers = 2</td>\n      <td>512, 3; nn.ReLU</td>\n      <td>nn.Dropout(p=0.3)</td>\n      <td>Adam; 0.001</td>\n    </tr>\n    <tr>\n      <th>experiment_5</th>\n      <td>113.441</td>\n      <td>LSTM; num_layers = 2</td>\n      <td>512, 3; nn.ReLU</td>\n      <td>nn.Dropout(p=0.3)</td>\n      <td>RMSprop; 0.001</td>\n    </tr>\n  </tbody>\n</table>\n</div>"
          },
          "metadata": {}
        }
      ]
    },
    {
      "cell_type": "code",
      "source": [
        "# Обучите модель здесь\n",
        "model = LanguageModel(hidden_dim=512, vocab_size=len(vocab)).to(device)\n",
        "\n",
        "criterion = nn.CrossEntropyLoss(ignore_index=word2ind['<pad>'])\n",
        "optimizer = torch.optim.Adam(model.parameters(), lr=0.0001)"
      ],
      "metadata": {
        "execution": {
          "iopub.status.busy": "2024-03-17T15:24:33.806634Z",
          "iopub.execute_input": "2024-03-17T15:24:33.807242Z",
          "iopub.status.idle": "2024-03-17T15:24:34.310679Z",
          "shell.execute_reply.started": "2024-03-17T15:24:33.807211Z",
          "shell.execute_reply": "2024-03-17T15:24:34.309667Z"
        },
        "trusted": true,
        "id": "7pJRCr5s2MZY"
      },
      "execution_count": null,
      "outputs": []
    },
    {
      "cell_type": "code",
      "source": [
        "losses, perplexities = train_model(optimizer, criterion, model, 5)"
      ],
      "metadata": {
        "execution": {
          "iopub.status.busy": "2024-03-17T15:24:36.849211Z",
          "iopub.execute_input": "2024-03-17T15:24:36.850022Z",
          "iopub.status.idle": "2024-03-17T15:40:21.552937Z",
          "shell.execute_reply.started": "2024-03-17T15:24:36.849990Z",
          "shell.execute_reply": "2024-03-17T15:40:21.552137Z"
        },
        "trusted": true,
        "colab": {
          "referenced_widgets": [
            "82a3d280eb9945e5824f14dac1278511",
            "e13ca4ba8c0341c1b86b6ad02cf7d357",
            "d052adecc0314eee8ac1bfd9cdd45987",
            "b0c09746102c45f7b4aa73ecf2bfa9e9",
            "3c3905cc35114632ac98a7b0d5092be2"
          ]
        },
        "id": "mEJvL6Nv2MZY",
        "outputId": "6fd31001-db10-4720-9af6-18e126e6edf6"
      },
      "execution_count": null,
      "outputs": [
        {
          "output_type": "display_data",
          "data": {
            "text/plain": "Training epoch 1::   0%|          | 0/1243 [00:00<?, ?it/s]",
            "application/vnd.jupyter.widget-view+json": {
              "version_major": 2,
              "version_minor": 0,
              "model_id": "82a3d280eb9945e5824f14dac1278511"
            }
          },
          "metadata": {}
        },
        {
          "output_type": "display_data",
          "data": {
            "text/plain": "Training epoch 2::   0%|          | 0/1243 [00:00<?, ?it/s]",
            "application/vnd.jupyter.widget-view+json": {
              "version_major": 2,
              "version_minor": 0,
              "model_id": "e13ca4ba8c0341c1b86b6ad02cf7d357"
            }
          },
          "metadata": {}
        },
        {
          "output_type": "display_data",
          "data": {
            "text/plain": "Training epoch 3::   0%|          | 0/1243 [00:00<?, ?it/s]",
            "application/vnd.jupyter.widget-view+json": {
              "version_major": 2,
              "version_minor": 0,
              "model_id": "d052adecc0314eee8ac1bfd9cdd45987"
            }
          },
          "metadata": {}
        },
        {
          "output_type": "display_data",
          "data": {
            "text/plain": "Training epoch 4::   0%|          | 0/1243 [00:00<?, ?it/s]",
            "application/vnd.jupyter.widget-view+json": {
              "version_major": 2,
              "version_minor": 0,
              "model_id": "b0c09746102c45f7b4aa73ecf2bfa9e9"
            }
          },
          "metadata": {}
        },
        {
          "output_type": "display_data",
          "data": {
            "text/plain": "Training epoch 5::   0%|          | 0/1243 [00:00<?, ?it/s]",
            "application/vnd.jupyter.widget-view+json": {
              "version_major": 2,
              "version_minor": 0,
              "model_id": "3c3905cc35114632ac98a7b0d5092be2"
            }
          },
          "metadata": {}
        }
      ]
    },
    {
      "cell_type": "code",
      "source": [
        "plot_graph()\n",
        "print(f\"Лучшая perplexities: {(min(perplexities)):.2f}\")"
      ],
      "metadata": {
        "execution": {
          "iopub.status.busy": "2024-03-17T15:41:39.438238Z",
          "iopub.execute_input": "2024-03-17T15:41:39.438613Z",
          "iopub.status.idle": "2024-03-17T15:41:39.958110Z",
          "shell.execute_reply.started": "2024-03-17T15:41:39.438585Z",
          "shell.execute_reply": "2024-03-17T15:41:39.957133Z"
        },
        "trusted": true,
        "id": "x9z5m33s2MZY",
        "outputId": "ad4e990e-18c1-48af-9b9d-1a3348eece7d"
      },
      "execution_count": null,
      "outputs": [
        {
          "output_type": "display_data",
          "data": {
            "text/plain": "<Figure size 1000x500 with 2 Axes>",
            "image/png": "[encoded data removed]"
          },
          "metadata": {}
        },
        {
          "name": "stdout",
          "text": "Лучшая perplexities: 150.44\n",
          "output_type": "stream"
        }
      ]
    },
    {
      "cell_type": "markdown",
      "source": [
        "#### Эксперимент 2.5"
      ],
      "metadata": {
        "id": "leNYG_Q3VdMz"
      }
    },
    {
      "cell_type": "markdown",
      "source": [
        "\n",
        "\n",
        "```\n",
        "Обучение с подбором learning_rate с применением lr_scheduler StepLR\n",
        "LSTM модель / num_layers = 2 / ReLU / Dropout 0.3 / hidden_dim = 512 / Adam /StepLR\n",
        "```\n",
        "\n"
      ],
      "metadata": {
        "id": "6rww13oK2MZY"
      }
    },
    {
      "cell_type": "code",
      "source": [
        "# функция с lr_scheduler\n",
        "def train_model(optimizer, criterion, scheduler, model, num_epoch):\n",
        "    losses = []\n",
        "    perplexities = []\n",
        "    schedul = []\n",
        "\n",
        "    for epoch in range(num_epoch):\n",
        "        epoch_losses = []\n",
        "        model.train()\n",
        "        for batch in tqdm(train_dataloader, desc=f'Training epoch {epoch+1}:'):\n",
        "            optimizer.zero_grad()\n",
        "            logits = model(batch['input_ids']).flatten(start_dim=0, end_dim=1)\n",
        "            loss = criterion(logits, batch['target_ids'].flatten())\n",
        "            loss.backward()\n",
        "            optimizer.step()\n",
        "\n",
        "            epoch_losses.append(loss.item())\n",
        "\n",
        "        losses.append(sum(epoch_losses) / len(epoch_losses))\n",
        "        perplexities.append(evaluate(model, criterion, test_dataloader))\n",
        "        scheduler.step()\n",
        "        schedul.append(optimizer.state_dict()['param_groups'][0]['lr'])\n",
        "\n",
        "    return losses, perplexities, schedul"
      ],
      "metadata": {
        "execution": {
          "iopub.status.busy": "2024-03-17T17:04:24.430343Z",
          "iopub.execute_input": "2024-03-17T17:04:24.431008Z",
          "iopub.status.idle": "2024-03-17T17:04:24.438866Z",
          "shell.execute_reply.started": "2024-03-17T17:04:24.430978Z",
          "shell.execute_reply": "2024-03-17T17:04:24.437910Z"
        },
        "trusted": true,
        "id": "P8GzymT72MZY"
      },
      "execution_count": null,
      "outputs": []
    },
    {
      "cell_type": "code",
      "source": [
        "model = LanguageModel(hidden_dim=512, vocab_size=len(vocab)).to(device)\n",
        "criterion = nn.CrossEntropyLoss(ignore_index=word2ind['<pad>'])\n",
        "optimizer = torch.optim.Adam(model.parameters())\n",
        "scheduler = torch.optim.lr_scheduler.StepLR(optimizer, step_size=2, gamma=0.8)\n",
        "\n",
        "losses, perplexities, scheduler = train_model(optimizer, criterion, scheduler, model, 6)"
      ],
      "metadata": {
        "execution": {
          "iopub.status.busy": "2024-03-17T18:32:51.589200Z",
          "iopub.execute_input": "2024-03-17T18:32:51.589584Z",
          "iopub.status.idle": "2024-03-17T18:51:36.234934Z",
          "shell.execute_reply.started": "2024-03-17T18:32:51.589552Z",
          "shell.execute_reply": "2024-03-17T18:51:36.233914Z"
        },
        "trusted": true,
        "colab": {
          "referenced_widgets": [
            "3712a423efe14fbfa8ff09f816835d89",
            "d301f8708df84dfab7fe0d814d303a1e",
            "0ae917d4e06648b289e518f1a688808a",
            "338416ef057748a59b61b6df56fb4097",
            "3b33af1188194045bd9573b50631eef4",
            "f9fb7a32d7574729abc7e961a055404c"
          ]
        },
        "id": "XiRv9RJM2MZZ",
        "outputId": "14ba403c-0bc7-4e2b-fe5c-e1b38f7cafd6"
      },
      "execution_count": null,
      "outputs": [
        {
          "output_type": "display_data",
          "data": {
            "text/plain": "Training epoch 1::   0%|          | 0/1243 [00:00<?, ?it/s]",
            "application/vnd.jupyter.widget-view+json": {
              "version_major": 2,
              "version_minor": 0,
              "model_id": "3712a423efe14fbfa8ff09f816835d89"
            }
          },
          "metadata": {}
        },
        {
          "output_type": "display_data",
          "data": {
            "text/plain": "Training epoch 2::   0%|          | 0/1243 [00:00<?, ?it/s]",
            "application/vnd.jupyter.widget-view+json": {
              "version_major": 2,
              "version_minor": 0,
              "model_id": "d301f8708df84dfab7fe0d814d303a1e"
            }
          },
          "metadata": {}
        },
        {
          "output_type": "display_data",
          "data": {
            "text/plain": "Training epoch 3::   0%|          | 0/1243 [00:00<?, ?it/s]",
            "application/vnd.jupyter.widget-view+json": {
              "version_major": 2,
              "version_minor": 0,
              "model_id": "0ae917d4e06648b289e518f1a688808a"
            }
          },
          "metadata": {}
        },
        {
          "output_type": "display_data",
          "data": {
            "text/plain": "Training epoch 4::   0%|          | 0/1243 [00:00<?, ?it/s]",
            "application/vnd.jupyter.widget-view+json": {
              "version_major": 2,
              "version_minor": 0,
              "model_id": "338416ef057748a59b61b6df56fb4097"
            }
          },
          "metadata": {}
        },
        {
          "output_type": "display_data",
          "data": {
            "text/plain": "Training epoch 5::   0%|          | 0/1243 [00:00<?, ?it/s]",
            "application/vnd.jupyter.widget-view+json": {
              "version_major": 2,
              "version_minor": 0,
              "model_id": "3b33af1188194045bd9573b50631eef4"
            }
          },
          "metadata": {}
        },
        {
          "output_type": "display_data",
          "data": {
            "text/plain": "Training epoch 6::   0%|          | 0/1243 [00:00<?, ?it/s]",
            "application/vnd.jupyter.widget-view+json": {
              "version_major": 2,
              "version_minor": 0,
              "model_id": "f9fb7a32d7574729abc7e961a055404c"
            }
          },
          "metadata": {}
        }
      ]
    },
    {
      "cell_type": "code",
      "source": [
        "# Функция для отрисовки графиков\n",
        "\n",
        "plt.figure(figsize=(17, 5))\n",
        "\n",
        "plt.subplot(1, 3, 1)\n",
        "plt.plot(np.arange(len(losses)), losses)\n",
        "plt.title('Losses')\n",
        "plt.xlabel(\"epoch\")\n",
        "\n",
        "plt.subplot(1, 3, 2)\n",
        "plt.plot(np.arange(len(perplexities)), perplexities)\n",
        "plt.title('Perplexity')\n",
        "plt.xlabel(\"epoch\")\n",
        "\n",
        "plt.subplot(1, 3, 3)\n",
        "plt.plot(np.arange(len(scheduler)), scheduler)\n",
        "plt.title('Scheduler')\n",
        "plt.xlabel(\"epoch\")\n",
        "\n",
        "plt.show()\n",
        "\n",
        "print(f\"Лучшая perplexities: {(min(perplexities)):.2f}\")"
      ],
      "metadata": {
        "execution": {
          "iopub.status.busy": "2024-03-17T18:51:36.236850Z",
          "iopub.execute_input": "2024-03-17T18:51:36.237220Z",
          "iopub.status.idle": "2024-03-17T18:51:37.022320Z",
          "shell.execute_reply.started": "2024-03-17T18:51:36.237187Z",
          "shell.execute_reply": "2024-03-17T18:51:37.021392Z"
        },
        "trusted": true,
        "id": "GGxcQADL2MZZ",
        "outputId": "12c7963d-780e-4a08-8bf4-0280328578e7"
      },
      "execution_count": null,
      "outputs": [
        {
          "output_type": "display_data",
          "data": {
            "text/plain": "<Figure size 1700x500 with 3 Axes>",
            "image/png": "[encoded data removed]"
          },
          "metadata": {}
        },
        {
          "name": "stdout",
          "text": "Лучшая perplexities: 101.74\n",
          "output_type": "stream"
        }
      ]
    },
    {
      "cell_type": "code",
      "source": [
        "# сохранение результата в таблицу\n",
        "compare_df8 = pd.DataFrame({'perplexities': round(min(perplexities), 3),\n",
        "                            'type_RNN/num_layers': ['LSTM; num_layers = 2'],\n",
        "                            'hidden_dim/num_of_nn.Linear/activation': ['512, 3; nn.ReLU'],\n",
        "                            'normalization': ['nn.Dropout(p=0.3)'],\n",
        "                            'optimizer/lr': ['Adam; StepLR(0.00052)']}, index = ['experiment_6'])\n",
        "# compare_df8\n",
        "\n",
        "compare_df9 =  pd.concat((compare_df, compare_df8), axis = 0)\n",
        "compare_df = compare_df9\n",
        "compare_df.to_pickle(\"compare_result.df\", compression=\"gzip\")\n",
        "compare_df"
      ],
      "metadata": {
        "execution": {
          "iopub.status.busy": "2024-03-17T19:00:04.461711Z",
          "iopub.execute_input": "2024-03-17T19:00:04.462508Z",
          "iopub.status.idle": "2024-03-17T19:00:04.478072Z",
          "shell.execute_reply.started": "2024-03-17T19:00:04.462474Z",
          "shell.execute_reply": "2024-03-17T19:00:04.477148Z"
        },
        "trusted": true,
        "id": "NbVHQQ3D2MZZ",
        "outputId": "dfec341a-4b97-4fda-e248-0bd274ca757f"
      },
      "execution_count": null,
      "outputs": [
        {
          "execution_count": 56,
          "output_type": "execute_result",
          "data": {
            "text/plain": "              perplexities    type_RNN/num_layers  \\\nexperiment_1       106.597  GRU ; num_layers = 1    \nexperiment_2       110.732   LSTM; num_layers = 2   \nexperiment_3       115.413   LSTM; num_layers = 2   \nexperiment_4       107.672   LSTM; num_layers = 2   \nexperiment_5       113.441   LSTM; num_layers = 2   \nexperiment_6       101.738   LSTM; num_layers = 2   \n\n             hidden_dim/num_of_nn.Linear/activation      normalization  \\\nexperiment_1                        256, 2; nn.Tanh  nn.Dropout(p=0.1)   \nexperiment_2                        256, 2; nn.Tanh  nn.Dropout(p=0.1)   \nexperiment_3                        256, 2; nn.ReLU  nn.Dropout(p=0.3)   \nexperiment_4                        512, 3; nn.ReLU  nn.Dropout(p=0.3)   \nexperiment_5                        512, 3; nn.ReLU  nn.Dropout(p=0.3)   \nexperiment_6                        512, 3; nn.ReLU  nn.Dropout(p=0.3)   \n\n                       optimizer/lr  \nexperiment_1            Adam; 0.001  \nexperiment_2            Adam; 0.001  \nexperiment_3            Adam; 0.001  \nexperiment_4            Adam; 0.001  \nexperiment_5         RMSprop; 0.001  \nexperiment_6  Adam; StepLR(0.00052)  ",
            "text/html": "<div>\n<style scoped>\n    .dataframe tbody tr th:only-of-type {\n        vertical-align: middle;\n    }\n\n    .dataframe tbody tr th {\n        vertical-align: top;\n    }\n\n    .dataframe thead th {\n        text-align: right;\n    }\n</style>\n<table border=\"1\" class=\"dataframe\">\n  <thead>\n    <tr style=\"text-align: right;\">\n      <th></th>\n      <th>perplexities</th>\n      <th>type_RNN/num_layers</th>\n      <th>hidden_dim/num_of_nn.Linear/activation</th>\n      <th>normalization</th>\n      <th>optimizer/lr</th>\n    </tr>\n  </thead>\n  <tbody>\n    <tr>\n      <th>experiment_1</th>\n      <td>106.597</td>\n      <td>GRU ; num_layers = 1</td>\n      <td>256, 2; nn.Tanh</td>\n      <td>nn.Dropout(p=0.1)</td>\n      <td>Adam; 0.001</td>\n    </tr>\n    <tr>\n      <th>experiment_2</th>\n      <td>110.732</td>\n      <td>LSTM; num_layers = 2</td>\n      <td>256, 2; nn.Tanh</td>\n      <td>nn.Dropout(p=0.1)</td>\n      <td>Adam; 0.001</td>\n    </tr>\n    <tr>\n      <th>experiment_3</th>\n      <td>115.413</td>\n      <td>LSTM; num_layers = 2</td>\n      <td>256, 2; nn.ReLU</td>\n      <td>nn.Dropout(p=0.3)</td>\n      <td>Adam; 0.001</td>\n    </tr>\n    <tr>\n      <th>experiment_4</th>\n      <td>107.672</td>\n      <td>LSTM; num_layers = 2</td>\n      <td>512, 3; nn.ReLU</td>\n      <td>nn.Dropout(p=0.3)</td>\n      <td>Adam; 0.001</td>\n    </tr>\n    <tr>\n      <th>experiment_5</th>\n      <td>113.441</td>\n      <td>LSTM; num_layers = 2</td>\n      <td>512, 3; nn.ReLU</td>\n      <td>nn.Dropout(p=0.3)</td>\n      <td>RMSprop; 0.001</td>\n    </tr>\n    <tr>\n      <th>experiment_6</th>\n      <td>101.738</td>\n      <td>LSTM; num_layers = 2</td>\n      <td>512, 3; nn.ReLU</td>\n      <td>nn.Dropout(p=0.3)</td>\n      <td>Adam; StepLR(0.00052)</td>\n    </tr>\n  </tbody>\n</table>\n</div>"
          },
          "metadata": {}
        }
      ]
    },
    {
      "cell_type": "markdown",
      "source": [
        "### Третий эксперимент"
      ],
      "metadata": {
        "id": "OwqYJudC2MZZ"
      }
    },
    {
      "cell_type": "markdown",
      "source": [
        "#### Эксперимент 3.1"
      ],
      "metadata": {
        "id": "1quo2qAC0y5z"
      }
    },
    {
      "cell_type": "markdown",
      "source": [
        "\n",
        "\n",
        "```\n",
        "Увеличение размера датасета для обучения - возьмем и соединим все части датасета (в итоге будем иметь датасет на 100000 записей)\n",
        "\n",
        "обучение с подобранными ранее параметрами:\n",
        "LSTM модель / num_layers = 2 / ReLU / Dropout 0.3 / hidden_dim = 512 / Adam /lr=0.00052\n",
        "\n",
        "```\n",
        "\n"
      ],
      "metadata": {
        "id": "TXb3QSnt2MZZ"
      }
    },
    {
      "cell_type": "code",
      "source": [
        "dataset"
      ],
      "metadata": {
        "execution": {
          "iopub.status.busy": "2024-03-18T07:25:38.726214Z",
          "iopub.execute_input": "2024-03-18T07:25:38.726545Z",
          "iopub.status.idle": "2024-03-18T07:25:38.732862Z",
          "shell.execute_reply.started": "2024-03-18T07:25:38.726519Z",
          "shell.execute_reply": "2024-03-18T07:25:38.731776Z"
        },
        "trusted": true,
        "id": "v42shNi52MZZ",
        "outputId": "4edc959b-058b-4ae3-dfd4-a98cbb2d9597"
      },
      "execution_count": null,
      "outputs": [
        {
          "execution_count": 6,
          "output_type": "execute_result",
          "data": {
            "text/plain": "DatasetDict({\n    train: Dataset({\n        features: ['text', 'label'],\n        num_rows: 25000\n    })\n    test: Dataset({\n        features: ['text', 'label'],\n        num_rows: 25000\n    })\n    unsupervised: Dataset({\n        features: ['text', 'label'],\n        num_rows: 50000\n    })\n})"
          },
          "metadata": {}
        }
      ]
    },
    {
      "cell_type": "code",
      "source": [
        "data = dataset['train']['text'] + dataset['test']['text'] + dataset['unsupervised']['text']\n",
        "len(data)"
      ],
      "metadata": {
        "execution": {
          "iopub.status.busy": "2024-03-18T07:27:37.241339Z",
          "iopub.execute_input": "2024-03-18T07:27:37.242273Z",
          "iopub.status.idle": "2024-03-18T07:27:37.553341Z",
          "shell.execute_reply.started": "2024-03-18T07:27:37.242238Z",
          "shell.execute_reply": "2024-03-18T07:27:37.552252Z"
        },
        "trusted": true,
        "id": "JArVsWPD2MZZ",
        "outputId": "e6767e5e-4df9-49e6-a7ff-e59606e323ee"
      },
      "execution_count": null,
      "outputs": [
        {
          "execution_count": 9,
          "output_type": "execute_result",
          "data": {
            "text/plain": "100000"
          },
          "metadata": {}
        }
      ]
    },
    {
      "cell_type": "code",
      "source": [
        "# Получить отдельные предложения и поместить их в sentences\n",
        "\n",
        "sentences = []\n",
        "word_threshold = 32\n",
        "\n",
        "for sentence in tqdm(data):\n",
        "    sentences.extend(\n",
        "        [x.lower() for x in sent_tokenize(sentence, language='english') if len(word_tokenize(x)) < word_threshold]\n",
        "        )\n",
        "\n",
        "print(\"Всего предложений:\", len(sentences))"
      ],
      "metadata": {
        "execution": {
          "iopub.status.busy": "2024-03-18T07:31:29.076213Z",
          "iopub.execute_input": "2024-03-18T07:31:29.077136Z",
          "iopub.status.idle": "2024-03-18T07:37:53.623059Z",
          "shell.execute_reply.started": "2024-03-18T07:31:29.077104Z",
          "shell.execute_reply": "2024-03-18T07:37:53.622000Z"
        },
        "trusted": true,
        "colab": {
          "referenced_widgets": [
            "b9ac5deaf1a04a9c9a5b282f5a06fb4d"
          ]
        },
        "id": "P5yfcNm92MZZ",
        "outputId": "1a919a7b-3918-4817-bc5a-6822bb3e5509"
      },
      "execution_count": null,
      "outputs": [
        {
          "output_type": "display_data",
          "data": {
            "text/plain": "  0%|          | 0/100000 [00:00<?, ?it/s]",
            "application/vnd.jupyter.widget-view+json": {
              "version_major": 2,
              "version_minor": 0,
              "model_id": "b9ac5deaf1a04a9c9a5b282f5a06fb4d"
            }
          },
          "metadata": {}
        },
        {
          "name": "stdout",
          "text": "Всего предложений: 786666\n",
          "output_type": "stream"
        }
      ]
    },
    {
      "cell_type": "code",
      "source": [
        "# Расчет встречаемости слов\n",
        "words = Counter()\n",
        "for sentence in  tqdm(sentences):\n",
        "    words.update(word_tokenize(sentence))"
      ],
      "metadata": {
        "execution": {
          "iopub.status.busy": "2024-03-18T07:39:05.952786Z",
          "iopub.execute_input": "2024-03-18T07:39:05.953534Z",
          "iopub.status.idle": "2024-03-18T07:42:11.368481Z",
          "shell.execute_reply.started": "2024-03-18T07:39:05.953502Z",
          "shell.execute_reply": "2024-03-18T07:42:11.367413Z"
        },
        "trusted": true,
        "colab": {
          "referenced_widgets": [
            "8a9878e1c96643e8893dbafcd7652560"
          ]
        },
        "id": "ekCTfALj2MZa",
        "outputId": "4cc2745b-1e2e-477e-ad97-12770bbb131f"
      },
      "execution_count": null,
      "outputs": [
        {
          "output_type": "display_data",
          "data": {
            "text/plain": "  0%|          | 0/786666 [00:00<?, ?it/s]",
            "application/vnd.jupyter.widget-view+json": {
              "version_major": 2,
              "version_minor": 0,
              "model_id": "8a9878e1c96643e8893dbafcd7652560"
            }
          },
          "metadata": {}
        }
      ]
    },
    {
      "cell_type": "code",
      "source": [
        "# Наполнение словаря\n",
        "\n",
        "vocab = set(['<unk>', '<bos>', '<eos>', '<pad>'])\n",
        "vocab_size = 40000\n",
        "for word, cnt in words.most_common(vocab_size):\n",
        "    vocab.add(word)"
      ],
      "metadata": {
        "execution": {
          "iopub.status.busy": "2024-03-18T07:42:47.257885Z",
          "iopub.execute_input": "2024-03-18T07:42:47.258295Z",
          "iopub.status.idle": "2024-03-18T07:42:47.391579Z",
          "shell.execute_reply.started": "2024-03-18T07:42:47.258267Z",
          "shell.execute_reply": "2024-03-18T07:42:47.390508Z"
        },
        "trusted": true,
        "id": "xXARAbSY2MZa"
      },
      "execution_count": null,
      "outputs": []
    },
    {
      "cell_type": "code",
      "source": [
        "assert '<unk>' in vocab\n",
        "assert '<bos>' in vocab\n",
        "assert '<eos>' in vocab\n",
        "assert '<pad>' in vocab\n",
        "assert len(vocab) == vocab_size + 4"
      ],
      "metadata": {
        "execution": {
          "iopub.status.busy": "2024-03-18T07:42:50.311192Z",
          "iopub.execute_input": "2024-03-18T07:42:50.311609Z",
          "iopub.status.idle": "2024-03-18T07:42:50.317038Z",
          "shell.execute_reply.started": "2024-03-18T07:42:50.311578Z",
          "shell.execute_reply": "2024-03-18T07:42:50.315887Z"
        },
        "trusted": true,
        "id": "tQkO36AN2MZa"
      },
      "execution_count": null,
      "outputs": []
    },
    {
      "cell_type": "code",
      "source": [
        "word2ind = {char: i for i, char in enumerate(vocab)}\n",
        "ind2word = {i: char for char, i in word2ind.items()}"
      ],
      "metadata": {
        "execution": {
          "iopub.status.busy": "2024-03-18T07:42:53.214995Z",
          "iopub.execute_input": "2024-03-18T07:42:53.215764Z",
          "iopub.status.idle": "2024-03-18T07:42:53.241284Z",
          "shell.execute_reply.started": "2024-03-18T07:42:53.215729Z",
          "shell.execute_reply": "2024-03-18T07:42:53.240173Z"
        },
        "trusted": true,
        "id": "Mfg_Z44F2MZa"
      },
      "execution_count": null,
      "outputs": []
    },
    {
      "cell_type": "code",
      "source": [
        "class WordDataset:\n",
        "    def __init__(self, sentences):\n",
        "        self.data = sentences\n",
        "        self.unk_id = word2ind['<unk>']\n",
        "        self.bos_id = word2ind['<bos>']\n",
        "        self.eos_id = word2ind['<eos>']\n",
        "        self.pad_id = word2ind['<pad>']\n",
        "\n",
        "    def __getitem__(self, idx: int) -> List[int]:\n",
        "        tokenized_sentence = []\n",
        "        # Допишите код здесь\n",
        "        tokenized_sentence = [self.bos_id]\n",
        "        tokenized_sentence += [word2ind.get(char, self.unk_id) for char in word_tokenize(self.data[idx])]\n",
        "        tokenized_sentence += [self.eos_id]\n",
        "\n",
        "        return tokenized_sentence\n",
        "\n",
        "    def __len__(self) -> int:\n",
        "        return len(self.data)"
      ],
      "metadata": {
        "execution": {
          "iopub.status.busy": "2024-03-18T07:42:55.105909Z",
          "iopub.execute_input": "2024-03-18T07:42:55.106282Z",
          "iopub.status.idle": "2024-03-18T07:42:55.114475Z",
          "shell.execute_reply.started": "2024-03-18T07:42:55.106253Z",
          "shell.execute_reply": "2024-03-18T07:42:55.113362Z"
        },
        "trusted": true,
        "id": "Juy_sIQx2MZa"
      },
      "execution_count": null,
      "outputs": []
    },
    {
      "cell_type": "code",
      "source": [
        "train_sentences, eval_sentences = train_test_split(sentences, test_size=0.2, random_state = 42)\n",
        "\n",
        "eval_sentences, test_sentences = train_test_split(eval_sentences, test_size=0.5, random_state = 42)\n",
        "\n",
        "train_dataset = WordDataset(train_sentences)\n",
        "eval_dataset = WordDataset(eval_sentences)\n",
        "test_dataset = WordDataset(test_sentences)\n",
        "\n",
        "batch_size = 128\n",
        "\n",
        "train_dataloader = DataLoader(\n",
        "    train_dataset, collate_fn=collate_fn_with_padding, shuffle=True, batch_size=batch_size)\n",
        "\n",
        "eval_dataloader = DataLoader(\n",
        "    eval_dataset, collate_fn=collate_fn_with_padding, shuffle=False, batch_size=batch_size)\n",
        "\n",
        "test_dataloader = DataLoader(\n",
        "    test_dataset, collate_fn=collate_fn_with_padding, shuffle=False, batch_size=batch_size)"
      ],
      "metadata": {
        "execution": {
          "iopub.status.busy": "2024-03-18T07:43:46.043690Z",
          "iopub.execute_input": "2024-03-18T07:43:46.044108Z",
          "iopub.status.idle": "2024-03-18T07:43:46.457640Z",
          "shell.execute_reply.started": "2024-03-18T07:43:46.044080Z",
          "shell.execute_reply": "2024-03-18T07:43:46.456472Z"
        },
        "trusted": true,
        "id": "-8LsTu342MZa"
      },
      "execution_count": null,
      "outputs": []
    },
    {
      "cell_type": "code",
      "source": [
        "a = next(iter(train_dataloader))\n",
        "s = a['input_ids'][0].tolist()\n",
        "print([ind2word[i] for i in s])"
      ],
      "metadata": {
        "execution": {
          "iopub.status.busy": "2024-03-18T07:43:48.233501Z",
          "iopub.execute_input": "2024-03-18T07:43:48.234562Z",
          "iopub.status.idle": "2024-03-18T07:43:48.563265Z",
          "shell.execute_reply.started": "2024-03-18T07:43:48.234523Z",
          "shell.execute_reply": "2024-03-18T07:43:48.562244Z"
        },
        "trusted": true,
        "id": "PVGrYU9Z2MZa",
        "outputId": "33064d8f-af7f-4862-b564-345d881111dc"
      },
      "execution_count": null,
      "outputs": [
        {
          "name": "stdout",
          "text": "['<bos>', 'i', 'think', 'if', 'you', 'realize', 'its', 'rated', 'r', 'then', 'you', 'will', 'be', 'prepared', 'for', 'the', 'nudity', 'and', 'drug', 'use', '.', '<eos>', '<pad>', '<pad>', '<pad>', '<pad>', '<pad>', '<pad>', '<pad>', '<pad>', '<pad>', '<pad>']\n",
          "output_type": "stream"
        }
      ]
    },
    {
      "cell_type": "code",
      "source": [
        "# Обучите модель здесь\n",
        "model = LanguageModel(hidden_dim=512, vocab_size=len(vocab)).to(device)\n",
        "\n",
        "criterion = nn.CrossEntropyLoss(ignore_index=word2ind['<pad>'])\n",
        "optimizer = torch.optim.Adam(model.parameters(), lr=0.00052)\n",
        "\n",
        "losses, perplexities = train_model(optimizer, criterion, model, 5)"
      ],
      "metadata": {
        "execution": {
          "iopub.status.busy": "2024-03-18T07:44:55.007563Z",
          "iopub.execute_input": "2024-03-18T07:44:55.007956Z",
          "iopub.status.idle": "2024-03-18T08:48:34.483788Z",
          "shell.execute_reply.started": "2024-03-18T07:44:55.007930Z",
          "shell.execute_reply": "2024-03-18T08:48:34.482826Z"
        },
        "trusted": true,
        "colab": {
          "referenced_widgets": [
            "f99c596cd1314bb69b9dcab91de74feb",
            "c701bbfcc8944361bb07a36a467b68f0",
            "b9f17fcdfb7046b991522c2e1dbefc09",
            "ab2bf79a84be4439b991fd47be30ebe1",
            "012af9d2ad8b4f258ee5818c4435d75b"
          ]
        },
        "id": "OtzZRT202MZa",
        "outputId": "dc9dfe18-c86a-4e1c-bfe5-d0af400a8299"
      },
      "execution_count": null,
      "outputs": [
        {
          "output_type": "display_data",
          "data": {
            "text/plain": "Training epoch 1::   0%|          | 0/4917 [00:00<?, ?it/s]",
            "application/vnd.jupyter.widget-view+json": {
              "version_major": 2,
              "version_minor": 0,
              "model_id": "f99c596cd1314bb69b9dcab91de74feb"
            }
          },
          "metadata": {}
        },
        {
          "output_type": "display_data",
          "data": {
            "text/plain": "Training epoch 2::   0%|          | 0/4917 [00:00<?, ?it/s]",
            "application/vnd.jupyter.widget-view+json": {
              "version_major": 2,
              "version_minor": 0,
              "model_id": "c701bbfcc8944361bb07a36a467b68f0"
            }
          },
          "metadata": {}
        },
        {
          "output_type": "display_data",
          "data": {
            "text/plain": "Training epoch 3::   0%|          | 0/4917 [00:00<?, ?it/s]",
            "application/vnd.jupyter.widget-view+json": {
              "version_major": 2,
              "version_minor": 0,
              "model_id": "b9f17fcdfb7046b991522c2e1dbefc09"
            }
          },
          "metadata": {}
        },
        {
          "output_type": "display_data",
          "data": {
            "text/plain": "Training epoch 4::   0%|          | 0/4917 [00:00<?, ?it/s]",
            "application/vnd.jupyter.widget-view+json": {
              "version_major": 2,
              "version_minor": 0,
              "model_id": "ab2bf79a84be4439b991fd47be30ebe1"
            }
          },
          "metadata": {}
        },
        {
          "output_type": "display_data",
          "data": {
            "text/plain": "Training epoch 5::   0%|          | 0/4917 [00:00<?, ?it/s]",
            "application/vnd.jupyter.widget-view+json": {
              "version_major": 2,
              "version_minor": 0,
              "model_id": "012af9d2ad8b4f258ee5818c4435d75b"
            }
          },
          "metadata": {}
        }
      ]
    },
    {
      "cell_type": "code",
      "source": [
        "plot_graph()\n",
        "print(f\"Лучшая perplexities: {(min(perplexities)):.2f}\")"
      ],
      "metadata": {
        "execution": {
          "iopub.status.busy": "2024-03-18T08:48:53.221350Z",
          "iopub.execute_input": "2024-03-18T08:48:53.222296Z",
          "iopub.status.idle": "2024-03-18T08:48:53.885370Z",
          "shell.execute_reply.started": "2024-03-18T08:48:53.222262Z",
          "shell.execute_reply": "2024-03-18T08:48:53.884292Z"
        },
        "trusted": true,
        "id": "gMxLYltC2MZa",
        "outputId": "261943e7-f0a1-4876-b9e2-496c34477723"
      },
      "execution_count": null,
      "outputs": [
        {
          "output_type": "display_data",
          "data": {
            "text/plain": "<Figure size 1000x500 with 2 Axes>",
            "image/png": "[encoded data removed]"
          },
          "metadata": {}
        },
        {
          "name": "stdout",
          "text": "Лучшая perplexities: 71.81\n",
          "output_type": "stream"
        }
      ]
    },
    {
      "cell_type": "code",
      "source": [
        "generate_sequence(model, starting_seq='I have many favourite artists')"
      ],
      "metadata": {
        "execution": {
          "iopub.status.busy": "2024-03-18T08:49:06.258078Z",
          "iopub.execute_input": "2024-03-18T08:49:06.259137Z",
          "iopub.status.idle": "2024-03-18T08:49:06.814078Z",
          "shell.execute_reply.started": "2024-03-18T08:49:06.259085Z",
          "shell.execute_reply": "2024-03-18T08:49:06.813052Z"
        },
        "trusted": true,
        "id": "ZXV75Rtp2MZa",
        "outputId": "04ec4702-61ba-4c87-8458-638a7b652df2"
      },
      "execution_count": null,
      "outputs": [
        {
          "execution_count": 32,
          "output_type": "execute_result",
          "data": {
            "text/plain": "'<bos> i have many favourite artists of the world . <eos>'"
          },
          "metadata": {}
        }
      ]
    },
    {
      "cell_type": "code",
      "source": [
        "# сохранение результата в таблицу\n",
        "compare_df10 = pd.DataFrame({'perplexities': round(min(perplexities), 3),\n",
        "                            'type_RNN/num_layers': ['LSTM; num_layers = 2; df = 1000000'],\n",
        "                            'hidden_dim/num_of_nn.Linear/activation': ['512, 3; nn.ReLU'],\n",
        "                            'normalization': ['nn.Dropout(p=0.3)'],\n",
        "                            'optimizer/lr': ['Adam; 0.00052']}, index = ['experiment_7'])\n",
        "\n",
        "compare_df11 =  pd.concat((compare_df, compare_df10), axis = 0)\n",
        "compare_df = compare_df11\n",
        "compare_df.to_pickle(\"compare_result.df\", compression=\"gzip\")\n",
        "compare_df"
      ],
      "metadata": {
        "execution": {
          "iopub.status.busy": "2024-03-18T08:54:14.476024Z",
          "iopub.execute_input": "2024-03-18T08:54:14.477061Z",
          "iopub.status.idle": "2024-03-18T08:54:14.500021Z",
          "shell.execute_reply.started": "2024-03-18T08:54:14.477018Z",
          "shell.execute_reply": "2024-03-18T08:54:14.498871Z"
        },
        "trusted": true,
        "id": "zChqEC3B2MZb",
        "outputId": "70bd9495-7334-4fea-bef8-d6ba5459f63a"
      },
      "execution_count": null,
      "outputs": [
        {
          "execution_count": 37,
          "output_type": "execute_result",
          "data": {
            "text/plain": "              perplexities                 type_RNN/num_layers  \\\nexperiment_1       106.597               GRU ; num_layers = 1    \nexperiment_2       110.732                LSTM; num_layers = 2   \nexperiment_3       115.413                LSTM; num_layers = 2   \nexperiment_4       107.672                LSTM; num_layers = 2   \nexperiment_5       113.441                LSTM; num_layers = 2   \nexperiment_6       101.738                LSTM; num_layers = 2   \nexperiment_7        71.810  LSTM; num_layers = 2; df = 1000000   \n\n             hidden_dim/num_of_nn.Linear/activation      normalization  \\\nexperiment_1                        256, 2; nn.Tanh  nn.Dropout(p=0.1)   \nexperiment_2                        256, 2; nn.Tanh  nn.Dropout(p=0.1)   \nexperiment_3                        256, 2; nn.ReLU  nn.Dropout(p=0.3)   \nexperiment_4                        512, 3; nn.ReLU  nn.Dropout(p=0.3)   \nexperiment_5                        512, 3; nn.ReLU  nn.Dropout(p=0.3)   \nexperiment_6                        512, 3; nn.ReLU  nn.Dropout(p=0.3)   \nexperiment_7                        512, 3; nn.ReLU  nn.Dropout(p=0.3)   \n\n                       optimizer/lr  \nexperiment_1            Adam; 0.001  \nexperiment_2            Adam; 0.001  \nexperiment_3            Adam; 0.001  \nexperiment_4            Adam; 0.001  \nexperiment_5         RMSprop; 0.001  \nexperiment_6  Adam; StepLR(0.00052)  \nexperiment_7          Adam; 0.00052  ",
            "text/html": "<div>\n<style scoped>\n    .dataframe tbody tr th:only-of-type {\n        vertical-align: middle;\n    }\n\n    .dataframe tbody tr th {\n        vertical-align: top;\n    }\n\n    .dataframe thead th {\n        text-align: right;\n    }\n</style>\n<table border=\"1\" class=\"dataframe\">\n  <thead>\n    <tr style=\"text-align: right;\">\n      <th></th>\n      <th>perplexities</th>\n      <th>type_RNN/num_layers</th>\n      <th>hidden_dim/num_of_nn.Linear/activation</th>\n      <th>normalization</th>\n      <th>optimizer/lr</th>\n    </tr>\n  </thead>\n  <tbody>\n    <tr>\n      <th>experiment_1</th>\n      <td>106.597</td>\n      <td>GRU ; num_layers = 1</td>\n      <td>256, 2; nn.Tanh</td>\n      <td>nn.Dropout(p=0.1)</td>\n      <td>Adam; 0.001</td>\n    </tr>\n    <tr>\n      <th>experiment_2</th>\n      <td>110.732</td>\n      <td>LSTM; num_layers = 2</td>\n      <td>256, 2; nn.Tanh</td>\n      <td>nn.Dropout(p=0.1)</td>\n      <td>Adam; 0.001</td>\n    </tr>\n    <tr>\n      <th>experiment_3</th>\n      <td>115.413</td>\n      <td>LSTM; num_layers = 2</td>\n      <td>256, 2; nn.ReLU</td>\n      <td>nn.Dropout(p=0.3)</td>\n      <td>Adam; 0.001</td>\n    </tr>\n    <tr>\n      <th>experiment_4</th>\n      <td>107.672</td>\n      <td>LSTM; num_layers = 2</td>\n      <td>512, 3; nn.ReLU</td>\n      <td>nn.Dropout(p=0.3)</td>\n      <td>Adam; 0.001</td>\n    </tr>\n    <tr>\n      <th>experiment_5</th>\n      <td>113.441</td>\n      <td>LSTM; num_layers = 2</td>\n      <td>512, 3; nn.ReLU</td>\n      <td>nn.Dropout(p=0.3)</td>\n      <td>RMSprop; 0.001</td>\n    </tr>\n    <tr>\n      <th>experiment_6</th>\n      <td>101.738</td>\n      <td>LSTM; num_layers = 2</td>\n      <td>512, 3; nn.ReLU</td>\n      <td>nn.Dropout(p=0.3)</td>\n      <td>Adam; StepLR(0.00052)</td>\n    </tr>\n    <tr>\n      <th>experiment_7</th>\n      <td>71.810</td>\n      <td>LSTM; num_layers = 2; df = 1000000</td>\n      <td>512, 3; nn.ReLU</td>\n      <td>nn.Dropout(p=0.3)</td>\n      <td>Adam; 0.00052</td>\n    </tr>\n  </tbody>\n</table>\n</div>"
          },
          "metadata": {}
        }
      ]
    },
    {
      "cell_type": "markdown",
      "source": [
        "#### Эксперимент 3.2"
      ],
      "metadata": {
        "id": "JWPueaf_0vE3"
      }
    },
    {
      "cell_type": "markdown",
      "source": [
        "```\n",
        "Увеличение размера датасета для обучения - возьмем и соединим все части датасета (в итоге будем иметь датасет на 100000 записей)\n",
        "\n",
        "+++ добавление BatchNormalization\n",
        "\n",
        "обучение с подобранными ранее параметрами:\n",
        "LSTM модель / num_layers = 2 / ReLU / Dropout 0.3 / hidden_dim = 512 / Adam /lr=0.00052\n",
        "\n",
        "```\n"
      ],
      "metadata": {
        "id": "cqSgl4E31HXi"
      }
    },
    {
      "cell_type": "markdown",
      "source": [
        "добавление BatchNormalization"
      ],
      "metadata": {
        "id": "Grj8ZxFK0hud"
      }
    },
    {
      "cell_type": "code",
      "source": [
        "class LanguageModel(nn.Module):\n",
        "    def __init__(self, hidden_dim: int, vocab_size: int, num_layers = 2):\n",
        "        super().__init__()\n",
        "        self.embedding = nn.Embedding(vocab_size, hidden_dim)\n",
        "        self.rnn = nn.LSTM(hidden_dim, hidden_dim, num_layers, batch_first=True)\n",
        "        self.linear1 = nn.Linear(hidden_dim, hidden_dim)\n",
        "        self.bn = nn.BatchNorm1d(hidden_dim)\n",
        "        self.linear2 = nn.Linear(hidden_dim, hidden_dim)\n",
        "        self.projection = nn.Linear(hidden_dim, vocab_size)\n",
        "        self.non_lin = nn.ReLU()\n",
        "        self.dropout = nn.Dropout(p=0.3)\n",
        "\n",
        "\n",
        "    def forward(self, input_batch: torch.Tensor) -> torch.Tensor:\n",
        "        # А тут опишите forward pass модели\n",
        "        embeddings = self.embedding(input_batch)  # [batch_size, seq_len, hidden_dim]\n",
        "        output, _ = self.rnn(embeddings)  # [batch_size, seq_len, hidden_dim]\n",
        "        output = self.bn(self.linear1(self.non_lin(output)).permute(0, 2, 1))\n",
        "        output = self.dropout(self.linear2(self.non_lin(output.permute(0, 2, 1))))\n",
        "        projection = self.projection(self.non_lin(output))  # [batch_size, seq_len, vocab_size]\n",
        "\n",
        "        return projection"
      ],
      "metadata": {
        "execution": {
          "iopub.status.busy": "2024-03-18T16:32:31.547132Z",
          "iopub.execute_input": "2024-03-18T16:32:31.547851Z",
          "iopub.status.idle": "2024-03-18T16:32:31.556769Z",
          "shell.execute_reply.started": "2024-03-18T16:32:31.547820Z",
          "shell.execute_reply": "2024-03-18T16:32:31.555907Z"
        },
        "trusted": true,
        "id": "IvSv8Otn0hud"
      },
      "execution_count": null,
      "outputs": []
    },
    {
      "cell_type": "code",
      "source": [
        "model = LanguageModel(hidden_dim=512, vocab_size=len(vocab)).to(device)\n",
        "model"
      ],
      "metadata": {
        "execution": {
          "iopub.status.busy": "2024-03-18T16:32:34.526447Z",
          "iopub.execute_input": "2024-03-18T16:32:34.527166Z",
          "iopub.status.idle": "2024-03-18T16:32:35.203937Z",
          "shell.execute_reply.started": "2024-03-18T16:32:34.527131Z",
          "shell.execute_reply": "2024-03-18T16:32:35.202923Z"
        },
        "trusted": true,
        "id": "j4gNTCdy0hud",
        "outputId": "92821647-d1d4-4dd9-804d-80c0dcba31f7"
      },
      "execution_count": null,
      "outputs": [
        {
          "execution_count": 22,
          "output_type": "execute_result",
          "data": {
            "text/plain": "LanguageModel(\n  (embedding): Embedding(40004, 512)\n  (rnn): LSTM(512, 512, num_layers=2, batch_first=True)\n  (linear1): Linear(in_features=512, out_features=512, bias=True)\n  (bn): BatchNorm1d(512, eps=1e-05, momentum=0.1, affine=True, track_running_stats=True)\n  (linear2): Linear(in_features=512, out_features=512, bias=True)\n  (projection): Linear(in_features=512, out_features=40004, bias=True)\n  (non_lin): ReLU()\n  (dropout): Dropout(p=0.3, inplace=False)\n)"
          },
          "metadata": {}
        }
      ]
    },
    {
      "cell_type": "code",
      "source": [
        "# Обучите модель здесь\n",
        "# model = LanguageModel(hidden_dim=512, vocab_size=len(vocab)).to(device)\n",
        "\n",
        "criterion = nn.CrossEntropyLoss(ignore_index=word2ind['<pad>'])\n",
        "optimizer = torch.optim.Adam(model.parameters(), lr=0.00052)\n",
        "\n",
        "losses, perplexities = train_model(optimizer, criterion, model, 5)"
      ],
      "metadata": {
        "execution": {
          "iopub.status.busy": "2024-03-18T16:54:18.602140Z",
          "iopub.execute_input": "2024-03-18T16:54:18.602522Z",
          "iopub.status.idle": "2024-03-18T17:57:10.449439Z",
          "shell.execute_reply.started": "2024-03-18T16:54:18.602491Z",
          "shell.execute_reply": "2024-03-18T17:57:10.448462Z"
        },
        "trusted": true,
        "id": "VjEdbrqo0hud",
        "outputId": "bfae65fe-ab99-4fc9-b485-ba2f63a6e302",
        "colab": {
          "referenced_widgets": [
            "44513ad029bc4ad29dd074c416523196",
            "3427ad3db4604daeac0babab1754dc17",
            "dc6ee28288c344d1a267ee71e2e756c0",
            "5d298b05a7434ab2997712450e6d4307",
            "1d3447ef8af443a5a2dd25e0800ff192"
          ]
        }
      },
      "execution_count": null,
      "outputs": [
        {
          "output_type": "display_data",
          "data": {
            "text/plain": "Training epoch 1::   0%|          | 0/4917 [00:00<?, ?it/s]",
            "application/vnd.jupyter.widget-view+json": {
              "version_major": 2,
              "version_minor": 0,
              "model_id": "44513ad029bc4ad29dd074c416523196"
            }
          },
          "metadata": {}
        },
        {
          "output_type": "display_data",
          "data": {
            "text/plain": "Training epoch 2::   0%|          | 0/4917 [00:00<?, ?it/s]",
            "application/vnd.jupyter.widget-view+json": {
              "version_major": 2,
              "version_minor": 0,
              "model_id": "3427ad3db4604daeac0babab1754dc17"
            }
          },
          "metadata": {}
        },
        {
          "output_type": "display_data",
          "data": {
            "text/plain": "Training epoch 3::   0%|          | 0/4917 [00:00<?, ?it/s]",
            "application/vnd.jupyter.widget-view+json": {
              "version_major": 2,
              "version_minor": 0,
              "model_id": "dc6ee28288c344d1a267ee71e2e756c0"
            }
          },
          "metadata": {}
        },
        {
          "output_type": "display_data",
          "data": {
            "text/plain": "Training epoch 4::   0%|          | 0/4917 [00:00<?, ?it/s]",
            "application/vnd.jupyter.widget-view+json": {
              "version_major": 2,
              "version_minor": 0,
              "model_id": "5d298b05a7434ab2997712450e6d4307"
            }
          },
          "metadata": {}
        },
        {
          "output_type": "display_data",
          "data": {
            "text/plain": "Training epoch 5::   0%|          | 0/4917 [00:00<?, ?it/s]",
            "application/vnd.jupyter.widget-view+json": {
              "version_major": 2,
              "version_minor": 0,
              "model_id": "1d3447ef8af443a5a2dd25e0800ff192"
            }
          },
          "metadata": {}
        }
      ]
    },
    {
      "cell_type": "code",
      "source": [
        "plot_graph()\n",
        "print(f\"Лучшая perplexities: {(min(perplexities)):.2f}\")\n",
        "# generate_sequence(model, starting_seq='I have many favourite artists')"
      ],
      "metadata": {
        "execution": {
          "iopub.status.busy": "2024-03-18T18:23:13.726856Z",
          "iopub.execute_input": "2024-03-18T18:23:13.727234Z",
          "iopub.status.idle": "2024-03-18T18:23:14.343774Z",
          "shell.execute_reply.started": "2024-03-18T18:23:13.727206Z",
          "shell.execute_reply": "2024-03-18T18:23:14.342721Z"
        },
        "trusted": true,
        "id": "hQXyUN450hud",
        "outputId": "bb2119d4-4997-406f-9839-29d775f4aac2"
      },
      "execution_count": null,
      "outputs": [
        {
          "output_type": "display_data",
          "data": {
            "text/plain": "<Figure size 1000x500 with 2 Axes>",
            "image/png": "[encoded data removed]"
          },
          "metadata": {}
        },
        {
          "name": "stdout",
          "text": "Лучшая perplexities: 67.47\n",
          "output_type": "stream"
        }
      ]
    },
    {
      "cell_type": "code",
      "source": [
        "compare_df10 = pd.DataFrame({'perplexities': round(min(perplexities), 3),\n",
        "                            'type_RNN/num_layers': ['LSTM; num_layers = 2; df = 1000000'],\n",
        "                            'hidden_dim/num_of_nn.Linear/activation': ['512, 3; nn.ReLU'],\n",
        "                            'normalization': ['nn.Dropout(p=0.3)/BatchNormalization'],\n",
        "                            'optimizer/lr': ['Adam; 0.00052']}, index = ['experiment_8'])\n",
        "compare_df11 =  pd.concat((compare_df, compare_df10), axis = 0)\n",
        "compare_df = compare_df11\n",
        "compare_df.to_pickle(\"compare_result.df\", compression=\"gzip\")\n",
        "compare_df"
      ],
      "metadata": {
        "colab": {
          "base_uri": "https://localhost:8080/",
          "height": 300
        },
        "id": "cDeAgJPq4E4h",
        "outputId": "37797aba-9fa9-48b9-c6be-a515306503a3"
      },
      "execution_count": 5,
      "outputs": [
        {
          "output_type": "execute_result",
          "data": {
            "text/plain": [
              "              perplexities                 type_RNN/num_layers  \\\n",
              "experiment_1       106.597                GRU ; num_layers = 1   \n",
              "experiment_2       110.732                LSTM; num_layers = 2   \n",
              "experiment_3       115.413                LSTM; num_layers = 2   \n",
              "experiment_4       107.672                LSTM; num_layers = 2   \n",
              "experiment_5       113.441                LSTM; num_layers = 2   \n",
              "experiment_6       101.738                LSTM; num_layers = 2   \n",
              "experiment_7        71.810  LSTM; num_layers = 2; df = 1000000   \n",
              "experiment_8        67.468  LSTM; num_layers = 2; df = 1000000   \n",
              "\n",
              "             hidden_dim/num_of_nn.Linear/activation  \\\n",
              "experiment_1                        256, 2; nn.Tanh   \n",
              "experiment_2                        256, 2; nn.Tanh   \n",
              "experiment_3                        256, 2; nn.ReLU   \n",
              "experiment_4                        512, 3; nn.ReLU   \n",
              "experiment_5                        512, 3; nn.ReLU   \n",
              "experiment_6                        512, 3; nn.ReLU   \n",
              "experiment_7                        512, 3; nn.ReLU   \n",
              "experiment_8                        512, 3; nn.ReLU   \n",
              "\n",
              "                                     normalization           optimizer/lr  \n",
              "experiment_1                     nn.Dropout(p=0.1)            Adam; 0.001  \n",
              "experiment_2                     nn.Dropout(p=0.1)            Adam; 0.001  \n",
              "experiment_3                     nn.Dropout(p=0.3)            Adam; 0.001  \n",
              "experiment_4                     nn.Dropout(p=0.3)            Adam; 0.001  \n",
              "experiment_5                     nn.Dropout(p=0.3)         RMSprop; 0.001  \n",
              "experiment_6                     nn.Dropout(p=0.3)  Adam; StepLR(0.00052)  \n",
              "experiment_7                     nn.Dropout(p=0.3)          Adam; 0.00052  \n",
              "experiment_8  nn.Dropout(p=0.3)/BatchNormalization          Adam; 0.00052  "
            ],
            "text/html": [
              "\n",
              "  <div id=\"df-e17d7e69-83c6-4fca-8fcc-2f00756fdad0\" class=\"colab-df-container\">\n",
              "    <div>\n",
              "<style scoped>\n",
              "    .dataframe tbody tr th:only-of-type {\n",
              "        vertical-align: middle;\n",
              "    }\n",
              "\n",
              "    .dataframe tbody tr th {\n",
              "        vertical-align: top;\n",
              "    }\n",
              "\n",
              "    .dataframe thead th {\n",
              "        text-align: right;\n",
              "    }\n",
              "</style>\n",
              "<table border=\"1\" class=\"dataframe\">\n",
              "  <thead>\n",
              "    <tr style=\"text-align: right;\">\n",
              "      <th></th>\n",
              "      <th>perplexities</th>\n",
              "      <th>type_RNN/num_layers</th>\n",
              "      <th>hidden_dim/num_of_nn.Linear/activation</th>\n",
              "      <th>normalization</th>\n",
              "      <th>optimizer/lr</th>\n",
              "    </tr>\n",
              "  </thead>\n",
              "  <tbody>\n",
              "    <tr>\n",
              "      <th>experiment_1</th>\n",
              "      <td>106.597</td>\n",
              "      <td>GRU ; num_layers = 1</td>\n",
              "      <td>256, 2; nn.Tanh</td>\n",
              "      <td>nn.Dropout(p=0.1)</td>\n",
              "      <td>Adam; 0.001</td>\n",
              "    </tr>\n",
              "    <tr>\n",
              "      <th>experiment_2</th>\n",
              "      <td>110.732</td>\n",
              "      <td>LSTM; num_layers = 2</td>\n",
              "      <td>256, 2; nn.Tanh</td>\n",
              "      <td>nn.Dropout(p=0.1)</td>\n",
              "      <td>Adam; 0.001</td>\n",
              "    </tr>\n",
              "    <tr>\n",
              "      <th>experiment_3</th>\n",
              "      <td>115.413</td>\n",
              "      <td>LSTM; num_layers = 2</td>\n",
              "      <td>256, 2; nn.ReLU</td>\n",
              "      <td>nn.Dropout(p=0.3)</td>\n",
              "      <td>Adam; 0.001</td>\n",
              "    </tr>\n",
              "    <tr>\n",
              "      <th>experiment_4</th>\n",
              "      <td>107.672</td>\n",
              "      <td>LSTM; num_layers = 2</td>\n",
              "      <td>512, 3; nn.ReLU</td>\n",
              "      <td>nn.Dropout(p=0.3)</td>\n",
              "      <td>Adam; 0.001</td>\n",
              "    </tr>\n",
              "    <tr>\n",
              "      <th>experiment_5</th>\n",
              "      <td>113.441</td>\n",
              "      <td>LSTM; num_layers = 2</td>\n",
              "      <td>512, 3; nn.ReLU</td>\n",
              "      <td>nn.Dropout(p=0.3)</td>\n",
              "      <td>RMSprop; 0.001</td>\n",
              "    </tr>\n",
              "    <tr>\n",
              "      <th>experiment_6</th>\n",
              "      <td>101.738</td>\n",
              "      <td>LSTM; num_layers = 2</td>\n",
              "      <td>512, 3; nn.ReLU</td>\n",
              "      <td>nn.Dropout(p=0.3)</td>\n",
              "      <td>Adam; StepLR(0.00052)</td>\n",
              "    </tr>\n",
              "    <tr>\n",
              "      <th>experiment_7</th>\n",
              "      <td>71.810</td>\n",
              "      <td>LSTM; num_layers = 2; df = 1000000</td>\n",
              "      <td>512, 3; nn.ReLU</td>\n",
              "      <td>nn.Dropout(p=0.3)</td>\n",
              "      <td>Adam; 0.00052</td>\n",
              "    </tr>\n",
              "    <tr>\n",
              "      <th>experiment_8</th>\n",
              "      <td>67.468</td>\n",
              "      <td>LSTM; num_layers = 2; df = 1000000</td>\n",
              "      <td>512, 3; nn.ReLU</td>\n",
              "      <td>nn.Dropout(p=0.3)/BatchNormalization</td>\n",
              "      <td>Adam; 0.00052</td>\n",
              "    </tr>\n",
              "  </tbody>\n",
              "</table>\n",
              "</div>\n",
              "    <div class=\"colab-df-buttons\">\n",
              "\n",
              "  <div class=\"colab-df-container\">\n",
              "    <button class=\"colab-df-convert\" onclick=\"convertToInteractive('df-e17d7e69-83c6-4fca-8fcc-2f00756fdad0')\"\n",
              "            title=\"Convert this dataframe to an interactive table.\"\n",
              "            style=\"display:none;\">\n",
              "\n",
              "  <svg xmlns=\"http://www.w3.org/2000/svg\" height=\"24px\" viewBox=\"0 -960 960 960\">\n",
              "    <path d=\"M120-120v-720h720v720H120Zm60-500h600v-160H180v160Zm220 220h160v-160H400v160Zm0 220h160v-160H400v160ZM180-400h160v-160H180v160Zm440 0h160v-160H620v160ZM180-180h160v-160H180v160Zm440 0h160v-160H620v160Z\"/>\n",
              "  </svg>\n",
              "    </button>\n",
              "\n",
              "  <style>\n",
              "    .colab-df-container {\n",
              "      display:flex;\n",
              "      gap: 12px;\n",
              "    }\n",
              "\n",
              "    .colab-df-convert {\n",
              "      background-color: #E8F0FE;\n",
              "      border: none;\n",
              "      border-radius: 50%;\n",
              "      cursor: pointer;\n",
              "      display: none;\n",
              "      fill: #1967D2;\n",
              "      height: 32px;\n",
              "      padding: 0 0 0 0;\n",
              "      width: 32px;\n",
              "    }\n",
              "\n",
              "    .colab-df-convert:hover {\n",
              "      background-color: #E2EBFA;\n",
              "      box-shadow: 0px 1px 2px rgba(60, 64, 67, 0.3), 0px 1px 3px 1px rgba(60, 64, 67, 0.15);\n",
              "      fill: #174EA6;\n",
              "    }\n",
              "\n",
              "    .colab-df-buttons div {\n",
              "      margin-bottom: 4px;\n",
              "    }\n",
              "\n",
              "    [theme=dark] .colab-df-convert {\n",
              "      background-color: #3B4455;\n",
              "      fill: #D2E3FC;\n",
              "    }\n",
              "\n",
              "    [theme=dark] .colab-df-convert:hover {\n",
              "      background-color: #434B5C;\n",
              "      box-shadow: 0px 1px 3px 1px rgba(0, 0, 0, 0.15);\n",
              "      filter: drop-shadow(0px 1px 2px rgba(0, 0, 0, 0.3));\n",
              "      fill: #FFFFFF;\n",
              "    }\n",
              "  </style>\n",
              "\n",
              "    <script>\n",
              "      const buttonEl =\n",
              "        document.querySelector('#df-e17d7e69-83c6-4fca-8fcc-2f00756fdad0 button.colab-df-convert');\n",
              "      buttonEl.style.display =\n",
              "        google.colab.kernel.accessAllowed ? 'block' : 'none';\n",
              "\n",
              "      async function convertToInteractive(key) {\n",
              "        const element = document.querySelector('#df-e17d7e69-83c6-4fca-8fcc-2f00756fdad0');\n",
              "        const dataTable =\n",
              "          await google.colab.kernel.invokeFunction('convertToInteractive',\n",
              "                                                    [key], {});\n",
              "        if (!dataTable) return;\n",
              "\n",
              "        const docLinkHtml = 'Like what you see? Visit the ' +\n",
              "          '<a target=\"_blank\" href=https://colab.research.google.com/notebooks/data_table.ipynb>data table notebook</a>'\n",
              "          + ' to learn more about interactive tables.';\n",
              "        element.innerHTML = '';\n",
              "        dataTable['output_type'] = 'display_data';\n",
              "        await google.colab.output.renderOutput(dataTable, element);\n",
              "        const docLink = document.createElement('div');\n",
              "        docLink.innerHTML = docLinkHtml;\n",
              "        element.appendChild(docLink);\n",
              "      }\n",
              "    </script>\n",
              "  </div>\n",
              "\n",
              "\n",
              "<div id=\"df-221d7674-20ea-495e-9884-e7e16edb3e53\">\n",
              "  <button class=\"colab-df-quickchart\" onclick=\"quickchart('df-221d7674-20ea-495e-9884-e7e16edb3e53')\"\n",
              "            title=\"Suggest charts\"\n",
              "            style=\"display:none;\">\n",
              "\n",
              "<svg xmlns=\"http://www.w3.org/2000/svg\" height=\"24px\"viewBox=\"0 0 24 24\"\n",
              "     width=\"24px\">\n",
              "    <g>\n",
              "        <path d=\"M19 3H5c-1.1 0-2 .9-2 2v14c0 1.1.9 2 2 2h14c1.1 0 2-.9 2-2V5c0-1.1-.9-2-2-2zM9 17H7v-7h2v7zm4 0h-2V7h2v10zm4 0h-2v-4h2v4z\"/>\n",
              "    </g>\n",
              "</svg>\n",
              "  </button>\n",
              "\n",
              "<style>\n",
              "  .colab-df-quickchart {\n",
              "      --bg-color: #E8F0FE;\n",
              "      --fill-color: #1967D2;\n",
              "      --hover-bg-color: #E2EBFA;\n",
              "      --hover-fill-color: #174EA6;\n",
              "      --disabled-fill-color: #AAA;\n",
              "      --disabled-bg-color: #DDD;\n",
              "  }\n",
              "\n",
              "  [theme=dark] .colab-df-quickchart {\n",
              "      --bg-color: #3B4455;\n",
              "      --fill-color: #D2E3FC;\n",
              "      --hover-bg-color: #434B5C;\n",
              "      --hover-fill-color: #FFFFFF;\n",
              "      --disabled-bg-color: #3B4455;\n",
              "      --disabled-fill-color: #666;\n",
              "  }\n",
              "\n",
              "  .colab-df-quickchart {\n",
              "    background-color: var(--bg-color);\n",
              "    border: none;\n",
              "    border-radius: 50%;\n",
              "    cursor: pointer;\n",
              "    display: none;\n",
              "    fill: var(--fill-color);\n",
              "    height: 32px;\n",
              "    padding: 0;\n",
              "    width: 32px;\n",
              "  }\n",
              "\n",
              "  .colab-df-quickchart:hover {\n",
              "    background-color: var(--hover-bg-color);\n",
              "    box-shadow: 0 1px 2px rgba(60, 64, 67, 0.3), 0 1px 3px 1px rgba(60, 64, 67, 0.15);\n",
              "    fill: var(--button-hover-fill-color);\n",
              "  }\n",
              "\n",
              "  .colab-df-quickchart-complete:disabled,\n",
              "  .colab-df-quickchart-complete:disabled:hover {\n",
              "    background-color: var(--disabled-bg-color);\n",
              "    fill: var(--disabled-fill-color);\n",
              "    box-shadow: none;\n",
              "  }\n",
              "\n",
              "  .colab-df-spinner {\n",
              "    border: 2px solid var(--fill-color);\n",
              "    border-color: transparent;\n",
              "    border-bottom-color: var(--fill-color);\n",
              "    animation:\n",
              "      spin 1s steps(1) infinite;\n",
              "  }\n",
              "\n",
              "  @keyframes spin {\n",
              "    0% {\n",
              "      border-color: transparent;\n",
              "      border-bottom-color: var(--fill-color);\n",
              "      border-left-color: var(--fill-color);\n",
              "    }\n",
              "    20% {\n",
              "      border-color: transparent;\n",
              "      border-left-color: var(--fill-color);\n",
              "      border-top-color: var(--fill-color);\n",
              "    }\n",
              "    30% {\n",
              "      border-color: transparent;\n",
              "      border-left-color: var(--fill-color);\n",
              "      border-top-color: var(--fill-color);\n",
              "      border-right-color: var(--fill-color);\n",
              "    }\n",
              "    40% {\n",
              "      border-color: transparent;\n",
              "      border-right-color: var(--fill-color);\n",
              "      border-top-color: var(--fill-color);\n",
              "    }\n",
              "    60% {\n",
              "      border-color: transparent;\n",
              "      border-right-color: var(--fill-color);\n",
              "    }\n",
              "    80% {\n",
              "      border-color: transparent;\n",
              "      border-right-color: var(--fill-color);\n",
              "      border-bottom-color: var(--fill-color);\n",
              "    }\n",
              "    90% {\n",
              "      border-color: transparent;\n",
              "      border-bottom-color: var(--fill-color);\n",
              "    }\n",
              "  }\n",
              "</style>\n",
              "\n",
              "  <script>\n",
              "    async function quickchart(key) {\n",
              "      const quickchartButtonEl =\n",
              "        document.querySelector('#' + key + ' button');\n",
              "      quickchartButtonEl.disabled = true;  // To prevent multiple clicks.\n",
              "      quickchartButtonEl.classList.add('colab-df-spinner');\n",
              "      try {\n",
              "        const charts = await google.colab.kernel.invokeFunction(\n",
              "            'suggestCharts', [key], {});\n",
              "      } catch (error) {\n",
              "        console.error('Error during call to suggestCharts:', error);\n",
              "      }\n",
              "      quickchartButtonEl.classList.remove('colab-df-spinner');\n",
              "      quickchartButtonEl.classList.add('colab-df-quickchart-complete');\n",
              "    }\n",
              "    (() => {\n",
              "      let quickchartButtonEl =\n",
              "        document.querySelector('#df-221d7674-20ea-495e-9884-e7e16edb3e53 button');\n",
              "      quickchartButtonEl.style.display =\n",
              "        google.colab.kernel.accessAllowed ? 'block' : 'none';\n",
              "    })();\n",
              "  </script>\n",
              "</div>\n",
              "    </div>\n",
              "  </div>\n"
            ],
            "application/vnd.google.colaboratory.intrinsic+json": {
              "type": "dataframe",
              "variable_name": "compare_df",
              "summary": "{\n  \"name\": \"compare_df\",\n  \"rows\": 8,\n  \"fields\": [\n    {\n      \"column\": \"perplexities\",\n      \"properties\": {\n        \"dtype\": \"number\",\n        \"std\": 18.85476940373064,\n        \"min\": 67.468,\n        \"max\": 115.413,\n        \"num_unique_values\": 8,\n        \"samples\": [\n          110.732,\n          101.738,\n          106.597\n        ],\n        \"semantic_type\": \"\",\n        \"description\": \"\"\n      }\n    },\n    {\n      \"column\": \"type_RNN/num_layers\",\n      \"properties\": {\n        \"dtype\": \"category\",\n        \"num_unique_values\": 3,\n        \"samples\": [\n          \"GRU ; num_layers = 1\",\n          \"LSTM; num_layers = 2\",\n          \"LSTM; num_layers = 2; df = 1000000\"\n        ],\n        \"semantic_type\": \"\",\n        \"description\": \"\"\n      }\n    },\n    {\n      \"column\": \"hidden_dim/num_of_nn.Linear/activation\",\n      \"properties\": {\n        \"dtype\": \"category\",\n        \"num_unique_values\": 3,\n        \"samples\": [\n          \"256, 2; nn.Tanh\",\n          \"256, 2; nn.ReLU\",\n          \"512, 3; nn.ReLU\"\n        ],\n        \"semantic_type\": \"\",\n        \"description\": \"\"\n      }\n    },\n    {\n      \"column\": \"normalization\",\n      \"properties\": {\n        \"dtype\": \"category\",\n        \"num_unique_values\": 3,\n        \"samples\": [\n          \"nn.Dropout(p=0.1)\",\n          \"nn.Dropout(p=0.3)\",\n          \"nn.Dropout(p=0.3)/BatchNormalization\"\n        ],\n        \"semantic_type\": \"\",\n        \"description\": \"\"\n      }\n    },\n    {\n      \"column\": \"optimizer/lr\",\n      \"properties\": {\n        \"dtype\": \"string\",\n        \"num_unique_values\": 4,\n        \"samples\": [\n          \"RMSprop; 0.001\",\n          \"Adam; 0.00052\",\n          \"Adam; 0.001\"\n        ],\n        \"semantic_type\": \"\",\n        \"description\": \"\"\n      }\n    }\n  ]\n}"
            }
          },
          "metadata": {},
          "execution_count": 5
        }
      ]
    },
    {
      "cell_type": "markdown",
      "source": [
        "### Отчет (2 балла)\n",
        "\n",
        "* Опишите проведенные эксперименты.\n",
        "\n",
        "> В ходе работы было зафиксировано 8 экспериментов (6 экспериментов проводлилось только на части датасета  - train), в ходе которых:\n",
        "\n",
        "\n",
        "1. изменялся тип rnn c GRU (1 ячейка) на LSTM (2 ячейки)\n",
        "2. изменялась функция активации с nn.Tanh на ReLU (также пробавлась Sigmoid, качество резко упало, результат не стала фиксировать, чтобы не перегружать ноутбук)\n",
        "3. изменялся hidden_dim c 256 до 512\n",
        "4. увеличивался Dropout\n",
        "5. изменялся оптимизатор на RMSprop\n",
        "6. был выполнен поиск лучшего learning_rate c помощью StepLR для оптимизатора Adam\n",
        "7. был увеличен размер датасета до максимума\n",
        "8. применение BatchNormalization\n",
        "\n",
        " (пробовала функцию потерь SGD, качество резко упало, результат не стала фиксировать, чтобы не перегружать ноутбук)\n",
        "\n",
        "* Сравните перплексии полученных моделей.\n",
        "\n",
        "> Первые 6 экспериментов не сильно отличались по значению перплексии - она колебалась от 100 до 115, резкое увеличение перплексии возникло с оптимизатором SGD, с функцией активации Sigmoid.\n",
        "\n",
        "> Значительное уменьшении перплексии удалось получить при увеличении датасета до 100 000 при соединении всех частей - **результат 71.8**. Применение BatchNormalization даёт еще улучшение, **лучший результат 67.4**\n",
        "\n",
        "* Предложите идеи по улучшению качества моделей.\n",
        "\n",
        "1. Дополнять датасет большим количеством данных\n",
        "2. Пробовать другие виды нормализации\n",
        "3. Пробовать другие методы подбора learning_rate\n",
        "4. Пробовать другие алгоритмы (beam_search/top_k/top_p)\n",
        "\n",
        "\n",
        "\n",
        "\n"
      ],
      "metadata": {
        "id": "P1Z9MlAf2MZZ"
      }
    }
  ]
}